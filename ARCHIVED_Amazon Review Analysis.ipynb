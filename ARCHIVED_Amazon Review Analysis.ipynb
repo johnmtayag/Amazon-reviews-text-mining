{
 "cells": [
  {
   "cell_type": "markdown",
   "id": "95dff100",
   "metadata": {},
   "source": [
    "# Analyzing Customer Reviews from Amazon\n",
    "\n",
    "### Analysis of the data and Rating prediction\n",
    "\n",
    "The purpose of this project is to analyze customer reviews of different headphones listings on Amazon. The reviews will be split into \"good\" and \"bad\" sets, and the review texts will be processed into tokens consisting of individual words. These will form the \"good\" and \"bad\" review corpuses that will be analyzed to determine the most important words in either good and bad review sets. They will also be used to predict if a review will be \"good\" or \"bad.\"\n",
    "\n",
    "This analysis has many real-world applications. While customers can manually include ratings for the product in their reviews, this rating is only an overall statement"
   ]
  },
  {
   "cell_type": "code",
   "execution_count": 1,
   "id": "9186ca6b",
   "metadata": {
    "scrolled": true
   },
   "outputs": [
    {
     "name": "stdout",
     "output_type": "stream",
     "text": [
      "package 'tm' successfully unpacked and MD5 sums checked\n",
      "\n",
      "The downloaded binary packages are in\n",
      "\tC:\\Users\\johnt\\AppData\\Local\\Temp\\Rtmp0I1Y89\\downloaded_packages\n",
      "package 'SnowballC' successfully unpacked and MD5 sums checked\n",
      "\n",
      "The downloaded binary packages are in\n",
      "\tC:\\Users\\johnt\\AppData\\Local\\Temp\\Rtmp0I1Y89\\downloaded_packages\n",
      "\n",
      "  There is a binary version available but the source version is later:\n",
      "        binary source needs_compilation\n",
      "ggplot2  3.3.3  3.3.6             FALSE\n",
      "\n"
     ]
    },
    {
     "name": "stderr",
     "output_type": "stream",
     "text": [
      "installing the source package 'ggplot2'\n",
      "\n"
     ]
    },
    {
     "name": "stdout",
     "output_type": "stream",
     "text": [
      "package 'wordcloud' successfully unpacked and MD5 sums checked\n",
      "\n",
      "The downloaded binary packages are in\n",
      "\tC:\\Users\\johnt\\AppData\\Local\\Temp\\Rtmp0I1Y89\\downloaded_packages\n",
      "\n",
      "  There is a binary version available but the source version is later:\n",
      "             binary source needs_compilation\n",
      "RColorBrewer  1.1-2  1.1-3             FALSE\n",
      "\n"
     ]
    },
    {
     "name": "stderr",
     "output_type": "stream",
     "text": [
      "installing the source package 'RColorBrewer'\n",
      "\n"
     ]
    },
    {
     "name": "stdout",
     "output_type": "stream",
     "text": [
      "\n",
      "  There is a binary version available but the source version is later:\n",
      "      binary source needs_compilation\n",
      "e1071  1.7-6 1.7-11              TRUE\n",
      "\n",
      "  Binaries will be installed\n",
      "package 'e1071' successfully unpacked and MD5 sums checked\n",
      "\n",
      "The downloaded binary packages are in\n",
      "\tC:\\Users\\johnt\\AppData\\Local\\Temp\\Rtmp0I1Y89\\downloaded_packages\n"
     ]
    },
    {
     "name": "stderr",
     "output_type": "stream",
     "text": [
      "Warning message:\n",
      "\"package 'tm' was built under R version 3.6.3\"Loading required package: NLP\n",
      "Warning message:\n",
      "\"package 'NLP' was built under R version 3.6.3\"Warning message:\n",
      "\"package 'SnowballC' was built under R version 3.6.3\"\n",
      "Attaching package: 'ggplot2'\n",
      "\n",
      "The following object is masked from 'package:NLP':\n",
      "\n",
      "    annotate\n",
      "\n",
      "Warning message:\n",
      "\"package 'wordcloud' was built under R version 3.6.3\"Loading required package: RColorBrewer\n",
      "Warning message:\n",
      "\"package 'e1071' was built under R version 3.6.3\""
     ]
    }
   ],
   "source": [
    "### Installation of packages\n",
    "\n",
    "# tm: Text mining packge\n",
    "# SnowballC: Stopwords dictionary\n",
    "# ggplot2: Plotting data\n",
    "# wordcloud: Making word clouds from the data\n",
    "# RColorBrewer: Additional color palettes for plots\n",
    "# e1071: SVM modeling\n",
    "\n",
    "install.packages('tm')\n",
    "install.packages('SnowballC')\n",
    "install.packages('ggplot2')\n",
    "install.packages('wordcloud')\n",
    "install.packages('RColorBrewer')\n",
    "install.packages('e1071')\n",
    "\n",
    "library(tm)\n",
    "library(SnowballC)\n",
    "library(ggplot2)\n",
    "library(wordcloud)\n",
    "library(RColorBrewer)\n",
    "library(e1071)"
   ]
  },
  {
   "cell_type": "code",
   "execution_count": 2,
   "id": "14982b40",
   "metadata": {
    "scrolled": true,
    "tags": []
   },
   "outputs": [
    {
     "name": "stdout",
     "output_type": "stream",
     "text": [
      "Number of columns: 4 \n",
      "Number of rows: 14337"
     ]
    },
    {
     "data": {
      "text/html": [
       "<table>\n",
       "<thead><tr><th scope=col>ReviewTitle</th><th scope=col>ReviewBody</th><th scope=col>ReviewStar</th><th scope=col>Product</th></tr></thead>\n",
       "<tbody>\n",
       "\t<tr><td>Honest review of an edm music lover\n",
       "                                                                                                                                                                                                                                                                                                                                                                                                                                                                </td><td>No doubt it has a great bass and to a great extent noise cancellation and decent sound clarity and mindblowing battery but the following dissapointed me though i tried a lot to adjust.1.Bluetooth range not more than 10m2. Pain in ear due the conical buds(can be removed)3. Wires are a bit long which makes it odd in front.4. No pouch provided.5. Worst part is very low quality and distoring mic. Other person keeps complaining about my voice.\n",
       "                                         </td><td>3                                                                                                                                                                                                                                                                                                                                                                                                                                                                                                    </td><td>boAt Rockerz 255                                                                                                                                                                                                                                                                                                                                                                                                                                                                                     </td></tr>\n",
       "\t<tr><td><span style=white-space:pre-wrap>Unreliable earphones with high cost\n",
       "                      </span>                                                                                                                                                                                                                                                                                                                                                                                                                                                </td><td><span style=white-space:pre-wrap>This  earphones are unreliable, i bought it before 15 days meanwhile right side ear buds got cracked automatically and it got divided in two parts, and sound quality is also not that much good but ok, one more thing bass is not good as it is a boat earphones.Guys,Also for the proof i have attached picsPlease see and think before buying&lt;U+200B&gt; this unreliable product.Thanks.\n",
       "                                                                                                          </span></td><td>1                                                                                                                                                                                                                                                                                                                                                                                                                                                                                                                                                  </td><td>boAt Rockerz 255                                                                                                                                                                                                                                                                                                                                                                                                                                                                                                                                   </td></tr>\n",
       "\t<tr><td>Really good and durable.\n",
       "                                                                                                                                                                                                                                                                                                                                                                                                                                                                           </td><td>i bought itfor 999,I purchased it second time, gifted first one to brother. This is really good.Sound quality is really good.You can connect 2 devices at a time.I connect laptop and mobile both.when listening muaic on Lappy, if u get a call, it switches to mobile,this switch between device is not good but again in this price its awesome.Battery stand by is 36 hours for me, and i have used it continously for 8 hours in one go. So Battery life is pretty awesome.Comfortable on ear.\n",
       "</td><td>4                                                                                                                                                                                                                                                                                                                                                                                                                                                                                                    </td><td>boAt Rockerz 255                                                                                                                                                                                                                                                                                                                                                                                                                                                                                     </td></tr>\n",
       "\t<tr><td>stopped working in just 14 days\n",
       "                                                                                                                                                                                                                                                                                                                                                                                                                                                                    </td><td>Its sound quality is adorable. overall it was good but just for 2 weeks after that it stopped working and since then it never powered on again. I am claiming for warrenty and it is still undergoing.\n",
       "                                                                                                                                                                                                                                                                                             </td><td>1                                                                                                                                                                                                                                                                                                                                                                                                                                                                                                    </td><td>boAt Rockerz 255                                                                                                                                                                                                                                                                                                                                                                                                                                                                                     </td></tr>\n",
       "\t<tr><td>Just Awesome Wireless Headphone under 1000...&lt;U+0001F609&gt;\n",
       "                                                                                                                                                                                                                                                                                                                                                                                                                                                                                      </td><td><span style=white-space:pre-wrap>Its Awesome... Good sound quality &amp; 8-9 hrs battery life... Just waww look... &lt;U+0001F609&gt; I brought just 999 rupees...But Amazon's Packageing system is Very bad... Very poor packaging... Flipcart's packaging system is much better than Amazon...\n",
       "                                                                                                                                                                                                                                              </span></td><td>5                                                                                                                                                                                                                                                                                                                                                                                                                                                                                                                                                      </td><td>boAt Rockerz 255                                                                                                                                                                                                                                                                                                                                                                                                                                                                                                                                       </td></tr>\n",
       "\t<tr><td>Charging port not working\n",
       "                                                                                                                                                                                                                                                                                                                                                                                                                                                                          </td><td>After 11 days, the charging port isn't working and now I can't even return it. Wat to do ?? I know there is one year warranty but it is only been 11 days. C'mon boat, please send me new one.\n",
       "                                                                                                                                                                                                                                                                                                     </td><td>1                                                                                                                                                                                                                                                                                                                                                                                                                                                                                                    </td><td>boAt Rockerz 255                                                                                                                                                                                                                                                                                                                                                                                                                                                                                     </td></tr>\n",
       "</tbody>\n",
       "</table>\n"
      ],
      "text/latex": [
       "\\begin{tabular}{r|llll}\n",
       " ReviewTitle & ReviewBody & ReviewStar & Product\\\\\n",
       "\\hline\n",
       "\t Honest review of an edm music lover\n",
       "                                                                                                                                                                                                                                                                                                                                                                                                                                                                 & No doubt it has a great bass and to a great extent noise cancellation and decent sound clarity and mindblowing battery but the following dissapointed me though i tried a lot to adjust.1.Bluetooth range not more than 10m2. Pain in ear due the conical buds(can be removed)3. Wires are a bit long which makes it odd in front.4. No pouch provided.5. Worst part is very low quality and distoring mic. Other person keeps complaining about my voice.\n",
       "                                          & 3                                                                                                                                                                                                                                                                                                                                                                                                                                                                                                     & boAt Rockerz 255                                                                                                                                                                                                                                                                                                                                                                                                                                                                                     \\\\\n",
       "\t Unreliable earphones with high cost\n",
       "                                                                                                                                                                                                                                                                                                                                                                                                                                                                 & This  earphones are unreliable, i bought it before 15 days meanwhile right side ear buds got cracked automatically and it got divided in two parts, and sound quality is also not that much good but ok, one more thing bass is not good as it is a boat earphones.Guys,Also for the proof i have attached picsPlease see and think before buying<U+200B> this unreliable product.Thanks.\n",
       "                                                                                                           & 1                                                                                                                                                                                                                                                                                                                                                                                                                                                                                                     & boAt Rockerz 255                                                                                                                                                                                                                                                                                                                                                                                                                                                                                     \\\\\n",
       "\t Really good and durable.\n",
       "                                                                                                                                                                                                                                                                                                                                                                                                                                                                            & i bought itfor 999,I purchased it second time, gifted first one to brother. This is really good.Sound quality is really good.You can connect 2 devices at a time.I connect laptop and mobile both.when listening muaic on Lappy, if u get a call, it switches to mobile,this switch between device is not good but again in this price its awesome.Battery stand by is 36 hours for me, and i have used it continously for 8 hours in one go. So Battery life is pretty awesome.Comfortable on ear.\n",
       " & 4                                                                                                                                                                                                                                                                                                                                                                                                                                                                                                     & boAt Rockerz 255                                                                                                                                                                                                                                                                                                                                                                                                                                                                                     \\\\\n",
       "\t stopped working in just 14 days\n",
       "                                                                                                                                                                                                                                                                                                                                                                                                                                                                     & Its sound quality is adorable. overall it was good but just for 2 weeks after that it stopped working and since then it never powered on again. I am claiming for warrenty and it is still undergoing.\n",
       "                                                                                                                                                                                                                                                                                              & 1                                                                                                                                                                                                                                                                                                                                                                                                                                                                                                     & boAt Rockerz 255                                                                                                                                                                                                                                                                                                                                                                                                                                                                                     \\\\\n",
       "\t Just Awesome Wireless Headphone under 1000...<U+0001F609>\n",
       "                                                                                                                                                                                                                                                                                                                                                                                                                                             & Its Awesome... Good sound quality \\& 8-9 hrs battery life... Just waww look... <U+0001F609> I brought just 999 rupees...But Amazon's Packageing system is Very bad... Very poor packaging... Flipcart's packaging system is much better than Amazon...\n",
       "                                                                                                                                                                                                                                               & 5                                                                                                                                                                                                                                                                                                                                                                                                                                                                                                       & boAt Rockerz 255                                                                                                                                                                                                                                                                                                                                                                                                                                                                                       \\\\\n",
       "\t Charging port not working\n",
       "                                                                                                                                                                                                                                                                                                                                                                                                                                                                           & After 11 days, the charging port isn't working and now I can't even return it. Wat to do ?? I know there is one year warranty but it is only been 11 days. C'mon boat, please send me new one.\n",
       "                                                                                                                                                                                                                                                                                                      & 1                                                                                                                                                                                                                                                                                                                                                                                                                                                                                                     & boAt Rockerz 255                                                                                                                                                                                                                                                                                                                                                                                                                                                                                     \\\\\n",
       "\\end{tabular}\n"
      ],
      "text/markdown": [
       "\n",
       "| ReviewTitle | ReviewBody | ReviewStar | Product |\n",
       "|---|---|---|---|\n",
       "| Honest review of an edm music lover\n",
       "                                                                                                                                                                                                                                                                                                                                                                                                                                                                 | No doubt it has a great bass and to a great extent noise cancellation and decent sound clarity and mindblowing battery but the following dissapointed me though i tried a lot to adjust.1.Bluetooth range not more than 10m2. Pain in ear due the conical buds(can be removed)3. Wires are a bit long which makes it odd in front.4. No pouch provided.5. Worst part is very low quality and distoring mic. Other person keeps complaining about my voice.\n",
       "                                          | 3                                                                                                                                                                                                                                                                                                                                                                                                                                                                                                     | boAt Rockerz 255                                                                                                                                                                                                                                                                                                                                                                                                                                                                                      |\n",
       "| Unreliable earphones with high cost\n",
       "                                                                                                                                                                                                                                                                                                                                                                                                                                                                 | This  earphones are unreliable, i bought it before 15 days meanwhile right side ear buds got cracked automatically and it got divided in two parts, and sound quality is also not that much good but ok, one more thing bass is not good as it is a boat earphones.Guys,Also for the proof i have attached picsPlease see and think before buying<U+200B> this unreliable product.Thanks.\n",
       "                                                                                                           | 1                                                                                                                                                                                                                                                                                                                                                                                                                                                                                                     | boAt Rockerz 255                                                                                                                                                                                                                                                                                                                                                                                                                                                                                      |\n",
       "| Really good and durable.\n",
       "                                                                                                                                                                                                                                                                                                                                                                                                                                                                            | i bought itfor 999,I purchased it second time, gifted first one to brother. This is really good.Sound quality is really good.You can connect 2 devices at a time.I connect laptop and mobile both.when listening muaic on Lappy, if u get a call, it switches to mobile,this switch between device is not good but again in this price its awesome.Battery stand by is 36 hours for me, and i have used it continously for 8 hours in one go. So Battery life is pretty awesome.Comfortable on ear.\n",
       " | 4                                                                                                                                                                                                                                                                                                                                                                                                                                                                                                     | boAt Rockerz 255                                                                                                                                                                                                                                                                                                                                                                                                                                                                                      |\n",
       "| stopped working in just 14 days\n",
       "                                                                                                                                                                                                                                                                                                                                                                                                                                                                     | Its sound quality is adorable. overall it was good but just for 2 weeks after that it stopped working and since then it never powered on again. I am claiming for warrenty and it is still undergoing.\n",
       "                                                                                                                                                                                                                                                                                              | 1                                                                                                                                                                                                                                                                                                                                                                                                                                                                                                     | boAt Rockerz 255                                                                                                                                                                                                                                                                                                                                                                                                                                                                                      |\n",
       "| Just Awesome Wireless Headphone under 1000...<U+0001F609>\n",
       "                                                                                                                                                                                                                                                                                                                                                                                                                                           | Its Awesome... Good sound quality & 8-9 hrs battery life... Just waww look... <U+0001F609> I brought just 999 rupees...But Amazon's Packageing system is Very bad... Very poor packaging... Flipcart's packaging system is much better than Amazon...\n",
       "                                                                                                                                                                                                                                               | 5                                                                                                                                                                                                                                                                                                                                                                                                                                                                                                     | boAt Rockerz 255                                                                                                                                                                                                                                                                                                                                                                                                                                                                                      |\n",
       "| Charging port not working\n",
       "                                                                                                                                                                                                                                                                                                                                                                                                                                                                           | After 11 days, the charging port isn't working and now I can't even return it. Wat to do ?? I know there is one year warranty but it is only been 11 days. C'mon boat, please send me new one.\n",
       "                                                                                                                                                                                                                                                                                                      | 1                                                                                                                                                                                                                                                                                                                                                                                                                                                                                                     | boAt Rockerz 255                                                                                                                                                                                                                                                                                                                                                                                                                                                                                      |\n",
       "\n"
      ],
      "text/plain": [
       "  ReviewTitle                                                \n",
       "1 Honest review of an edm music lover\\n                      \n",
       "2 Unreliable earphones with high cost\\n                      \n",
       "3 Really good and durable.\\n                                 \n",
       "4 stopped working in just 14 days\\n                          \n",
       "5 Just Awesome Wireless Headphone under 1000...<U+0001F609>\\n\n",
       "6 Charging port not working\\n                                \n",
       "  ReviewBody                                                                                                                                                                                                                                                                                                                                                                                                                                                                                           \n",
       "1 No doubt it has a great bass and to a great extent noise cancellation and decent sound clarity and mindblowing battery but the following dissapointed me though i tried a lot to adjust.1.Bluetooth range not more than 10m2. Pain in ear due the conical buds(can be removed)3. Wires are a bit long which makes it odd in front.4. No pouch provided.5. Worst part is very low quality and distoring mic. Other person keeps complaining about my voice.\\n                                         \n",
       "2 This  earphones are unreliable, i bought it before 15 days meanwhile right side ear buds got cracked automatically and it got divided in two parts, and sound quality is also not that much good but ok, one more thing bass is not good as it is a boat earphones.Guys,Also for the proof i have attached picsPlease see and think before buying<U+200B> this unreliable product.Thanks.\\n                                                                                                          \n",
       "3 i bought itfor 999,I purchased it second time, gifted first one to brother. This is really good.Sound quality is really good.You can connect 2 devices at a time.I connect laptop and mobile both.when listening muaic on Lappy, if u get a call, it switches to mobile,this switch between device is not good but again in this price its awesome.Battery stand by is 36 hours for me, and i have used it continously for 8 hours in one go. So Battery life is pretty awesome.Comfortable on ear.\\n\n",
       "4 Its sound quality is adorable. overall it was good but just for 2 weeks after that it stopped working and since then it never powered on again. I am claiming for warrenty and it is still undergoing.\\n                                                                                                                                                                                                                                                                                             \n",
       "5 Its Awesome... Good sound quality & 8-9 hrs battery life... Just waww look... <U+0001F609> I brought just 999 rupees...But Amazon's Packageing system is Very bad... Very poor packaging... Flipcart's packaging system is much better than Amazon...\\n                                                                                                                                                                                                                                              \n",
       "6 After 11 days, the charging port isn't working and now I can't even return it. Wat to do ?? I know there is one year warranty but it is only been 11 days. C'mon boat, please send me new one.\\n                                                                                                                                                                                                                                                                                                     \n",
       "  ReviewStar Product         \n",
       "1 3          boAt Rockerz 255\n",
       "2 1          boAt Rockerz 255\n",
       "3 4          boAt Rockerz 255\n",
       "4 1          boAt Rockerz 255\n",
       "5 5          boAt Rockerz 255\n",
       "6 1          boAt Rockerz 255"
      ]
     },
     "metadata": {},
     "output_type": "display_data"
    }
   ],
   "source": [
    "### Importing the review dataset\n",
    "\n",
    "df_data = read.csv(\"AllProductReviews.csv\", encoding = 'UTF-8')\n",
    "\n",
    "n_reviews = nrow(df_data)\n",
    "\n",
    "cat('Number of columns:', length(df_data), '\\n')\n",
    "cat('Number of rows:', n_reviews)\n",
    "\n",
    "head(df_data)"
   ]
  },
  {
   "cell_type": "markdown",
   "id": "9a83c5cc",
   "metadata": {},
   "source": [
    "### To facilitate easier processing, I will assign good reviews to '1' and bad reviews to '0'"
   ]
  },
  {
   "cell_type": "code",
   "execution_count": 3,
   "id": "ba29fa9f",
   "metadata": {
    "scrolled": true,
    "tags": []
   },
   "outputs": [
    {
     "name": "stdout",
     "output_type": "stream",
     "text": [
      "Number of 1 star reviews: 2493 \n",
      "Number of 2 star reviews: 939 \n",
      "Number of 3 star reviews: 1503 \n",
      "Number of 4 star reviews: 3189 \n",
      "Number of 5 star reviews: 6213 \n"
     ]
    },
    {
     "data": {
      "image/png": "[encoded data removed]",
      "text/plain": [
       "plot without title"
      ]
     },
     "metadata": {},
     "output_type": "display_data"
    }
   ],
   "source": [
    "### View the number of reviews from each rating\n",
    "\n",
    "rating = c(1,2,3,4,5)  # Amazon uses a 5 star rating system\n",
    "ratingnum = c()\n",
    "\n",
    "for (i in rating) {\n",
    "    # Loop through rating values and add number of reviews for that value to ratingnum\n",
    "    ratingnum = c(ratingnum, length(df_data[df_data$ReviewStar == i, 3]) )\n",
    "    \n",
    "    # Print the number\n",
    "    cat('Number of', i, 'star reviews:', ratingnum[i], '\\n')\n",
    "}\n",
    "\n",
    "# Convert to a dataframe\n",
    "ratingdata = data.frame(rating = rating, ratingnum = ratingnum)\n",
    "\n",
    "# Plot in a bar chart\n",
    "ggplot(ratingdata, aes(x = '', y = ratingnum, fill = rating, color = rating)) +\n",
    "  geom_bar(stat = 'identity', color = 'white') +\n",
    "  coord_polar('y') +\n",
    "  theme_void() +\n",
    "  ggtitle('Number of reviews for each rating number')"
   ]
  },
  {
   "cell_type": "code",
   "execution_count": 4,
   "id": "b55c9a32",
   "metadata": {},
   "outputs": [],
   "source": [
    "# Combined: Column that combines the ReviewTitle and ReviewBody contents\n",
    "df_data$Combined = paste(df_data[[1]], df_data[[2]])"
   ]
  },
  {
   "cell_type": "markdown",
   "id": "336e50ff",
   "metadata": {},
   "source": [
    "## Binning the reviews into categories and merging title/body text\n",
    "\n",
    "The number of 5 star reviews is larger than the number of 1, 2, and 3 star reviews combined - the number of 2 star reviews doesn't even break 1000. The data is thus skewed, and if machine learning algorithms are run with the current 5 categories, it would likely be innaccurate.\n",
    "\n",
    "From a business's perspective, though, customer satisfaction is key - any rating lower than perfect can be considered bad. If the customer left a low rating, they were unsatisfied with something, and discovering these issues is important for guiding product development.\n",
    "\n",
    "I will create two class bins - \"good\" reviews consisting of 4/5 star reviews, and \"bad\" reviews consisting of all others (1-3 star reviews). This is technically still skewed toward the good review category, but this is a fairly accurate representation of sentiment - a 4 star rating or better would typically be considered good on a 5 star spectrum.\n",
    "\n",
    "I will also merge the title with the body into a single text block - this is because the title acts as a summarized version of the review where the most important criticism is noted."
   ]
  },
  {
   "cell_type": "code",
   "execution_count": 5,
   "id": "6836bc44",
   "metadata": {},
   "outputs": [
    {
     "data": {
      "text/html": [
       "<table>\n",
       "<thead><tr><th scope=col>ReviewTitle</th><th scope=col>ReviewBody</th><th scope=col>ReviewStar</th><th scope=col>Product</th><th scope=col>Combined</th></tr></thead>\n",
       "<tbody>\n",
       "\t<tr><td>Honest review of an edm music lover\n",
       "                                                                                                                                                                                                                                                                                                                                                                                                                                                                                           </td><td>No doubt it has a great bass and to a great extent noise cancellation and decent sound clarity and mindblowing battery but the following dissapointed me though i tried a lot to adjust.1.Bluetooth range not more than 10m2. Pain in ear due the conical buds(can be removed)3. Wires are a bit long which makes it odd in front.4. No pouch provided.5. Worst part is very low quality and distoring mic. Other person keeps complaining about my voice.\n",
       "                                                                    </td><td>0                                                                                                                                                                                                                                                                                                                                                                                                                                                                                                                               </td><td>boAt Rockerz 255                                                                                                                                                                                                                                                                                                                                                                                                                                                                                                                </td><td>Honest review of an edm music lover\n",
       " No doubt it has a great bass and to a great extent noise cancellation and decent sound clarity and mindblowing battery but the following dissapointed me though i tried a lot to adjust.1.Bluetooth range not more than 10m2. Pain in ear due the conical buds(can be removed)3. Wires are a bit long which makes it odd in front.4. No pouch provided.5. Worst part is very low quality and distoring mic. Other person keeps complaining about my voice.\n",
       "                              </td></tr>\n",
       "\t<tr><td><span style=white-space:pre-wrap>Unreliable earphones with high cost\n",
       "                      </span>                                                                                                                                                                                                                                                                                                                                                                                                                                                                           </td><td><span style=white-space:pre-wrap>This  earphones are unreliable, i bought it before 15 days meanwhile right side ear buds got cracked automatically and it got divided in two parts, and sound quality is also not that much good but ok, one more thing bass is not good as it is a boat earphones.Guys,Also for the proof i have attached picsPlease see and think before buying&lt;U+200B&gt; this unreliable product.Thanks.\n",
       "                                                                                                          </span>                           </td><td>0                                                                                                                                                                                                                                                                                                                                                                                                                                                                                                                                                                             </td><td>boAt Rockerz 255                                                                                                                                                                                                                                                                                                                                                                                                                                                                                                                                                              </td><td><span style=white-space:pre-wrap>Unreliable earphones with high cost\n",
       " This  earphones are unreliable, i bought it before 15 days meanwhile right side ear buds got cracked automatically and it got divided in two parts, and sound quality is also not that much good but ok, one more thing bass is not good as it is a boat earphones.Guys,Also for the proof i have attached picsPlease see and think before buying&lt;U+200B&gt; this unreliable product.Thanks.\n",
       "                                                                                               </span></td></tr>\n",
       "\t<tr><td>Really good and durable.\n",
       "                                                                                                                                                                                                                                                                                                                                                                                                                                                                                                      </td><td>i bought itfor 999,I purchased it second time, gifted first one to brother. This is really good.Sound quality is really good.You can connect 2 devices at a time.I connect laptop and mobile both.when listening muaic on Lappy, if u get a call, it switches to mobile,this switch between device is not good but again in this price its awesome.Battery stand by is 36 hours for me, and i have used it continously for 8 hours in one go. So Battery life is pretty awesome.Comfortable on ear.\n",
       "                           </td><td>1                                                                                                                                                                                                                                                                                                                                                                                                                                                                                                                               </td><td>boAt Rockerz 255                                                                                                                                                                                                                                                                                                                                                                                                                                                                                                                </td><td>Really good and durable.\n",
       " i bought itfor 999,I purchased it second time, gifted first one to brother. This is really good.Sound quality is really good.You can connect 2 devices at a time.I connect laptop and mobile both.when listening muaic on Lappy, if u get a call, it switches to mobile,this switch between device is not good but again in this price its awesome.Battery stand by is 36 hours for me, and i have used it continously for 8 hours in one go. So Battery life is pretty awesome.Comfortable on ear.\n",
       "</td></tr>\n",
       "\t<tr><td>stopped working in just 14 days\n",
       "                                                                                                                                                                                                                                                                                                                                                                                                                                                                                               </td><td>Its sound quality is adorable. overall it was good but just for 2 weeks after that it stopped working and since then it never powered on again. I am claiming for warrenty and it is still undergoing.\n",
       "                                                                                                                                                                                                                                                                                                                        </td><td>0                                                                                                                                                                                                                                                                                                                                                                                                                                                                                                                               </td><td>boAt Rockerz 255                                                                                                                                                                                                                                                                                                                                                                                                                                                                                                                </td><td>stopped working in just 14 days\n",
       " Its sound quality is adorable. overall it was good but just for 2 weeks after that it stopped working and since then it never powered on again. I am claiming for warrenty and it is still undergoing.\n",
       "                                                                                                                                                                                                                                                                                      </td></tr>\n",
       "\t<tr><td>Just Awesome Wireless Headphone under 1000...&lt;U+0001F609&gt;\n",
       "                                                                                                                                                                                                                                                                                                                                                                                                                                                                                                                       </td><td><span style=white-space:pre-wrap>Its Awesome... Good sound quality &amp; 8-9 hrs battery life... Just waww look... &lt;U+0001F609&gt; I brought just 999 rupees...But Amazon's Packageing system is Very bad... Very poor packaging... Flipcart's packaging system is much better than Amazon...\n",
       "                                                                                                                                                                                                                                              </span>                                 </td><td>1                                                                                                                                                                                                                                                                                                                                                                                                                                                                                                                                                                                       </td><td>boAt Rockerz 255                                                                                                                                                                                                                                                                                                                                                                                                                                                                                                                                                                        </td><td><span style=white-space:pre-wrap>Just Awesome Wireless Headphone under 1000...&lt;U+0001F609&gt;\n",
       " Its Awesome... Good sound quality &amp; 8-9 hrs battery life... Just waww look... &lt;U+0001F609&gt; I brought just 999 rupees...But Amazon's Packageing system is Very bad... Very poor packaging... Flipcart's packaging system is much better than Amazon...\n",
       "                                                                                                                                                                                                             </span></td></tr>\n",
       "\t<tr><td>Charging port not working\n",
       "                                                                                                                                                                                                                                                                                                                                                                                                                                                                                                     </td><td>After 11 days, the charging port isn't working and now I can't even return it. Wat to do ?? I know there is one year warranty but it is only been 11 days. C'mon boat, please send me new one.\n",
       "                                                                                                                                                                                                                                                                                                                                </td><td>0                                                                                                                                                                                                                                                                                                                                                                                                                                                                                                                               </td><td>boAt Rockerz 255                                                                                                                                                                                                                                                                                                                                                                                                                                                                                                                </td><td>Charging port not working\n",
       " After 11 days, the charging port isn't working and now I can't even return it. Wat to do ?? I know there is one year warranty but it is only been 11 days. C'mon boat, please send me new one.\n",
       "                                                                                                                                                                                                                                                                                                    </td></tr>\n",
       "</tbody>\n",
       "</table>\n"
      ],
      "text/latex": [
       "\\begin{tabular}{r|lllll}\n",
       " ReviewTitle & ReviewBody & ReviewStar & Product & Combined\\\\\n",
       "\\hline\n",
       "\t Honest review of an edm music lover\n",
       "                                                                                                                                                                                                                                                                                                                                                                                                                                                                                            & No doubt it has a great bass and to a great extent noise cancellation and decent sound clarity and mindblowing battery but the following dissapointed me though i tried a lot to adjust.1.Bluetooth range not more than 10m2. Pain in ear due the conical buds(can be removed)3. Wires are a bit long which makes it odd in front.4. No pouch provided.5. Worst part is very low quality and distoring mic. Other person keeps complaining about my voice.\n",
       "                                                                     & 0                                                                                                                                                                                                                                                                                                                                                                                                                                                                                                                                & boAt Rockerz 255                                                                                                                                                                                                                                                                                                                                                                                                                                                                                                                 & Honest review of an edm music lover\n",
       " No doubt it has a great bass and to a great extent noise cancellation and decent sound clarity and mindblowing battery but the following dissapointed me though i tried a lot to adjust.1.Bluetooth range not more than 10m2. Pain in ear due the conical buds(can be removed)3. Wires are a bit long which makes it odd in front.4. No pouch provided.5. Worst part is very low quality and distoring mic. Other person keeps complaining about my voice.\n",
       "                              \\\\\n",
       "\t Unreliable earphones with high cost\n",
       "                                                                                                                                                                                                                                                                                                                                                                                                                                                                                            & This  earphones are unreliable, i bought it before 15 days meanwhile right side ear buds got cracked automatically and it got divided in two parts, and sound quality is also not that much good but ok, one more thing bass is not good as it is a boat earphones.Guys,Also for the proof i have attached picsPlease see and think before buying<U+200B> this unreliable product.Thanks.\n",
       "                                                                                                                                      & 0                                                                                                                                                                                                                                                                                                                                                                                                                                                                                                                                & boAt Rockerz 255                                                                                                                                                                                                                                                                                                                                                                                                                                                                                                                 & Unreliable earphones with high cost\n",
       " This  earphones are unreliable, i bought it before 15 days meanwhile right side ear buds got cracked automatically and it got divided in two parts, and sound quality is also not that much good but ok, one more thing bass is not good as it is a boat earphones.Guys,Also for the proof i have attached picsPlease see and think before buying<U+200B> this unreliable product.Thanks.\n",
       "                                                                                               \\\\\n",
       "\t Really good and durable.\n",
       "                                                                                                                                                                                                                                                                                                                                                                                                                                                                                                       & i bought itfor 999,I purchased it second time, gifted first one to brother. This is really good.Sound quality is really good.You can connect 2 devices at a time.I connect laptop and mobile both.when listening muaic on Lappy, if u get a call, it switches to mobile,this switch between device is not good but again in this price its awesome.Battery stand by is 36 hours for me, and i have used it continously for 8 hours in one go. So Battery life is pretty awesome.Comfortable on ear.\n",
       "                            & 1                                                                                                                                                                                                                                                                                                                                                                                                                                                                                                                                & boAt Rockerz 255                                                                                                                                                                                                                                                                                                                                                                                                                                                                                                                 & Really good and durable.\n",
       " i bought itfor 999,I purchased it second time, gifted first one to brother. This is really good.Sound quality is really good.You can connect 2 devices at a time.I connect laptop and mobile both.when listening muaic on Lappy, if u get a call, it switches to mobile,this switch between device is not good but again in this price its awesome.Battery stand by is 36 hours for me, and i have used it continously for 8 hours in one go. So Battery life is pretty awesome.Comfortable on ear.\n",
       "\\\\\n",
       "\t stopped working in just 14 days\n",
       "                                                                                                                                                                                                                                                                                                                                                                                                                                                                                                & Its sound quality is adorable. overall it was good but just for 2 weeks after that it stopped working and since then it never powered on again. I am claiming for warrenty and it is still undergoing.\n",
       "                                                                                                                                                                                                                                                                                                                         & 0                                                                                                                                                                                                                                                                                                                                                                                                                                                                                                                                & boAt Rockerz 255                                                                                                                                                                                                                                                                                                                                                                                                                                                                                                                 & stopped working in just 14 days\n",
       " Its sound quality is adorable. overall it was good but just for 2 weeks after that it stopped working and since then it never powered on again. I am claiming for warrenty and it is still undergoing.\n",
       "                                                                                                                                                                                                                                                                                      \\\\\n",
       "\t Just Awesome Wireless Headphone under 1000...<U+0001F609>\n",
       "                                                                                                                                                                                                                                                                                                                                                                                                                                                                        & Its Awesome... Good sound quality \\& 8-9 hrs battery life... Just waww look... <U+0001F609> I brought just 999 rupees...But Amazon's Packageing system is Very bad... Very poor packaging... Flipcart's packaging system is much better than Amazon...\n",
       "                                                                                                                                                                                                                                                                          & 1                                                                                                                                                                                                                                                                                                                                                                                                                                                                                                                                  & boAt Rockerz 255                                                                                                                                                                                                                                                                                                                                                                                                                                                                                                                   & Just Awesome Wireless Headphone under 1000...<U+0001F609>\n",
       " Its Awesome... Good sound quality \\& 8-9 hrs battery life... Just waww look... <U+0001F609> I brought just 999 rupees...But Amazon's Packageing system is Very bad... Very poor packaging... Flipcart's packaging system is much better than Amazon...\n",
       "                                                                                                                                                                                                             \\\\\n",
       "\t Charging port not working\n",
       "                                                                                                                                                                                                                                                                                                                                                                                                                                                                                                      & After 11 days, the charging port isn't working and now I can't even return it. Wat to do ?? I know there is one year warranty but it is only been 11 days. C'mon boat, please send me new one.\n",
       "                                                                                                                                                                                                                                                                                                                                 & 0                                                                                                                                                                                                                                                                                                                                                                                                                                                                                                                                & boAt Rockerz 255                                                                                                                                                                                                                                                                                                                                                                                                                                                                                                                 & Charging port not working\n",
       " After 11 days, the charging port isn't working and now I can't even return it. Wat to do ?? I know there is one year warranty but it is only been 11 days. C'mon boat, please send me new one.\n",
       "                                                                                                                                                                                                                                                                                                    \\\\\n",
       "\\end{tabular}\n"
      ],
      "text/markdown": [
       "\n",
       "| ReviewTitle | ReviewBody | ReviewStar | Product | Combined |\n",
       "|---|---|---|---|---|\n",
       "| Honest review of an edm music lover\n",
       "                                                                                                                                                                                                                                                                                                                                                                                                                                                                                            | No doubt it has a great bass and to a great extent noise cancellation and decent sound clarity and mindblowing battery but the following dissapointed me though i tried a lot to adjust.1.Bluetooth range not more than 10m2. Pain in ear due the conical buds(can be removed)3. Wires are a bit long which makes it odd in front.4. No pouch provided.5. Worst part is very low quality and distoring mic. Other person keeps complaining about my voice.\n",
       "                                                                     | 0                                                                                                                                                                                                                                                                                                                                                                                                                                                                                                                                | boAt Rockerz 255                                                                                                                                                                                                                                                                                                                                                                                                                                                                                                                 | Honest review of an edm music lover\n",
       " No doubt it has a great bass and to a great extent noise cancellation and decent sound clarity and mindblowing battery but the following dissapointed me though i tried a lot to adjust.1.Bluetooth range not more than 10m2. Pain in ear due the conical buds(can be removed)3. Wires are a bit long which makes it odd in front.4. No pouch provided.5. Worst part is very low quality and distoring mic. Other person keeps complaining about my voice.\n",
       "                               |\n",
       "| Unreliable earphones with high cost\n",
       "                                                                                                                                                                                                                                                                                                                                                                                                                                                                                            | This  earphones are unreliable, i bought it before 15 days meanwhile right side ear buds got cracked automatically and it got divided in two parts, and sound quality is also not that much good but ok, one more thing bass is not good as it is a boat earphones.Guys,Also for the proof i have attached picsPlease see and think before buying<U+200B> this unreliable product.Thanks.\n",
       "                                                                                                                                      | 0                                                                                                                                                                                                                                                                                                                                                                                                                                                                                                                                | boAt Rockerz 255                                                                                                                                                                                                                                                                                                                                                                                                                                                                                                                 | Unreliable earphones with high cost\n",
       " This  earphones are unreliable, i bought it before 15 days meanwhile right side ear buds got cracked automatically and it got divided in two parts, and sound quality is also not that much good but ok, one more thing bass is not good as it is a boat earphones.Guys,Also for the proof i have attached picsPlease see and think before buying<U+200B> this unreliable product.Thanks.\n",
       "                                                                                                |\n",
       "| Really good and durable.\n",
       "                                                                                                                                                                                                                                                                                                                                                                                                                                                                                                       | i bought itfor 999,I purchased it second time, gifted first one to brother. This is really good.Sound quality is really good.You can connect 2 devices at a time.I connect laptop and mobile both.when listening muaic on Lappy, if u get a call, it switches to mobile,this switch between device is not good but again in this price its awesome.Battery stand by is 36 hours for me, and i have used it continously for 8 hours in one go. So Battery life is pretty awesome.Comfortable on ear.\n",
       "                            | 1                                                                                                                                                                                                                                                                                                                                                                                                                                                                                                                                | boAt Rockerz 255                                                                                                                                                                                                                                                                                                                                                                                                                                                                                                                 | Really good and durable.\n",
       " i bought itfor 999,I purchased it second time, gifted first one to brother. This is really good.Sound quality is really good.You can connect 2 devices at a time.I connect laptop and mobile both.when listening muaic on Lappy, if u get a call, it switches to mobile,this switch between device is not good but again in this price its awesome.Battery stand by is 36 hours for me, and i have used it continously for 8 hours in one go. So Battery life is pretty awesome.Comfortable on ear.\n",
       " |\n",
       "| stopped working in just 14 days\n",
       "                                                                                                                                                                                                                                                                                                                                                                                                                                                                                                | Its sound quality is adorable. overall it was good but just for 2 weeks after that it stopped working and since then it never powered on again. I am claiming for warrenty and it is still undergoing.\n",
       "                                                                                                                                                                                                                                                                                                                         | 0                                                                                                                                                                                                                                                                                                                                                                                                                                                                                                                                | boAt Rockerz 255                                                                                                                                                                                                                                                                                                                                                                                                                                                                                                                 | stopped working in just 14 days\n",
       " Its sound quality is adorable. overall it was good but just for 2 weeks after that it stopped working and since then it never powered on again. I am claiming for warrenty and it is still undergoing.\n",
       "                                                                                                                                                                                                                                                                                       |\n",
       "| Just Awesome Wireless Headphone under 1000...<U+0001F609>\n",
       "                                                                                                                                                                                                                                                                                                                                                                                                                                                                      | Its Awesome... Good sound quality & 8-9 hrs battery life... Just waww look... <U+0001F609> I brought just 999 rupees...But Amazon's Packageing system is Very bad... Very poor packaging... Flipcart's packaging system is much better than Amazon...\n",
       "                                                                                                                                                                                                                                                                          | 1                                                                                                                                                                                                                                                                                                                                                                                                                                                                                                                                | boAt Rockerz 255                                                                                                                                                                                                                                                                                                                                                                                                                                                                                                                 | Just Awesome Wireless Headphone under 1000...<U+0001F609>\n",
       " Its Awesome... Good sound quality & 8-9 hrs battery life... Just waww look... <U+0001F609> I brought just 999 rupees...But Amazon's Packageing system is Very bad... Very poor packaging... Flipcart's packaging system is much better than Amazon...\n",
       "                                                                                                                                                                                                              |\n",
       "| Charging port not working\n",
       "                                                                                                                                                                                                                                                                                                                                                                                                                                                                                                      | After 11 days, the charging port isn't working and now I can't even return it. Wat to do ?? I know there is one year warranty but it is only been 11 days. C'mon boat, please send me new one.\n",
       "                                                                                                                                                                                                                                                                                                                                 | 0                                                                                                                                                                                                                                                                                                                                                                                                                                                                                                                                | boAt Rockerz 255                                                                                                                                                                                                                                                                                                                                                                                                                                                                                                                 | Charging port not working\n",
       " After 11 days, the charging port isn't working and now I can't even return it. Wat to do ?? I know there is one year warranty but it is only been 11 days. C'mon boat, please send me new one.\n",
       "                                                                                                                                                                                                                                                                                                     |\n",
       "\n"
      ],
      "text/plain": [
       "  ReviewTitle                                                \n",
       "1 Honest review of an edm music lover\\n                      \n",
       "2 Unreliable earphones with high cost\\n                      \n",
       "3 Really good and durable.\\n                                 \n",
       "4 stopped working in just 14 days\\n                          \n",
       "5 Just Awesome Wireless Headphone under 1000...<U+0001F609>\\n\n",
       "6 Charging port not working\\n                                \n",
       "  ReviewBody                                                                                                                                                                                                                                                                                                                                                                                                                                                                                           \n",
       "1 No doubt it has a great bass and to a great extent noise cancellation and decent sound clarity and mindblowing battery but the following dissapointed me though i tried a lot to adjust.1.Bluetooth range not more than 10m2. Pain in ear due the conical buds(can be removed)3. Wires are a bit long which makes it odd in front.4. No pouch provided.5. Worst part is very low quality and distoring mic. Other person keeps complaining about my voice.\\n                                         \n",
       "2 This  earphones are unreliable, i bought it before 15 days meanwhile right side ear buds got cracked automatically and it got divided in two parts, and sound quality is also not that much good but ok, one more thing bass is not good as it is a boat earphones.Guys,Also for the proof i have attached picsPlease see and think before buying<U+200B> this unreliable product.Thanks.\\n                                                                                                          \n",
       "3 i bought itfor 999,I purchased it second time, gifted first one to brother. This is really good.Sound quality is really good.You can connect 2 devices at a time.I connect laptop and mobile both.when listening muaic on Lappy, if u get a call, it switches to mobile,this switch between device is not good but again in this price its awesome.Battery stand by is 36 hours for me, and i have used it continously for 8 hours in one go. So Battery life is pretty awesome.Comfortable on ear.\\n\n",
       "4 Its sound quality is adorable. overall it was good but just for 2 weeks after that it stopped working and since then it never powered on again. I am claiming for warrenty and it is still undergoing.\\n                                                                                                                                                                                                                                                                                             \n",
       "5 Its Awesome... Good sound quality & 8-9 hrs battery life... Just waww look... <U+0001F609> I brought just 999 rupees...But Amazon's Packageing system is Very bad... Very poor packaging... Flipcart's packaging system is much better than Amazon...\\n                                                                                                                                                                                                                                              \n",
       "6 After 11 days, the charging port isn't working and now I can't even return it. Wat to do ?? I know there is one year warranty but it is only been 11 days. C'mon boat, please send me new one.\\n                                                                                                                                                                                                                                                                                                     \n",
       "  ReviewStar Product         \n",
       "1 0          boAt Rockerz 255\n",
       "2 0          boAt Rockerz 255\n",
       "3 1          boAt Rockerz 255\n",
       "4 0          boAt Rockerz 255\n",
       "5 1          boAt Rockerz 255\n",
       "6 0          boAt Rockerz 255\n",
       "  Combined                                                                                                                                                                                                                                                                                                                                                                                                                                                                                                                        \n",
       "1 Honest review of an edm music lover\\n No doubt it has a great bass and to a great extent noise cancellation and decent sound clarity and mindblowing battery but the following dissapointed me though i tried a lot to adjust.1.Bluetooth range not more than 10m2. Pain in ear due the conical buds(can be removed)3. Wires are a bit long which makes it odd in front.4. No pouch provided.5. Worst part is very low quality and distoring mic. Other person keeps complaining about my voice.\\n                              \n",
       "2 Unreliable earphones with high cost\\n This  earphones are unreliable, i bought it before 15 days meanwhile right side ear buds got cracked automatically and it got divided in two parts, and sound quality is also not that much good but ok, one more thing bass is not good as it is a boat earphones.Guys,Also for the proof i have attached picsPlease see and think before buying<U+200B> this unreliable product.Thanks.\\n                                                                                               \n",
       "3 Really good and durable.\\n i bought itfor 999,I purchased it second time, gifted first one to brother. This is really good.Sound quality is really good.You can connect 2 devices at a time.I connect laptop and mobile both.when listening muaic on Lappy, if u get a call, it switches to mobile,this switch between device is not good but again in this price its awesome.Battery stand by is 36 hours for me, and i have used it continously for 8 hours in one go. So Battery life is pretty awesome.Comfortable on ear.\\n\n",
       "4 stopped working in just 14 days\\n Its sound quality is adorable. overall it was good but just for 2 weeks after that it stopped working and since then it never powered on again. I am claiming for warrenty and it is still undergoing.\\n                                                                                                                                                                                                                                                                                      \n",
       "5 Just Awesome Wireless Headphone under 1000...<U+0001F609>\\n Its Awesome... Good sound quality & 8-9 hrs battery life... Just waww look... <U+0001F609> I brought just 999 rupees...But Amazon's Packageing system is Very bad... Very poor packaging... Flipcart's packaging system is much better than Amazon...\\n                                                                                                                                                                                                             \n",
       "6 Charging port not working\\n After 11 days, the charging port isn't working and now I can't even return it. Wat to do ?? I know there is one year warranty but it is only been 11 days. C'mon boat, please send me new one.\\n                                                                                                                                                                                                                                                                                                    "
      ]
     },
     "metadata": {},
     "output_type": "display_data"
    }
   ],
   "source": [
    "### For the SVM analysis, it will be easier to work with 0 (bad review) and 1 (good review)\n",
    "\n",
    "# Make a copy of the original DF to avoid any errors\n",
    "df_data2 = df_data\n",
    "\n",
    "# good review = rating >=4\n",
    "# bad review = rating < 4\n",
    "cutoff = 4\n",
    "\n",
    "### Changing labels for the SVM analysis\n",
    "df_data2$ReviewStar[ df_data2$ReviewStar < cutoff] = 0\n",
    "df_data2$ReviewStar[ df_data2$ReviewStar >= cutoff] = 1\n",
    "\n",
    "head(df_data2)"
   ]
  },
  {
   "cell_type": "code",
   "execution_count": 6,
   "id": "db16debf",
   "metadata": {
    "scrolled": true
   },
   "outputs": [
    {
     "name": "stdout",
     "output_type": "stream",
     "text": [
      "Number of good reviews:  9402 \n",
      "Number of bad reviews:  4935 \n"
     ]
    },
    {
     "data": {
      "image/png": "[encoded data removed]",
      "text/plain": [
       "plot without title"
      ]
     },
     "metadata": {},
     "output_type": "display_data"
    }
   ],
   "source": [
    "### Split data into good and bad reviews\n",
    "\n",
    "df_good = df_data2[ df_data2$ReviewStar == 1, 'Combined']\n",
    "df_bad = df_data2[ df_data2$ReviewStar == 0, 'Combined']\n",
    "\n",
    "cat('Number of good reviews: ', length(df_good), '\\n')\n",
    "cat('Number of bad reviews: ', length(df_bad), '\\n')\n",
    "\n",
    "pie_data = data.frame(num = c(length(df_good), length(df_bad)), ReviewType = c('Good', 'Bad'))\n",
    "\n",
    "ggplot(pie_data, aes(x = '', y = num, fill = ReviewType )) +\n",
    "  geom_bar(stat = 'identity', color = 'white') +\n",
    "  coord_polar('y') +\n",
    "  theme_void() +\n",
    "  ggtitle('Number of Good vs Bad Reviews')"
   ]
  },
  {
   "cell_type": "code",
   "execution_count": 7,
   "id": "3dc05885",
   "metadata": {},
   "outputs": [
    {
     "name": "stdout",
     "output_type": "stream",
     "text": [
      "[1] \"Really good and durable.\\n i bought itfor 999,I purchased it second time, gifted first one to brother. This is really good.Sound quality is really good.You can connect 2 devices at a time.I connect laptop and mobile both.when listening muaic on Lappy, if u get a call, it switches to mobile,this switch between device is not good but again in this price its awesome.Battery stand by is 36 hours for me, and i have used it continously for 8 hours in one go. So Battery life is pretty awesome.Comfortable on ear.\\n\"\n",
      "[1] \"Just Awesome Wireless Headphone under 1000...<U+0001F609>\\n Its Awesome... Good sound quality & 8-9 hrs battery life... Just waww look... <U+0001F609> I brought just 999 rupees...But Amazon's Packageing system is Very bad... Very poor packaging... Flipcart's packaging system is much better than Amazon...\\n\"\n",
      "[1] \"Loved the color and sound !!\\n Sound-4.5/5Build quality-4.5/5Battery life -4/5Earphones quality is good with strong magnetic lock... Straps is good quality and the earphones wires are too good... Buttons quality is good.. sound is full of punchy bass and and balanced treble and has sorrund effect.. good fitting in ears.. hope connectivity is good.. bcz my last boat Bluetooth bassheads 225 had connection issues... This is worth its price... Hope the packaging was good ...there was no bubble wrapping..\\n\"\n",
      "[1] \"Battery life is good enough to keep going all day\\n I can’t get enough of this earphone! The bass is amazing and is perfect for a music lover. The battery life is good enough to keep me going all day. The fact that I can connect my laptop and phone at the same time and switch between them makes the experience so much better. I use my earphones a lot for voice calls and this doesn’t let me down at all.  This is a must buy for all music lovers.\\n\"\n",
      "[1] \"Running has become comfortable now\\n The sound quality is good. I mean it can’t be compared with Senheiser or Bose but its worth the price.Perfect to use while running; the earbuds are so comfortable that you wouldn’t even feel they are plugged in.\\n\"\n"
     ]
    }
   ],
   "source": [
    "for (i in c(1:5)) {\n",
    "    print(df_good[i])\n",
    "}"
   ]
  },
  {
   "cell_type": "code",
   "execution_count": 8,
   "id": "742ea84b",
   "metadata": {},
   "outputs": [
    {
     "name": "stdout",
     "output_type": "stream",
     "text": [
      "[1] \"Honest review of an edm music lover\\n No doubt it has a great bass and to a great extent noise cancellation and decent sound clarity and mindblowing battery but the following dissapointed me though i tried a lot to adjust.1.Bluetooth range not more than 10m2. Pain in ear due the conical buds(can be removed)3. Wires are a bit long which makes it odd in front.4. No pouch provided.5. Worst part is very low quality and distoring mic. Other person keeps complaining about my voice.\\n\"\n",
      "[1] \"Unreliable earphones with high cost\\n This  earphones are unreliable, i bought it before 15 days meanwhile right side ear buds got cracked automatically and it got divided in two parts, and sound quality is also not that much good but ok, one more thing bass is not good as it is a boat earphones.Guys,Also for the proof i have attached picsPlease see and think before buying<U+200B> this unreliable product.Thanks.\\n\"\n",
      "[1] \"stopped working in just 14 days\\n Its sound quality is adorable. overall it was good but just for 2 weeks after that it stopped working and since then it never powered on again. I am claiming for warrenty and it is still undergoing.\\n\"\n",
      "[1] \"Charging port not working\\n After 11 days, the charging port isn't working and now I can't even return it. Wat to do ?? I know there is one year warranty but it is only been 11 days. C'mon boat, please send me new one.\\n\"\n",
      "[1] \"Great sound with worst mic.\\n After one month usage reviewing this .Pros-1- sound quality2- design3- weight4- batteryCons1- very bad mic for talking2- can't use while riding bike3 - Music is too loud\\n\"\n"
     ]
    }
   ],
   "source": [
    "for (i in c(1:5)) {\n",
    "    print(df_bad[i])\n",
    "}"
   ]
  },
  {
   "cell_type": "markdown",
   "id": "07b3a928",
   "metadata": {},
   "source": [
    "## Useful functions for building the corpus"
   ]
  },
  {
   "cell_type": "code",
   "execution_count": 9,
   "id": "44c77c38",
   "metadata": {},
   "outputs": [],
   "source": [
    "# Create a function that will perform preprocessing required for building the corpus\n",
    "\n",
    "build_corpus = function(vec, myStopWords) {\n",
    "  ### Build a preprocessing function to build a word corpus\n",
    "  ### Input: A vector containing all documents, a vector containing stopwords\n",
    "  ### Output: A word corpus with all preprocessing steps completed\n",
    "  # Tasks:\n",
    "  # Create the corpus\n",
    "  # Strip most/all punctuation\n",
    "  # Split corpus into individual words and save to own variable\n",
    "  # Convert to all lowercase\n",
    "  # Delete all stop words - find an existing list and add anything\n",
    "  # Stem\n",
    "  ### Check the stems\n",
    "  # Set min/max limits\n",
    "  # Delete numbers (can be ratings, price, product number, date; probably not useful)\n",
    "  \n",
    "  ### Create the corpus\n",
    "  vec_corp = VCorpus(VectorSource(vec))\n",
    "    \n",
    "  ### Delete the new line markers\n",
    "  vec_corp = tm_map(vec_corp, content_transformer(gsub), pattern = '\\n', replacement = ' ')\n",
    "  \n",
    "  ### Remove punctuations\n",
    "  # Replace ',' '.' '/' with spaces first to avoid accidental word merges (ex: good.You --> goodYou)\n",
    "  vec_corp = tm_map(vec_corp, content_transformer(gsub), pattern = ',', replacement = ' ')\n",
    "  vec_corp = tm_map(vec_corp, content_transformer(gsub), pattern = '\\\\.', replacement = ' ')\n",
    "  vec_corp = tm_map(vec_corp, content_transformer(gsub), pattern = '\\\\/', replacement = ' ')\n",
    "  \n",
    "  # Remove UTF-8 errors\n",
    "  #vec_corp = tm_map(vec_corp, content_transformer(gsub), pattern = '\\\\<U.+?\\\\>', replacement = ' ')\n",
    "  \n",
    "  # Remove general punctuation\n",
    "  vec_corp = tm_map(vec_corp, removePunctuation)\n",
    "  \n",
    "  ### Remove numbers\n",
    "  vec_corp = tm_map(vec_corp, removeNumbers)\n",
    "  \n",
    "  ### Convert to lower case\n",
    "  vec_corp = tm_map(vec_corp, content_transformer(tolower))\n",
    "  \n",
    "  ### Remove stopwords\n",
    "  vec_corp = tm_map(vec_corp, removeWords, tolower(myStopWords))\n",
    "  \n",
    "  ### Perform stemming\n",
    "  vec_corp = tm_map(vec_corp, stemDocument)\n",
    "  \n",
    "  ### Eliminate extra whitespaces\n",
    "  vec_corp = tm_map(vec_corp, stripWhitespace)\n",
    "  \n",
    "  return(vec_corp)\n",
    "}"
   ]
  },
  {
   "cell_type": "code",
   "execution_count": 10,
   "id": "c627dce9",
   "metadata": {},
   "outputs": [],
   "source": [
    "# Create a list of stopwords to delete\n",
    "\n",
    "# Delete product names (derived from the original data)\n",
    "products = tolower(unique(df_data$Product))\n",
    "\n",
    "# Add any custom terms that may appear often in reviews\n",
    "custom = c('u', 'ur', 'headphone', 'headphones', 'earphone', 'earphones')\n",
    "\n",
    "# Words pertaining to quality\n",
    "quality = c('good', 'nice', 'best', 'bad', 'worst', 'excellent', 'great', 'superb', 'superior', 'super', 'worth', 'ok', \n",
    "           'better', 'fine', 'perfect', 'cheap', 'awful', 'poor', 'not good', 'worse', 'substandard', 'adequate', \n",
    "           'inadequate', 'terrible', 'satisfactory', 'unsatistfactory', 'unacceptable', 'inferior', 'awesome', 'like',\n",
    "           'love', 'hate', '')\n",
    "\n",
    "# Create the stopwords list\n",
    "myStopWords = c(stopwords('en'), custom, products)"
   ]
  },
  {
   "cell_type": "code",
   "execution_count": 11,
   "id": "d6a92d4d",
   "metadata": {},
   "outputs": [],
   "source": [
    "# Term weighting - TF = Term frequency, TFIDF = TF + inverse document frequency\n",
    "ctrl_tf = list(weighting = weightTf)#, bounds = list(local = c(0,Inf)))\n",
    "ctrl_tfidf = list(weighting = weightTfIdf)#, bounds = list(local = c(0,Inf)))"
   ]
  },
  {
   "cell_type": "code",
   "execution_count": 12,
   "id": "d913809e",
   "metadata": {},
   "outputs": [],
   "source": [
    "# Sparsity - delete terms that appear too infrequently\n",
    "sparse_threshold = 0.98 # This means kept-tokens must appear in at least 2% of documents"
   ]
  },
  {
   "cell_type": "markdown",
   "id": "bfd56029",
   "metadata": {},
   "source": [
    "## Build a corpus containing all reviews\n",
    "This will help us to visualize various aspects of the data. I mainly will build bar chart and a wordcloud to visualize the most common words in all reviews"
   ]
  },
  {
   "cell_type": "code",
   "execution_count": 13,
   "id": "e3c160ea",
   "metadata": {},
   "outputs": [],
   "source": [
    "# Build corpus containing all reviews\n",
    "# Remove words relating to quality as well\n",
    "review_corp_all = build_corpus(df_data$Combined, c(myStopWords, quality))\n",
    "\n",
    "# Convert the corpus to a document-term matrix (DTM) for further processing\n",
    "all_dtm = DocumentTermMatrix(review_corp_all, control = ctrl_tf)\n",
    "\n",
    "# Remove sparse terms\n",
    "all_dtm2 = removeSparseTerms(all_dtm, sparse_threshold)"
   ]
  },
  {
   "cell_type": "code",
   "execution_count": 14,
   "id": "d08b0433",
   "metadata": {},
   "outputs": [
    {
     "name": "stdout",
     "output_type": "stream",
     "text": [
      "Original text from review 1:\n",
      "\n",
      "Honest review of an edm music lover\n",
      " No doubt it has a great bass and to a great extent noise cancellation and decent sound clarity and mindblowing battery but the following dissapointed me though i tried a lot to adjust.1.Bluetooth range not more than 10m2. Pain in ear due the conical buds(can be removed)3. Wires are a bit long which makes it odd in front.4. No pouch provided.5. Worst part is very low quality and distoring mic. Other person keeps complaining about my voice.\n",
      " \n",
      "\n",
      "Pre-processed text from review 1 in the corpus:\n",
      "\n",
      "<<PlainTextDocument>>\n",
      "Metadata:  7\n",
      "Content:  chars: 283\n",
      "\n",
      "honest review edm music lover doubt bass extent nois cancel decent sound clariti mindblow batteri follow dissapoint though tri lot adjust bluetooth rang m pain ear due conic budscan remov wire bit long make odd front pouch provid part low qualiti distor mic person keep complain voic\n",
      "\n",
      "\n",
      "Pre-processed text from review 1 in the DTM:\n",
      "\n",
      "<<DocumentTermMatrix (documents: 1, terms: 107)>>\n",
      "Non-/sparse entries: 20/87\n",
      "Sparsity           : 81%\n",
      "Maximal term length: 10\n",
      "Weighting          : term frequency (tf)\n",
      "Sample             :\n",
      "    Terms\n",
      "Docs bass batteri bit bluetooth cancel clariti decent ear long lover\n",
      "   1    1       1   1         1      1       1      1   1    1     1\n"
     ]
    }
   ],
   "source": [
    "# Compare the first review before preprocessing, as stored in the corpus, and as stored in the DTM\n",
    "cat('Original text from review 1:\\n\\n')\n",
    "cat(df_data$Combined[1], '\\n\\n')\n",
    "\n",
    "cat('Pre-processed text from review 1 in the corpus:\\n\\n')\n",
    "inspect(review_corp_all[[1]])\n",
    "\n",
    "cat('\\n\\nPre-processed text from review 1 in the DTM:\\n\\n')\n",
    "inspect(all_dtm2[1,])"
   ]
  },
  {
   "cell_type": "code",
   "execution_count": 15,
   "id": "23f6c950",
   "metadata": {
    "scrolled": true
   },
   "outputs": [
    {
     "data": {
      "text/html": [
       "<table>\n",
       "<thead><tr><th></th><th scope=col>terms</th><th scope=col>count</th></tr></thead>\n",
       "<tbody>\n",
       "\t<tr><th scope=row>also</th><td>also  </td><td>1268  </td></tr>\n",
       "\t<tr><th scope=row>amaz</th><td>amaz  </td><td> 921  </td></tr>\n",
       "\t<tr><th scope=row>amazon</th><td>amazon</td><td> 755  </td></tr>\n",
       "\t<tr><th scope=row>audio</th><td>audio </td><td> 358  </td></tr>\n",
       "\t<tr><th scope=row>averag</th><td>averag</td><td> 452  </td></tr>\n",
       "\t<tr><th scope=row>backup</th><td>backup</td><td> 505  </td></tr>\n",
       "</tbody>\n",
       "</table>\n"
      ],
      "text/latex": [
       "\\begin{tabular}{r|ll}\n",
       "  & terms & count\\\\\n",
       "\\hline\n",
       "\talso & also   & 1268  \\\\\n",
       "\tamaz & amaz   &  921  \\\\\n",
       "\tamazon & amazon &  755  \\\\\n",
       "\taudio & audio  &  358  \\\\\n",
       "\taverag & averag &  452  \\\\\n",
       "\tbackup & backup &  505  \\\\\n",
       "\\end{tabular}\n"
      ],
      "text/markdown": [
       "\n",
       "| <!--/--> | terms | count |\n",
       "|---|---|---|\n",
       "| also | also   | 1268   |\n",
       "| amaz | amaz   |  921   |\n",
       "| amazon | amazon |  755   |\n",
       "| audio | audio  |  358   |\n",
       "| averag | averag |  452   |\n",
       "| backup | backup |  505   |\n",
       "\n"
      ],
      "text/plain": [
       "       terms  count\n",
       "also   also   1268 \n",
       "amaz   amaz    921 \n",
       "amazon amazon  755 \n",
       "audio  audio   358 \n",
       "averag averag  452 \n",
       "backup backup  505 "
      ]
     },
     "metadata": {},
     "output_type": "display_data"
    }
   ],
   "source": [
    "# Convert to temporary data frame for visualization preprocessing\n",
    "all_dtm_temp = data.frame(as.matrix(all_dtm2)) # DF where each column has the TFIDF of each term for each document\n",
    "\n",
    "# Sort by TFIDF values\n",
    "all_dtm_sorted = apply(all_dtm_temp, 2, sum, decreasing = TRUE) # The summation of all TFIDF for each term in order\n",
    "                      \n",
    "\n",
    "# Create the data frame\n",
    "all_dtm_df = data.frame(terms = colnames(all_dtm_temp), count = all_dtm_sorted) # DF version with terms and counts\n",
    "\n",
    "head(all_dtm_df)"
   ]
  },
  {
   "cell_type": "markdown",
   "id": "8871c830",
   "metadata": {},
   "source": [
    "### Visualizing some of the most important terms in all reviews"
   ]
  },
  {
   "cell_type": "code",
   "execution_count": 16,
   "id": "75f228a1",
   "metadata": {
    "scrolled": true,
    "tags": []
   },
   "outputs": [
    {
     "data": {
      "image/png": "[encoded data removed]",
      "text/plain": [
       "plot without title"
      ]
     },
     "metadata": {},
     "output_type": "display_data"
    }
   ],
   "source": [
    "# Plot the 30 most important words\n",
    "ggplot( data = head(all_dtm_df[order(-all_dtm_df$count),], 30), aes(reorder(terms, count), count)) +\n",
    "    geom_col(color = 'deepskyblue', fill = 'deepskyblue' , width = .8) +\n",
    "    labs(title = '30 most common words in all reviews') +\n",
    "    coord_flip() +\n",
    "    theme(axis.text.x = element_text(angle = 45))\n"
   ]
  },
  {
   "cell_type": "code",
   "execution_count": 17,
   "id": "265a6daf",
   "metadata": {
    "scrolled": true,
    "tags": []
   },
   "outputs": [
    {
     "data": {
      "image/png": "[encoded data removed]",
      "text/plain": [
       "plot without title"
      ]
     },
     "metadata": {},
     "output_type": "display_data"
    }
   ],
   "source": [
    "# View the data in a wordcloud\n",
    "wordcloud(words = all_dtm_df$terms,\n",
    "         freq = all_dtm_df$count,\n",
    "         random.order = FALSE,\n",
    "         rot.per = .35)"
   ]
  },
  {
   "cell_type": "markdown",
   "id": "f24d24db",
   "metadata": {},
   "source": [
    "### Conclusions for the overall review DTM\n",
    "\n",
    "Without most words referring to preference/sentiment (removed in the stopwords step), a few words regarding headphone quality appear to be the most discussed across all reviews. Some conclusions can be made, but for a more accurate analysis, the context of these words would need to be considered:\n",
    "\n",
    "**Most important word:**\n",
    "* product: Most likely referring to the product being reviewed, but could indicate other products being compared\n",
    "\n",
    "**Various terms indicate focus on build quality:**\n",
    "* qualiti/comfort\n",
    "* batteri/life/charg\n",
    "* work/problem\n",
    "* bluetooth/connect\n",
    "\n",
    "**Various terms indicate focus on sound quality:**\n",
    "* sound/clariti\n",
    "* bass/trebl\n",
    "* audio\n",
    "* volum\n",
    "\n",
    "**Various terms indicate focus on product features:**\n",
    "* bluetooth\n",
    "* headset\n",
    "* mic\n",
    "* wire/wireless/call\n",
    "\n",
    "**Various terms indicate focus on customer experience:**\n",
    "* servic/experi\n",
    "* averag\n",
    "* recommend/decent/durabl\n",
    "* cancel/replac/warranti: Most likely these customers are looking to refund or replace their headphones\n",
    "* amaz: Most likely referring to Amazon, this may refer to the buying/shipping experience\n",
    "\n",
    "**Various terms indicate focus on price and product value:**\n",
    "* price/bought/buy\n",
    "* valu/money\n",
    "* warranti"
   ]
  },
  {
   "cell_type": "markdown",
   "id": "a9297648",
   "metadata": {},
   "source": [
    "## Building a corpus for good and bad reviews"
   ]
  },
  {
   "cell_type": "code",
   "execution_count": 18,
   "id": "77d7bd9d",
   "metadata": {},
   "outputs": [],
   "source": [
    "# Build the corpus\n",
    "# This time, don't remove words pertaining to preference\n",
    "\n",
    "review_corp_good = build_corpus(df_good, myStopWords)\n",
    "review_corp_bad = build_corpus(df_bad, myStopWords)\n",
    "\n",
    "# Build the DTMs\n",
    "good_dtm = DocumentTermMatrix(review_corp_good, control = ctrl_tf)\n",
    "bad_dtm = DocumentTermMatrix(review_corp_bad, control = ctrl_tf)\n",
    "\n",
    "# Remove sparse terms\n",
    "good_dtm2 = removeSparseTerms(good_dtm, sparse_threshold)\n",
    "bad_dtm2 = removeSparseTerms(bad_dtm, sparse_threshold)\n",
    "\n",
    "# Convert to data frames\n",
    "good_dtm_temp = data.frame(as.matrix(good_dtm2))\n",
    "good_dtm_sorted = sort(colSums(good_dtm_temp), decreasing = TRUE)\n",
    "good_dtm_df = data.frame(terms = names(good_dtm_sorted), count = good_dtm_sorted)\n",
    "\n",
    "bad_dtm_temp = data.frame(as.matrix(bad_dtm2))\n",
    "bad_dtm_sorted = sort(colSums(bad_dtm_temp), decreasing = TRUE)\n",
    "bad_dtm_df = data.frame(terms = names(bad_dtm_sorted), count = bad_dtm_sorted)"
   ]
  },
  {
   "cell_type": "code",
   "execution_count": 19,
   "id": "7d878324",
   "metadata": {
    "scrolled": true
   },
   "outputs": [
    {
     "name": "stdout",
     "output_type": "stream",
     "text": [
      "Number of common words in the good reviews:  114"
     ]
    },
    {
     "data": {
      "image/png": "[encoded data removed]",
      "text/plain": [
       "plot without title"
      ]
     },
     "metadata": {},
     "output_type": "display_data"
    }
   ],
   "source": [
    "# View the most common words in the good reviews\n",
    "cat('Number of common words in the good reviews: ', nrow(good_dtm_df))\n",
    "\n",
    "ggplot( data = head(good_dtm_df[(-good_dtm_df$count),], 30), aes(reorder(terms, count), count)) +\n",
    "    geom_col(color = 'deepskyblue', fill = 'deepskyblue' , width = .8) +\n",
    "    labs(title = '30 most common words in good reviews') +\n",
    "    coord_flip() +\n",
    "    scale_x_discrete(name = \"\", position = \"top\") +\n",
    "    scale_y_reverse(limits = c(8000, 0), position = \"left\")\n",
    "\n",
    "# # Plot the 30 most common words\n",
    "# ggplot( data = head(all_dtm_df[order(-all_dtm_df$count),], 30), aes(reorder(terms, count), count)) +\n",
    "#     geom_col(color = 'deepskyblue', fill = 'deepskyblue' , width = .8) +\n",
    "#     labs(title = '30 most common words in all reviews (TF-IDF)') +\n",
    "#     coord_flip() +\n",
    "#     theme(axis.text.x = element_text(angle = 45))\n"
   ]
  },
  {
   "cell_type": "code",
   "execution_count": 20,
   "id": "d6dfa81e",
   "metadata": {
    "scrolled": true
   },
   "outputs": [
    {
     "name": "stdout",
     "output_type": "stream",
     "text": [
      "Number of common words in the bad reviews:  138"
     ]
    },
    {
     "data": {
      "image/png": "[encoded data removed]",
      "text/plain": [
       "plot without title"
      ]
     },
     "metadata": {},
     "output_type": "display_data"
    }
   ],
   "source": [
    "# View the most common words in the good reviews\n",
    "cat('Number of common words in the bad reviews: ', nrow(bad_dtm_df))\n",
    "\n",
    "ggplot( data = head(bad_dtm_df[(-bad_dtm_df$count),], 30), aes(reorder(terms, count), count)) +\n",
    "    geom_col(color = 'darkorange', fill = 'darkorange' , width = .8) +\n",
    "    labs(title = '30 most common words in bad reviews') +\n",
    "    scale_x_discrete(name = \"\") + \n",
    "    ylim(0, 8000) + \n",
    "    coord_flip()"
   ]
  },
  {
   "cell_type": "markdown",
   "id": "ed35a14b",
   "metadata": {},
   "source": [
    "###  Conclusions from the initial analysis of good/bad reviews\n",
    "\n",
    "The most notable finding is that \"good\" is ranked as the most important term in both good and bad reviews. This is unexpected, considering that customers who leave bad reviews wouldn't normally conclude that the item was \"good.\" There are two likely reasons for this discrepancy\n",
    "* The bad reviews include 3-star reviews which fall in the middle of the spectrum - some aspects of the product may be good, but overall, the customer was disappointed\n",
    "* These reviews may be about how a product is actually \"not good\" instead of \"good\"\n",
    "\n",
    "Another interesting conclusion is how there are more important words in the bad review set than there are in the good review set (138 vs 114). Considering how the bad review set included only 34.4% of the total reviews, I would have expected fewer words in the bad review DTM.\n",
    "\n",
    "One possible explanation is that people tend to be more comprehensive when leaving bad reviews\n",
    "* Many good reviews focus on customer sentiment\n",
    "\n",
    ">'Just go for it\\n **Awesome best budget** wireless earphones\\n'\n",
    "\n",
    ">'**SUPERB**\\n **Sound quality is good**. noise cancellation is not upto the mark. **battery quality is decent**. by charging it once you can enjoy upto 5hrs of music without any issue\\n'\n",
    "* Bad reviews are often more detailed to emphasize discontent\n",
    "\n",
    ">'Honest review of an edm music lover\\n No doubt it has a great bass and to a great extent noise cancellation and decent sound clarity and mindblowing battery but the following **dissapointed** me though i tried a lot to adjust.1.**Bluetooth range not more than 10m2. Pain in ear due the conical buds(can be removed)3. Wires are a bit long which makes it odd in front.4. No pouch provided.5. Worst part is very low quality and distoring mic**. Other person keeps complaining about my voice.\\n'\n",
    "\n",
    ">'Review update - **Product failed after a few months**\\n Update: Sadly this is the **second Boat product to conk off after few months of use**. I guess this is the end of the journey for you and I Boat Audio, **not buying any more products from your brand**. Changed the rating to reflect the same.I was in the market for a cheap pair of Bluetooth earphones and I chanced upon this on a lightning deal and bought it. I have used Boat products before, they have good build quality and their sound is alright. I’m writing this after a month or so, enough time to have lived with it and get to know quirks and other problems.• **The sound is nothing great**, it’s a bit on the bassy side. If you’re a bass lover, this is definitely a good buy.• Connectivity is quick and painless – and it works without hassle every time. **The quality of the connectivity depends and is sometimes weird**. I can put the phone on charge and use it for a distance of about 3 meters, no worries. But sometimes when I’m walking really fast or jogging there are breaks and crackles in audio. Not sure if it’s the material of my gym wear, but it works well when the phone’s in my jeans.• **Battery life is nothing to write home about** – I listen to music constantly even when I’m at work. My demands are probably too high for this price range.• It is sweat-proof as advertised. No interruptions under a light drizzle.• It’s got great build quality for the price – looks and feels premium. Doesn’t tangle at all.• It stays in your ear regardless of the intensity of the exercise which is great.On the whole a great buy if you are looking for a cheaper alternative. Wait for a sale before you get it though.Like my reviews? Please do click the helpful button. It encourages me to share more about the products I use. Thanks!\\n'\n",
    "        \n",
    "\n",
    "### Adjusting the weights according to importance in good/bad reviews\n",
    "\n",
    "To address the first issue where \"good\" seemed prominent in bad reviews, I will adjust the term weighting for shared terms. I will perform this adjustment on the final weight values for easier implementation as otherwise I would most likely need to formulate an entirely different weighting scheme and implement it on the DTM step.\n",
    "\n",
    "I will extract a list of all shared terms and multiply the good/bad weights by the proportion of the total weight in the good/bad DTM. For example, 'good' has 7868 weight in the good DTM and 2273 in the bad DTM. \n",
    "\n",
    "|Term  |Good    |Bad      |Total     |\n",
    "|:----:|----:   |----:    |----:     |\n",
    "|Nice  |7868|2273|10141|\n",
    "\n",
    "The equation used to calculate the updated weights is:\n",
    "\n",
    "$$Weight_{new} = Weight * \\frac{Weight}{Total}$$\n",
    "\n",
    "So the updated weights are:\n",
    "\n",
    "\n",
    "|Weight|Good     |Bad      |\n",
    "|:------:|--------:|--------:|\n",
    "|Old     |7868 |2273|\n",
    "|New     |6104.47|509.47 |"
   ]
  },
  {
   "cell_type": "code",
   "execution_count": 21,
   "id": "287f4ecd",
   "metadata": {
    "scrolled": true
   },
   "outputs": [
    {
     "name": "stdout",
     "output_type": "stream",
     "text": [
      "Number of words in good:  114 \n",
      "Number of words in bad:  138 \n",
      "\n",
      "Number of words in both sets:  86 \n",
      "\n",
      "Number of words only in good:  28 \n",
      "Number of words only in bad:  52"
     ]
    },
    {
     "data": {
      "text/html": [
       "<table>\n",
       "<thead><tr><th scope=col>term</th><th scope=col>good</th><th scope=col>bad</th></tr></thead>\n",
       "<tbody>\n",
       "\t<tr><td>good   </td><td>7870   </td><td>2273   </td></tr>\n",
       "\t<tr><td>sound  </td><td>5629   </td><td>2361   </td></tr>\n",
       "\t<tr><td>qualiti</td><td>5238   </td><td>2465   </td></tr>\n",
       "\t<tr><td>product</td><td>4703   </td><td>2731   </td></tr>\n",
       "\t<tr><td>bass   </td><td>2560   </td><td> 981   </td></tr>\n",
       "\t<tr><td>best   </td><td>2202   </td><td> 135   </td></tr>\n",
       "</tbody>\n",
       "</table>\n"
      ],
      "text/latex": [
       "\\begin{tabular}{r|lll}\n",
       " term & good & bad\\\\\n",
       "\\hline\n",
       "\t good    & 7870    & 2273   \\\\\n",
       "\t sound   & 5629    & 2361   \\\\\n",
       "\t qualiti & 5238    & 2465   \\\\\n",
       "\t product & 4703    & 2731   \\\\\n",
       "\t bass    & 2560    &  981   \\\\\n",
       "\t best    & 2202    &  135   \\\\\n",
       "\\end{tabular}\n"
      ],
      "text/markdown": [
       "\n",
       "| term | good | bad |\n",
       "|---|---|---|\n",
       "| good    | 7870    | 2273    |\n",
       "| sound   | 5629    | 2361    |\n",
       "| qualiti | 5238    | 2465    |\n",
       "| product | 4703    | 2731    |\n",
       "| bass    | 2560    |  981    |\n",
       "| best    | 2202    |  135    |\n",
       "\n"
      ],
      "text/plain": [
       "  term    good bad \n",
       "1 good    7870 2273\n",
       "2 sound   5629 2361\n",
       "3 qualiti 5238 2465\n",
       "4 product 4703 2731\n",
       "5 bass    2560  981\n",
       "6 best    2202  135"
      ]
     },
     "metadata": {},
     "output_type": "display_data"
    }
   ],
   "source": [
    "# List of terms found in both good/bad DTMs\n",
    "in_both = intersect(good_dtm_df$terms, bad_dtm_df$terms)\n",
    "in_both_df = data.frame()\n",
    "\n",
    "# Put the TFIDF weights from both good and bad DTMs into one data frame\n",
    "for (term in in_both) {\n",
    "    good = good_dtm_df[good_dtm_df$terms == term, 'count']\n",
    "    bad = bad_dtm_df[bad_dtm_df$terms == term, 'count']\n",
    "    \n",
    "    rowtemp = data.frame(term = term, good = good, bad = bad)\n",
    "    \n",
    "    in_both_df = rbind(in_both_df, rowtemp)\n",
    "}\n",
    "\n",
    "cat('Number of words in good: ', length(good_dtm_df$terms), \n",
    "  '\\nNumber of words in bad: ', length(bad_dtm_df$terms),\n",
    "  '\\n\\nNumber of words in both sets: ', nrow(in_both_df),\n",
    "  '\\n\\n')\n",
    "cat('Number of words only in good: ', length(setdiff(good_dtm_df$terms, bad_dtm_df$terms)),\n",
    "    '\\nNumber of words only in bad: ', length(setdiff(bad_dtm_df$terms, good_dtm_df$terms)))\n",
    "\n",
    "head(in_both_df)"
   ]
  },
  {
   "cell_type": "code",
   "execution_count": 22,
   "id": "2f6606a1",
   "metadata": {},
   "outputs": [],
   "source": [
    "# Adjust the value in the original good/bad DFs according to the percentage of the sum\n",
    "### ex: if g=200, b=100, then g_new = 200 * (200/(200+100))\n",
    "good_dtm_df2 = data.frame(good_dtm_df)\n",
    "bad_dtm_df2 = data.frame(bad_dtm_df)\n",
    "scale = .5\n",
    "                         \n",
    "# Assign the DF columns for easier code\n",
    "#term = factor(in_both_df[,1], levels = levels(good_dtm_df$terms))\n",
    "term = as.character(in_both_df[,1])\n",
    "gval = in_both_df[,2]\n",
    "bval = in_both_df[,3]\n",
    "\n",
    "# Calculate the new good/bad values\n",
    "g_temp = gval * (gval / (gval + bval))\n",
    "b_temp = bval * (bval / (gval + bval))\n",
    "\n",
    "# Mark the words shared between good/bad DTMs\n",
    "### inboth is a boolean indicator while inboth_count is a scaler for the word cloud\n",
    "g_placeholder = data.frame('N', good_dtm_df2$count, good_dtm_df2$count, stringsAsFactors = FALSE)\n",
    "b_placeholder = data.frame('N', bad_dtm_df2$count, bad_dtm_df2$count, stringsAsFactors = FALSE)\n",
    "\n",
    "ind = c('inboth', 'inboth_count', 'inboth_count_scaled')\n",
    "\n",
    "good_dtm_df2[ind] = g_placeholder\n",
    "bad_dtm_df2[ind] = b_placeholder\n",
    "\n",
    "g_df = data.frame('Y', g_temp, g_temp*scale, stringsAsFactors = FALSE)\n",
    "b_df = data.frame('Y', b_temp, b_temp*scale, stringsAsFactors = FALSE)\n",
    "\n",
    "good_dtm_df2[good_dtm_df2$terms %in% term, c('inboth', 'inboth_count', 'inboth_count_scaled')] = g_df\n",
    "bad_dtm_df2[bad_dtm_df2$terms %in% term, c('inboth', 'inboth_count', 'inboth_count_scaled')] = b_df"
   ]
  },
  {
   "cell_type": "code",
   "execution_count": 23,
   "id": "d3116a7f",
   "metadata": {
    "scrolled": true
   },
   "outputs": [
    {
     "data": {
      "text/html": [
       "<table>\n",
       "<thead><tr><th></th><th scope=col>terms</th><th scope=col>count</th><th scope=col>inboth</th><th scope=col>inboth_count</th><th scope=col>inboth_count_scaled</th></tr></thead>\n",
       "<tbody>\n",
       "\t<tr><th scope=row>good</th><td>good     </td><td>7870     </td><td>Y        </td><td>6106.369 </td><td>3053.1845</td></tr>\n",
       "\t<tr><th scope=row>sound</th><td>sound    </td><td>5629     </td><td>Y        </td><td>3965.662 </td><td>1982.8311</td></tr>\n",
       "\t<tr><th scope=row>qualiti</th><td>qualiti  </td><td>5238     </td><td>Y        </td><td>3561.813 </td><td>1780.9064</td></tr>\n",
       "\t<tr><th scope=row>product</th><td>product  </td><td>4703     </td><td>Y        </td><td>2975.277 </td><td>1487.6385</td></tr>\n",
       "\t<tr><th scope=row>bass</th><td>bass     </td><td>2560     </td><td>Y        </td><td>1850.777 </td><td> 925.3883</td></tr>\n",
       "\t<tr><th scope=row>best</th><td>best     </td><td>2202     </td><td>Y        </td><td>2074.798 </td><td>1037.3992</td></tr>\n",
       "\t<tr><th scope=row>use</th><td>use      </td><td>1892     </td><td>Y        </td><td>1244.668 </td><td> 622.3338</td></tr>\n",
       "\t<tr><th scope=row>awesom</th><td>awesom   </td><td>1850     </td><td>N        </td><td>1850.000 </td><td>1850.0000</td></tr>\n",
       "\t<tr><th scope=row>price</th><td>price    </td><td>1824     </td><td>Y        </td><td>1438.381 </td><td> 719.1907</td></tr>\n",
       "\t<tr><th scope=row>nice</th><td>nice     </td><td>1668     </td><td>Y        </td><td>1543.108 </td><td> 771.5541</td></tr>\n",
       "</tbody>\n",
       "</table>\n"
      ],
      "text/latex": [
       "\\begin{tabular}{r|lllll}\n",
       "  & terms & count & inboth & inboth\\_count & inboth\\_count\\_scaled\\\\\n",
       "\\hline\n",
       "\tgood & good      & 7870      & Y         & 6106.369  & 3053.1845\\\\\n",
       "\tsound & sound     & 5629      & Y         & 3965.662  & 1982.8311\\\\\n",
       "\tqualiti & qualiti   & 5238      & Y         & 3561.813  & 1780.9064\\\\\n",
       "\tproduct & product   & 4703      & Y         & 2975.277  & 1487.6385\\\\\n",
       "\tbass & bass      & 2560      & Y         & 1850.777  &  925.3883\\\\\n",
       "\tbest & best      & 2202      & Y         & 2074.798  & 1037.3992\\\\\n",
       "\tuse & use       & 1892      & Y         & 1244.668  &  622.3338\\\\\n",
       "\tawesom & awesom    & 1850      & N         & 1850.000  & 1850.0000\\\\\n",
       "\tprice & price     & 1824      & Y         & 1438.381  &  719.1907\\\\\n",
       "\tnice & nice      & 1668      & Y         & 1543.108  &  771.5541\\\\\n",
       "\\end{tabular}\n"
      ],
      "text/markdown": [
       "\n",
       "| <!--/--> | terms | count | inboth | inboth_count | inboth_count_scaled |\n",
       "|---|---|---|---|---|---|\n",
       "| good | good      | 7870      | Y         | 6106.369  | 3053.1845 |\n",
       "| sound | sound     | 5629      | Y         | 3965.662  | 1982.8311 |\n",
       "| qualiti | qualiti   | 5238      | Y         | 3561.813  | 1780.9064 |\n",
       "| product | product   | 4703      | Y         | 2975.277  | 1487.6385 |\n",
       "| bass | bass      | 2560      | Y         | 1850.777  |  925.3883 |\n",
       "| best | best      | 2202      | Y         | 2074.798  | 1037.3992 |\n",
       "| use | use       | 1892      | Y         | 1244.668  |  622.3338 |\n",
       "| awesom | awesom    | 1850      | N         | 1850.000  | 1850.0000 |\n",
       "| price | price     | 1824      | Y         | 1438.381  |  719.1907 |\n",
       "| nice | nice      | 1668      | Y         | 1543.108  |  771.5541 |\n",
       "\n"
      ],
      "text/plain": [
       "        terms   count inboth inboth_count inboth_count_scaled\n",
       "good    good    7870  Y      6106.369     3053.1845          \n",
       "sound   sound   5629  Y      3965.662     1982.8311          \n",
       "qualiti qualiti 5238  Y      3561.813     1780.9064          \n",
       "product product 4703  Y      2975.277     1487.6385          \n",
       "bass    bass    2560  Y      1850.777      925.3883          \n",
       "best    best    2202  Y      2074.798     1037.3992          \n",
       "use     use     1892  Y      1244.668      622.3338          \n",
       "awesom  awesom  1850  N      1850.000     1850.0000          \n",
       "price   price   1824  Y      1438.381      719.1907          \n",
       "nice    nice    1668  Y      1543.108      771.5541          "
      ]
     },
     "metadata": {},
     "output_type": "display_data"
    }
   ],
   "source": [
    "head(good_dtm_df2, 10)"
   ]
  },
  {
   "cell_type": "code",
   "execution_count": 24,
   "id": "61dd9c98",
   "metadata": {
    "scrolled": true
   },
   "outputs": [
    {
     "data": {
      "text/html": [
       "<table>\n",
       "<thead><tr><th></th><th scope=col>terms</th><th scope=col>count</th><th scope=col>inboth</th><th scope=col>inboth_count</th><th scope=col>inboth_count_scaled</th></tr></thead>\n",
       "<tbody>\n",
       "\t<tr><th scope=row>product</th><td>product   </td><td>2731      </td><td>Y         </td><td> 509.36892</td><td>254.684462</td></tr>\n",
       "\t<tr><th scope=row>qualiti</th><td>qualiti   </td><td>2465      </td><td>Y         </td><td> 697.66220</td><td>348.831101</td></tr>\n",
       "\t<tr><th scope=row>sound</th><td>sound     </td><td>2361      </td><td>Y         </td><td> 788.81280</td><td>394.406400</td></tr>\n",
       "\t<tr><th scope=row>good</th><td>good      </td><td>2273      </td><td>Y         </td><td>1003.27697</td><td>501.638485</td></tr>\n",
       "\t<tr><th scope=row>work</th><td>work      </td><td>1787      </td><td>Y         </td><td> 271.77662</td><td>135.888308</td></tr>\n",
       "\t<tr><th scope=row>one</th><td>one       </td><td>1103      </td><td>Y         </td><td>   7.79846</td><td>  3.899230</td></tr>\n",
       "\t<tr><th scope=row>month</th><td>month     </td><td>1045      </td><td>Y         </td><td> 336.66759</td><td>168.333797</td></tr>\n",
       "\t<tr><th scope=row>use</th><td>use       </td><td> 984      </td><td>Y         </td><td> 103.38132</td><td> 51.690661</td></tr>\n",
       "\t<tr><th scope=row>bass</th><td>bass      </td><td> 981      </td><td>Y         </td><td>  10.10815</td><td>  5.054077</td></tr>\n",
       "\t<tr><th scope=row>buy</th><td>buy       </td><td> 939      </td><td>Y         </td><td> 291.39499</td><td>145.697493</td></tr>\n",
       "</tbody>\n",
       "</table>\n"
      ],
      "text/latex": [
       "\\begin{tabular}{r|lllll}\n",
       "  & terms & count & inboth & inboth\\_count & inboth\\_count\\_scaled\\\\\n",
       "\\hline\n",
       "\tproduct & product    & 2731       & Y          &  509.36892 & 254.684462\\\\\n",
       "\tqualiti & qualiti    & 2465       & Y          &  697.66220 & 348.831101\\\\\n",
       "\tsound & sound      & 2361       & Y          &  788.81280 & 394.406400\\\\\n",
       "\tgood & good       & 2273       & Y          & 1003.27697 & 501.638485\\\\\n",
       "\twork & work       & 1787       & Y          &  271.77662 & 135.888308\\\\\n",
       "\tone & one        & 1103       & Y          &    7.79846 &   3.899230\\\\\n",
       "\tmonth & month      & 1045       & Y          &  336.66759 & 168.333797\\\\\n",
       "\tuse & use        &  984       & Y          &  103.38132 &  51.690661\\\\\n",
       "\tbass & bass       &  981       & Y          &   10.10815 &   5.054077\\\\\n",
       "\tbuy & buy        &  939       & Y          &  291.39499 & 145.697493\\\\\n",
       "\\end{tabular}\n"
      ],
      "text/markdown": [
       "\n",
       "| <!--/--> | terms | count | inboth | inboth_count | inboth_count_scaled |\n",
       "|---|---|---|---|---|---|\n",
       "| product | product    | 2731       | Y          |  509.36892 | 254.684462 |\n",
       "| qualiti | qualiti    | 2465       | Y          |  697.66220 | 348.831101 |\n",
       "| sound | sound      | 2361       | Y          |  788.81280 | 394.406400 |\n",
       "| good | good       | 2273       | Y          | 1003.27697 | 501.638485 |\n",
       "| work | work       | 1787       | Y          |  271.77662 | 135.888308 |\n",
       "| one | one        | 1103       | Y          |    7.79846 |   3.899230 |\n",
       "| month | month      | 1045       | Y          |  336.66759 | 168.333797 |\n",
       "| use | use        |  984       | Y          |  103.38132 |  51.690661 |\n",
       "| bass | bass       |  981       | Y          |   10.10815 |   5.054077 |\n",
       "| buy | buy        |  939       | Y          |  291.39499 | 145.697493 |\n",
       "\n"
      ],
      "text/plain": [
       "        terms   count inboth inboth_count inboth_count_scaled\n",
       "product product 2731  Y       509.36892   254.684462         \n",
       "qualiti qualiti 2465  Y       697.66220   348.831101         \n",
       "sound   sound   2361  Y       788.81280   394.406400         \n",
       "good    good    2273  Y      1003.27697   501.638485         \n",
       "work    work    1787  Y       271.77662   135.888308         \n",
       "one     one     1103  Y         7.79846     3.899230         \n",
       "month   month   1045  Y       336.66759   168.333797         \n",
       "use     use      984  Y       103.38132    51.690661         \n",
       "bass    bass     981  Y        10.10815     5.054077         \n",
       "buy     buy      939  Y       291.39499   145.697493         "
      ]
     },
     "metadata": {},
     "output_type": "display_data"
    }
   ],
   "source": [
    "head(bad_dtm_df2, 10)"
   ]
  },
  {
   "cell_type": "markdown",
   "id": "261d1120",
   "metadata": {},
   "source": [
    "## Visualizing the updated DTMs"
   ]
  },
  {
   "cell_type": "code",
   "execution_count": 25,
   "id": "b0c9b466",
   "metadata": {
    "scrolled": true,
    "tags": []
   },
   "outputs": [
    {
     "name": "stdout",
     "output_type": "stream",
     "text": [
      "Number of important words in the good reviews:  114"
     ]
    },
    {
     "data": {
      "image/png": "[encoded data removed]",
      "text/plain": [
       "plot without title"
      ]
     },
     "metadata": {},
     "output_type": "display_data"
    }
   ],
   "source": [
    "# View the most important words in the good reviews\n",
    "cat('Number of important words in the good reviews: ', nrow(good_dtm_df2))\n",
    "\n",
    "ggplot( data = head(good_dtm_df2[-(good_dtm_df2$inboth_count),], 30), \n",
    "       aes(reorder(terms, inboth_count), inboth_count, fill = inboth, color = inboth)\n",
    "      ) +\n",
    "    geom_col(width = .8) +\n",
    "    labs(title = '30 most important words in good reviews') +\n",
    "    coord_flip() +\n",
    "    scale_fill_manual(values = c(\"#E7B800\", \"#00AFBB\")) +\n",
    "    scale_color_manual(values = c(\"#E7B800\", \"#00AFBB\")) +\n",
    "    scale_x_discrete(name = \"\", position = \"top\") +\n",
    "    scale_y_reverse(limits = c(6500, 0))"
   ]
  },
  {
   "cell_type": "code",
   "execution_count": 26,
   "id": "463c0b12",
   "metadata": {
    "scrolled": true
   },
   "outputs": [
    {
     "name": "stdout",
     "output_type": "stream",
     "text": [
      "Number of important words in the bad reviews:  138"
     ]
    },
    {
     "data": {
      "image/png": "[encoded data removed]",
      "text/plain": [
       "plot without title"
      ]
     },
     "metadata": {},
     "output_type": "display_data"
    }
   ],
   "source": [
    "# View the most important words in the bad reviews\n",
    "cat('Number of important words in the bad reviews: ', nrow(bad_dtm_df2))\n",
    "\n",
    "ggplot( data = head(bad_dtm_df2[-(bad_dtm_df2$inboth_count),], 30), \n",
    "       aes(reorder(terms, inboth_count), inboth_count, fill = inboth, color = inboth)\n",
    "      ) +\n",
    "    geom_col(width = .8) +\n",
    "    labs(title = '30 most important words in bad reviews') +\n",
    "    coord_flip() +\n",
    "    scale_fill_manual(values = c(\"#E7B800\", \"#00AFBB\")) +\n",
    "    scale_color_manual(values = c(\"#E7B800\", \"#00AFBB\")) +\n",
    "    scale_x_discrete(name = \"\", position = \"bottom\") +\n",
    "    ylim(0,6500)"
   ]
  },
  {
   "cell_type": "markdown",
   "id": "d55a9e67",
   "metadata": {},
   "source": [
    "## Word clouds\n",
    "\n",
    "Red words are unique to the DTM, while blue words are shared between the good and bad review DTMs"
   ]
  },
  {
   "cell_type": "code",
   "execution_count": 27,
   "id": "639c8ee1",
   "metadata": {
    "scrolled": true
   },
   "outputs": [
    {
     "name": "stdout",
     "output_type": "stream",
     "text": [
      "Word Cloud: Good reviews\n",
      "Words unique to good reviews are highlighted in red"
     ]
    },
    {
     "data": {
      "image/png": "[encoded data removed]",
      "text/plain": [
       "plot without title"
      ]
     },
     "metadata": {},
     "output_type": "display_data"
    }
   ],
   "source": [
    "# View the data in a wordcloud\n",
    "cat('Word Cloud: Good reviews\\n')\n",
    "cat('Words unique to good reviews are highlighted in red')\n",
    "\n",
    "wordcloud(words = good_dtm_df2$terms, \n",
    "          freq = good_dtm_df2$count, \n",
    "          random.order = FALSE,\n",
    "          rot.per = .35,\n",
    "          ordered.colors = TRUE,\n",
    "          colors = brewer.pal(8, 'Set1')[factor(good_dtm_df2$inboth)])"
   ]
  },
  {
   "cell_type": "code",
   "execution_count": 28,
   "id": "b8819c52",
   "metadata": {
    "scrolled": true
   },
   "outputs": [
    {
     "name": "stdout",
     "output_type": "stream",
     "text": [
      "Word Cloud: Good reviews\n",
      "Words unique to good reviews are highlighted in red"
     ]
    },
    {
     "data": {
      "image/png": "[encoded data removed]",
      "text/plain": [
       "plot without title"
      ]
     },
     "metadata": {},
     "output_type": "display_data"
    }
   ],
   "source": [
    "# Same word cloud, but emphasize the words unique to good reviews\n",
    "cat('Word Cloud: Good reviews\\n')\n",
    "cat('Words unique to good reviews are highlighted in red')\n",
    "\n",
    "wordcloud(words = good_dtm_df2$terms, \n",
    "          freq = good_dtm_df2$inboth_count, \n",
    "          random.order = FALSE,\n",
    "          rot.per = .35,\n",
    "          ordered.colors = TRUE,\n",
    "          colors = brewer.pal(8, 'Set1')[factor(good_dtm_df2$inboth)])"
   ]
  },
  {
   "cell_type": "code",
   "execution_count": 29,
   "id": "e55bc58a",
   "metadata": {
    "scrolled": true
   },
   "outputs": [
    {
     "name": "stdout",
     "output_type": "stream",
     "text": [
      "Word Cloud: Bad reviews\n",
      "Words unique to bad reviews are highlighted in red"
     ]
    },
    {
     "data": {
      "image/png": "[encoded data removed]",
      "text/plain": [
       "plot without title"
      ]
     },
     "metadata": {},
     "output_type": "display_data"
    }
   ],
   "source": [
    "# View the data in a wordcloud\n",
    "cat('Word Cloud: Bad reviews\\n')\n",
    "cat('Words unique to bad reviews are highlighted in red')\n",
    "\n",
    "wordcloud(words = bad_dtm_df2$terms, \n",
    "          freq = bad_dtm_df2$count, \n",
    "          random.order = FALSE,\n",
    "          rot.per = .35,\n",
    "          ordered.colors = TRUE,\n",
    "          colors = brewer.pal(8, 'Set1')[factor(bad_dtm_df2$inboth)])"
   ]
  },
  {
   "cell_type": "code",
   "execution_count": 30,
   "id": "f984fcc4",
   "metadata": {
    "scrolled": true
   },
   "outputs": [
    {
     "name": "stdout",
     "output_type": "stream",
     "text": [
      "Word Cloud: Bad reviews\n",
      "Words unique to bad reviews are highlighted in red"
     ]
    },
    {
     "data": {
      "image/png": "[encoded data removed]",
      "text/plain": [
       "plot without title"
      ]
     },
     "metadata": {},
     "output_type": "display_data"
    }
   ],
   "source": [
    "# Same word cloud, but emphasize the words unique to good reviews\n",
    "cat('Word Cloud: Bad reviews\\n')\n",
    "cat('Words unique to bad reviews are highlighted in red')\n",
    "\n",
    "wordcloud(words = bad_dtm_df2$terms, \n",
    "          freq = bad_dtm_df2$inboth_count, \n",
    "          random.order = FALSE,\n",
    "          rot.per = .35,\n",
    "          ordered.colors = TRUE,\n",
    "          colors = brewer.pal(8, 'Set1')[factor(bad_dtm_df2$inboth)])"
   ]
  },
  {
   "cell_type": "markdown",
   "id": "c04c0755",
   "metadata": {},
   "source": [
    "## Analysis of results\n",
    "\n",
    "By adding a weight to punish words shared between sets based on the relative proportion of total importance between sets, the resulting list of important words is much more indicative of review content.\n",
    "\n",
    "The good reviews have a lot shared words at the top of the list ('good', 'best', 'product') while the bad reviews have more unique words at the top ('bad', 'worst', 'work').\n",
    "\n",
    "The good reviews mainly had words indicating customer sentiment, though there were a few words noting physical features ('sound', 'batteri', 'bass'). The bad reviews similarly had customer sentiment terms, but they included more words noting physical features. These include the aforementioned words from the good reviews, but also include words like 'mic', 'connect', 'call'. \n",
    "\n",
    "An interesting unique term from the top of the bad review DTM is 'month.' This is likely referring to the one month return policy on Amazon, or that the product may have stopped working after a month.\n",
    "\n",
    "\n",
    "\n",
    "# Predicting Review Type\n",
    "\n",
    "To see if these extracted words can accurately predict whether a review is good or bad, I will build a model using the dataset. I will build an SVM model which is typically effective for text mining applications (especially when the feature count is very high).\n",
    "\n",
    "To simplify the work, I will not perform the weighting adjustment for words shared between good and bad reviews - for the SVM, this will require customizing a weighting scheme.\n",
    "\n",
    "## SVM preprocessing"
   ]
  },
  {
   "cell_type": "code",
   "execution_count": 31,
   "id": "75aa7058",
   "metadata": {},
   "outputs": [
    {
     "name": "stdout",
     "output_type": "stream",
     "text": [
      "Size of training data set:  10035 \n",
      "Size of testing data set:  4302 \n"
     ]
    },
    {
     "data": {
      "text/html": [
       "<table>\n",
       "<thead><tr><th></th><th scope=col>ReviewTitle</th><th scope=col>ReviewBody</th><th scope=col>ReviewStar</th><th scope=col>Product</th><th scope=col>Combined</th></tr></thead>\n",
       "<tbody>\n",
       "\t<tr><th scope=row>3786</th><td>Super bass level\n",
       "                                                                                                                                                                                                     </td><td>Super bass level with shape adaptable with ear, perfect fitting earpiece\n",
       "                                                                                                                                             </td><td>1                                                                                                                                                                                                                      </td><td>boAt Rockerz 255                                                                                                                                                                                                       </td><td>Super bass level\n",
       " Super bass level with shape adaptable with ear, perfect fitting earpiece\n",
       "                                                                                                                          </td></tr>\n",
       "\t<tr><th scope=row>503</th><td>Excellent Product\n",
       "                                                                                                                                                                                                    </td><td>Absolute Rock Star! No problem in paring with any phones, tried with iphone,samsung and pixel2. Work flawlessly. Great sound and bass effect. Great noise cancellation. Overall a 5 star product.\n",
       "                    </td><td>1                                                                                                                                                                                                                      </td><td>boAt Rockerz 255                                                                                                                                                                                                       </td><td>Excellent Product\n",
       " Absolute Rock Star! No problem in paring with any phones, tried with iphone,samsung and pixel2. Work flawlessly. Great sound and bass effect. Great noise cancellation. Overall a 5 star product.\n",
       "</td></tr>\n",
       "\t<tr><th scope=row>3430</th><td>Mic not proper but excellent sound quality\n",
       "                                                                                                                                                                           </td><td>Audio is excellent... As expected from boat.... But mic is not clear... People complaint about my voice not being clear\n",
       "                                                                                              </td><td>1                                                                                                                                                                                                                      </td><td>boAt Rockerz 255                                                                                                                                                                                                       </td><td>Mic not proper but excellent sound quality\n",
       " Audio is excellent... As expected from boat.... But mic is not clear... People complaint about my voice not being clear\n",
       "                                                 </td></tr>\n",
       "\t<tr><th scope=row>3696</th><td>Its working as expected.\n",
       "                                                                                                                                                                                             </td><td>Sound Quality is good, price is little bit high. It should be around INR 600/-\n",
       "                                                                                                                                       </td><td>1                                                                                                                                                                                                                      </td><td>boAt Rockerz 255                                                                                                                                                                                                       </td><td>Its working as expected.\n",
       " Sound Quality is good, price is little bit high. It should be around INR 600/-\n",
       "                                                                                                            </td></tr>\n",
       "\t<tr><th scope=row>14323</th><td>Bad bass quality\n",
       "                                                                                                                                                                                                     </td><td>No bass\n",
       "                                                                                                                                                                                                              </td><td>0                                                                                                                                                                                                                      </td><td>JBL T110BT                                                                                                                                                                                                             </td><td>Bad bass quality\n",
       " No bass\n",
       "                                                                                                                                                                                           </td></tr>\n",
       "\t<tr><th scope=row>4090</th><td>Nothing I noticed\n",
       "                                                                                                                                                                                                    </td><td>Not good for running\n",
       "                                                                                                                                                                                                 </td><td>1                                                                                                                                                                                                                      </td><td>boAt Rockerz 255                                                                                                                                                                                                       </td><td>Nothing I noticed\n",
       " Not good for running\n",
       "                                                                                                                                                                             </td></tr>\n",
       "</tbody>\n",
       "</table>\n"
      ],
      "text/latex": [
       "\\begin{tabular}{r|lllll}\n",
       "  & ReviewTitle & ReviewBody & ReviewStar & Product & Combined\\\\\n",
       "\\hline\n",
       "\t3786 & Super bass level\n",
       "                                                                                                                                                                                                      & Super bass level with shape adaptable with ear, perfect fitting earpiece\n",
       "                                                                                                                                              & 1                                                                                                                                                                                                                       & boAt Rockerz 255                                                                                                                                                                                                        & Super bass level\n",
       " Super bass level with shape adaptable with ear, perfect fitting earpiece\n",
       "                                                                                                                          \\\\\n",
       "\t503 & Excellent Product\n",
       "                                                                                                                                                                                                     & Absolute Rock Star! No problem in paring with any phones, tried with iphone,samsung and pixel2. Work flawlessly. Great sound and bass effect. Great noise cancellation. Overall a 5 star product.\n",
       "                     & 1                                                                                                                                                                                                                       & boAt Rockerz 255                                                                                                                                                                                                        & Excellent Product\n",
       " Absolute Rock Star! No problem in paring with any phones, tried with iphone,samsung and pixel2. Work flawlessly. Great sound and bass effect. Great noise cancellation. Overall a 5 star product.\n",
       "\\\\\n",
       "\t3430 & Mic not proper but excellent sound quality\n",
       "                                                                                                                                                                            & Audio is excellent... As expected from boat.... But mic is not clear... People complaint about my voice not being clear\n",
       "                                                                                               & 1                                                                                                                                                                                                                       & boAt Rockerz 255                                                                                                                                                                                                        & Mic not proper but excellent sound quality\n",
       " Audio is excellent... As expected from boat.... But mic is not clear... People complaint about my voice not being clear\n",
       "                                                 \\\\\n",
       "\t3696 & Its working as expected.\n",
       "                                                                                                                                                                                              & Sound Quality is good, price is little bit high. It should be around INR 600/-\n",
       "                                                                                                                                        & 1                                                                                                                                                                                                                       & boAt Rockerz 255                                                                                                                                                                                                        & Its working as expected.\n",
       " Sound Quality is good, price is little bit high. It should be around INR 600/-\n",
       "                                                                                                            \\\\\n",
       "\t14323 & Bad bass quality\n",
       "                                                                                                                                                                                                      & No bass\n",
       "                                                                                                                                                                                                               & 0                                                                                                                                                                                                                       & JBL T110BT                                                                                                                                                                                                              & Bad bass quality\n",
       " No bass\n",
       "                                                                                                                                                                                           \\\\\n",
       "\t4090 & Nothing I noticed\n",
       "                                                                                                                                                                                                     & Not good for running\n",
       "                                                                                                                                                                                                  & 1                                                                                                                                                                                                                       & boAt Rockerz 255                                                                                                                                                                                                        & Nothing I noticed\n",
       " Not good for running\n",
       "                                                                                                                                                                             \\\\\n",
       "\\end{tabular}\n"
      ],
      "text/markdown": [
       "\n",
       "| <!--/--> | ReviewTitle | ReviewBody | ReviewStar | Product | Combined |\n",
       "|---|---|---|---|---|---|\n",
       "| 3786 | Super bass level\n",
       "                                                                                                                                                                                                      | Super bass level with shape adaptable with ear, perfect fitting earpiece\n",
       "                                                                                                                                              | 1                                                                                                                                                                                                                       | boAt Rockerz 255                                                                                                                                                                                                        | Super bass level\n",
       " Super bass level with shape adaptable with ear, perfect fitting earpiece\n",
       "                                                                                                                           |\n",
       "| 503 | Excellent Product\n",
       "                                                                                                                                                                                                     | Absolute Rock Star! No problem in paring with any phones, tried with iphone,samsung and pixel2. Work flawlessly. Great sound and bass effect. Great noise cancellation. Overall a 5 star product.\n",
       "                     | 1                                                                                                                                                                                                                       | boAt Rockerz 255                                                                                                                                                                                                        | Excellent Product\n",
       " Absolute Rock Star! No problem in paring with any phones, tried with iphone,samsung and pixel2. Work flawlessly. Great sound and bass effect. Great noise cancellation. Overall a 5 star product.\n",
       " |\n",
       "| 3430 | Mic not proper but excellent sound quality\n",
       "                                                                                                                                                                            | Audio is excellent... As expected from boat.... But mic is not clear... People complaint about my voice not being clear\n",
       "                                                                                               | 1                                                                                                                                                                                                                       | boAt Rockerz 255                                                                                                                                                                                                        | Mic not proper but excellent sound quality\n",
       " Audio is excellent... As expected from boat.... But mic is not clear... People complaint about my voice not being clear\n",
       "                                                  |\n",
       "| 3696 | Its working as expected.\n",
       "                                                                                                                                                                                              | Sound Quality is good, price is little bit high. It should be around INR 600/-\n",
       "                                                                                                                                        | 1                                                                                                                                                                                                                       | boAt Rockerz 255                                                                                                                                                                                                        | Its working as expected.\n",
       " Sound Quality is good, price is little bit high. It should be around INR 600/-\n",
       "                                                                                                             |\n",
       "| 14323 | Bad bass quality\n",
       "                                                                                                                                                                                                      | No bass\n",
       "                                                                                                                                                                                                               | 0                                                                                                                                                                                                                       | JBL T110BT                                                                                                                                                                                                              | Bad bass quality\n",
       " No bass\n",
       "                                                                                                                                                                                            |\n",
       "| 4090 | Nothing I noticed\n",
       "                                                                                                                                                                                                     | Not good for running\n",
       "                                                                                                                                                                                                  | 1                                                                                                                                                                                                                       | boAt Rockerz 255                                                                                                                                                                                                        | Nothing I noticed\n",
       " Not good for running\n",
       "                                                                                                                                                                              |\n",
       "\n"
      ],
      "text/plain": [
       "      ReviewTitle                                 \n",
       "3786  Super bass level\\n                          \n",
       "503   Excellent Product\\n                         \n",
       "3430  Mic not proper but excellent sound quality\\n\n",
       "3696  Its working as expected.\\n                  \n",
       "14323 Bad bass quality\\n                          \n",
       "4090  Nothing I noticed\\n                         \n",
       "      ReviewBody                                                                                                                                                                                         \n",
       "3786  Super bass level with shape adaptable with ear, perfect fitting earpiece\\n                                                                                                                         \n",
       "503   Absolute Rock Star! No problem in paring with any phones, tried with iphone,samsung and pixel2. Work flawlessly. Great sound and bass effect. Great noise cancellation. Overall a 5 star product.\\n\n",
       "3430  Audio is excellent... As expected from boat.... But mic is not clear... People complaint about my voice not being clear\\n                                                                          \n",
       "3696  Sound Quality is good, price is little bit high. It should be around INR 600/-\\n                                                                                                                   \n",
       "14323 No bass\\n                                                                                                                                                                                          \n",
       "4090  Not good for running\\n                                                                                                                                                                             \n",
       "      ReviewStar Product         \n",
       "3786  1          boAt Rockerz 255\n",
       "503   1          boAt Rockerz 255\n",
       "3430  1          boAt Rockerz 255\n",
       "3696  1          boAt Rockerz 255\n",
       "14323 0          JBL T110BT      \n",
       "4090  1          boAt Rockerz 255\n",
       "      Combined                                                                                                                                                                                                               \n",
       "3786  Super bass level\\n Super bass level with shape adaptable with ear, perfect fitting earpiece\\n                                                                                                                          \n",
       "503   Excellent Product\\n Absolute Rock Star! No problem in paring with any phones, tried with iphone,samsung and pixel2. Work flawlessly. Great sound and bass effect. Great noise cancellation. Overall a 5 star product.\\n\n",
       "3430  Mic not proper but excellent sound quality\\n Audio is excellent... As expected from boat.... But mic is not clear... People complaint about my voice not being clear\\n                                                 \n",
       "3696  Its working as expected.\\n Sound Quality is good, price is little bit high. It should be around INR 600/-\\n                                                                                                            \n",
       "14323 Bad bass quality\\n No bass\\n                                                                                                                                                                                           \n",
       "4090  Nothing I noticed\\n Not good for running\\n                                                                                                                                                                             "
      ]
     },
     "metadata": {},
     "output_type": "display_data"
    }
   ],
   "source": [
    "## Split data into training and test sets\n",
    "sample_size = floor(0.7 * nrow(df_data))\n",
    "set.seed(100)\n",
    "\n",
    "df_train = df_data2[sample(nrow(df_data), sample_size),]\n",
    "df_test = df_data2[-sample(nrow(df_data), sample_size),]\n",
    "\n",
    "cat('Size of training data set: ', nrow(df_train), '\\n')\n",
    "cat('Size of testing data set: ', nrow(df_test), '\\n')\n",
    "\n",
    "head(df_train)"
   ]
  },
  {
   "cell_type": "code",
   "execution_count": 32,
   "id": "241230ce",
   "metadata": {},
   "outputs": [],
   "source": [
    "# Build corpuses\n",
    "train_corp = build_corpus(df_train$Combined, myStopWords)\n",
    "test_corp = build_corpus(df_test$Combined, myStopWords)"
   ]
  },
  {
   "cell_type": "code",
   "execution_count": 33,
   "id": "97582cfe",
   "metadata": {},
   "outputs": [],
   "source": [
    "# Build DTMs\n",
    "train_dtm = DocumentTermMatrix(train_corp, control = list(weighting = weightTf))\n",
    "train_dtm2 = removeSparseTerms(train_dtm, sparse_threshold)\n",
    "train_dtm_df = data.frame(as.matrix(train_dtm2))\n",
    "\n",
    "# No need to remove sparsity from the test dataset\n",
    "test_dtm = DocumentTermMatrix(test_corp, control = list(weighting = weightTf))\n",
    "test_dtm_df = data.frame(as.matrix(test_dtm))"
   ]
  },
  {
   "cell_type": "code",
   "execution_count": 34,
   "id": "2b941cd6",
   "metadata": {
    "scrolled": true
   },
   "outputs": [
    {
     "name": "stdout",
     "output_type": "stream",
     "text": [
      "Number of features for training data set:  130 \n",
      "Number of features for test data set:  4421 \n"
     ]
    },
    {
     "data": {
      "text/html": [
       "<table>\n",
       "<thead><tr><th scope=col>also</th><th scope=col>amaz</th><th scope=col>amazon</th><th scope=col>audio</th><th scope=col>averag</th><th scope=col>awesom</th><th scope=col>backup</th><th scope=col>bad</th><th scope=col>bass</th><th scope=col>batteri</th><th scope=col>...</th><th scope=col>well</th><th scope=col>will</th><th scope=col>wire</th><th scope=col>wireless</th><th scope=col>within</th><th scope=col>work</th><th scope=col>worst</th><th scope=col>worth</th><th scope=col>year</th><th scope=col>ReviewStar</th></tr></thead>\n",
       "<tbody>\n",
       "\t<tr><td>0  </td><td>0  </td><td>0  </td><td>0  </td><td>0  </td><td>0  </td><td>0  </td><td>0  </td><td>2  </td><td>0  </td><td>...</td><td>0  </td><td>0  </td><td>0  </td><td>0  </td><td>0  </td><td>0  </td><td>0  </td><td>0  </td><td>0  </td><td>1  </td></tr>\n",
       "\t<tr><td>0  </td><td>0  </td><td>0  </td><td>0  </td><td>0  </td><td>0  </td><td>0  </td><td>0  </td><td>1  </td><td>0  </td><td>...</td><td>0  </td><td>0  </td><td>0  </td><td>0  </td><td>0  </td><td>1  </td><td>0  </td><td>0  </td><td>0  </td><td>1  </td></tr>\n",
       "\t<tr><td>0  </td><td>0  </td><td>0  </td><td>1  </td><td>0  </td><td>0  </td><td>0  </td><td>0  </td><td>0  </td><td>0  </td><td>...</td><td>0  </td><td>0  </td><td>0  </td><td>0  </td><td>0  </td><td>0  </td><td>0  </td><td>0  </td><td>0  </td><td>1  </td></tr>\n",
       "\t<tr><td>0  </td><td>0  </td><td>0  </td><td>0  </td><td>0  </td><td>0  </td><td>0  </td><td>0  </td><td>0  </td><td>0  </td><td>...</td><td>0  </td><td>0  </td><td>0  </td><td>0  </td><td>0  </td><td>1  </td><td>0  </td><td>0  </td><td>0  </td><td>1  </td></tr>\n",
       "\t<tr><td>0  </td><td>0  </td><td>0  </td><td>0  </td><td>0  </td><td>0  </td><td>0  </td><td>1  </td><td>2  </td><td>0  </td><td>...</td><td>0  </td><td>0  </td><td>0  </td><td>0  </td><td>0  </td><td>0  </td><td>0  </td><td>0  </td><td>0  </td><td>0  </td></tr>\n",
       "\t<tr><td>0  </td><td>0  </td><td>0  </td><td>0  </td><td>0  </td><td>0  </td><td>0  </td><td>0  </td><td>0  </td><td>0  </td><td>...</td><td>0  </td><td>0  </td><td>0  </td><td>0  </td><td>0  </td><td>0  </td><td>0  </td><td>0  </td><td>0  </td><td>1  </td></tr>\n",
       "</tbody>\n",
       "</table>\n"
      ],
      "text/latex": [
       "\\begin{tabular}{r|lllllllllllllllllllllllllllllllllllllllllllllllllllllllllllllllllllllllllllllllllllllllllllllllllllllllllllllllllllllllllllllllllll}\n",
       " also & amaz & amazon & audio & averag & awesom & backup & bad & bass & batteri & ... & well & will & wire & wireless & within & work & worst & worth & year & ReviewStar\\\\\n",
       "\\hline\n",
       "\t 0   & 0   & 0   & 0   & 0   & 0   & 0   & 0   & 2   & 0   & ... & 0   & 0   & 0   & 0   & 0   & 0   & 0   & 0   & 0   & 1  \\\\\n",
       "\t 0   & 0   & 0   & 0   & 0   & 0   & 0   & 0   & 1   & 0   & ... & 0   & 0   & 0   & 0   & 0   & 1   & 0   & 0   & 0   & 1  \\\\\n",
       "\t 0   & 0   & 0   & 1   & 0   & 0   & 0   & 0   & 0   & 0   & ... & 0   & 0   & 0   & 0   & 0   & 0   & 0   & 0   & 0   & 1  \\\\\n",
       "\t 0   & 0   & 0   & 0   & 0   & 0   & 0   & 0   & 0   & 0   & ... & 0   & 0   & 0   & 0   & 0   & 1   & 0   & 0   & 0   & 1  \\\\\n",
       "\t 0   & 0   & 0   & 0   & 0   & 0   & 0   & 1   & 2   & 0   & ... & 0   & 0   & 0   & 0   & 0   & 0   & 0   & 0   & 0   & 0  \\\\\n",
       "\t 0   & 0   & 0   & 0   & 0   & 0   & 0   & 0   & 0   & 0   & ... & 0   & 0   & 0   & 0   & 0   & 0   & 0   & 0   & 0   & 1  \\\\\n",
       "\\end{tabular}\n"
      ],
      "text/markdown": [
       "\n",
       "| also | amaz | amazon | audio | averag | awesom | backup | bad | bass | batteri | ... | well | will | wire | wireless | within | work | worst | worth | year | ReviewStar |\n",
       "|---|---|---|---|---|---|---|---|---|---|---|---|---|---|---|---|---|---|---|---|---|\n",
       "| 0   | 0   | 0   | 0   | 0   | 0   | 0   | 0   | 2   | 0   | ... | 0   | 0   | 0   | 0   | 0   | 0   | 0   | 0   | 0   | 1   |\n",
       "| 0   | 0   | 0   | 0   | 0   | 0   | 0   | 0   | 1   | 0   | ... | 0   | 0   | 0   | 0   | 0   | 1   | 0   | 0   | 0   | 1   |\n",
       "| 0   | 0   | 0   | 1   | 0   | 0   | 0   | 0   | 0   | 0   | ... | 0   | 0   | 0   | 0   | 0   | 0   | 0   | 0   | 0   | 1   |\n",
       "| 0   | 0   | 0   | 0   | 0   | 0   | 0   | 0   | 0   | 0   | ... | 0   | 0   | 0   | 0   | 0   | 1   | 0   | 0   | 0   | 1   |\n",
       "| 0   | 0   | 0   | 0   | 0   | 0   | 0   | 1   | 2   | 0   | ... | 0   | 0   | 0   | 0   | 0   | 0   | 0   | 0   | 0   | 0   |\n",
       "| 0   | 0   | 0   | 0   | 0   | 0   | 0   | 0   | 0   | 0   | ... | 0   | 0   | 0   | 0   | 0   | 0   | 0   | 0   | 0   | 1   |\n",
       "\n"
      ],
      "text/plain": [
       "  also amaz amazon audio averag awesom backup bad bass batteri ... well will\n",
       "1 0    0    0      0     0      0      0      0   2    0       ... 0    0   \n",
       "2 0    0    0      0     0      0      0      0   1    0       ... 0    0   \n",
       "3 0    0    0      1     0      0      0      0   0    0       ... 0    0   \n",
       "4 0    0    0      0     0      0      0      0   0    0       ... 0    0   \n",
       "5 0    0    0      0     0      0      0      1   2    0       ... 0    0   \n",
       "6 0    0    0      0     0      0      0      0   0    0       ... 0    0   \n",
       "  wire wireless within work worst worth year ReviewStar\n",
       "1 0    0        0      0    0     0     0    1         \n",
       "2 0    0        0      1    0     0     0    1         \n",
       "3 0    0        0      0    0     0     0    1         \n",
       "4 0    0        0      1    0     0     0    1         \n",
       "5 0    0        0      0    0     0     0    0         \n",
       "6 0    0        0      0    0     0     0    1         "
      ]
     },
     "metadata": {},
     "output_type": "display_data"
    }
   ],
   "source": [
    "# Compile the data frame to pass into the SVM\n",
    "train_dat = data.frame(train_dtm_df, ReviewStar = as.factor(df_train$ReviewStar))\n",
    "test_dat = data.frame(test_dtm_df, ReviewStar = as.factor(df_test$ReviewStar))\n",
    "\n",
    "cat('Number of features for training data set: ', ncol(train_dtm_df), '\\n')\n",
    "cat('Number of features for test data set: ', ncol(test_dtm_df), '\\n')\n",
    "\n",
    "head(train_dat)"
   ]
  },
  {
   "cell_type": "markdown",
   "id": "60877961",
   "metadata": {},
   "source": [
    "## Running the SVM"
   ]
  },
  {
   "cell_type": "code",
   "execution_count": 35,
   "id": "bb5d25e9",
   "metadata": {
    "scrolled": true
   },
   "outputs": [],
   "source": [
    "# Finding parameters\n",
    "#test_svm = tune.svm(ReviewStar~., data = test_dat, kernel = 'radial', cost = .1:10, gamma = .01:1)"
   ]
  },
  {
   "cell_type": "code",
   "execution_count": 36,
   "id": "343bda9e",
   "metadata": {},
   "outputs": [],
   "source": [
    "# Resulting parameters from the above code:\n",
    "g = 0.01\n",
    "c = 9.1"
   ]
  },
  {
   "cell_type": "code",
   "execution_count": 37,
   "id": "9958387b",
   "metadata": {},
   "outputs": [],
   "source": [
    "# Create the model\n",
    "my_model = svm(ReviewStar~., data = train_dat, kernel = 'radial', cost = c, gamma = g)\n",
    "\n",
    "# Predict classes for training data\n",
    "pred = predict(my_model, test_dat)"
   ]
  },
  {
   "cell_type": "code",
   "execution_count": 38,
   "id": "e38d75c4",
   "metadata": {},
   "outputs": [
    {
     "name": "stdout",
     "output_type": "stream",
     "text": [
      "Number of test good reviews:  2838 \n",
      "Number of test bad reviews:  1464 \n",
      "\n",
      "0: Bad Review (1-3 stars)\n",
      "1: Good Review(4-5 stars)\n",
      "\n",
      "Columns indicate the class\n",
      "Rows indicate predictions\n",
      "    \n",
      "pred    0    1\n",
      "   0 1209  117\n",
      "   1  255 2721\n"
     ]
    }
   ],
   "source": [
    "# View the confusion matrix\n",
    "confmat = table(pred, test_dat$ReviewStar)\n",
    "\n",
    "cat('Number of test good reviews: ', nrow(df_test[df_test$ReviewStar == 1,]), '\\n')\n",
    "cat('Number of test bad reviews: ', nrow(df_test[df_test$ReviewStar == 0,]), '\\n\\n')\n",
    "cat('0: Bad Review (1-3 stars)\\n1: Good Review(4-5 stars)\\n\\n')\n",
    "cat('Columns indicate the class\\nRows indicate predictions\\n')\n",
    "\n",
    "print(confmat)"
   ]
  },
  {
   "cell_type": "code",
   "execution_count": 39,
   "id": "d12192da",
   "metadata": {},
   "outputs": [],
   "source": [
    "# Define function to view various ML stats\n",
    "ml_stats_2x2 = function(mat) {\n",
    "    # Works for a 2x2 confusion matrix - positive = 1, negative = 0\n",
    "    class = list(mat[,1], rev(mat[,2]))\n",
    "    \n",
    "    #c[1] = # from the class classified correctly\n",
    "    #c[2] = # from the class classified incorrectly\n",
    "    \n",
    "    sum_class = c(sum(class[[1]]), sum(class[[2]]))\n",
    "    \n",
    "    TP = c(class[[1]][1], class[[2]][1])\n",
    "    FP = c(class[[1]][2], class[[2]][2])\n",
    "    \n",
    "    tot_accuracy = c(sum(TP)/sum(sum(TP),sum(FP)), sum(TP)/sum(sum(TP),sum(FP)))\n",
    "    class_accuracy = c(TP[1]/sum_class[1], TP[2]/sum_class[2])\n",
    "    precision = c((TP[1] / (TP[1] + FP[1])), (TP[2] / (TP[2] + FP[2])))\n",
    "    recall = c((TP[1] / (TP[1] + FP[2])), (TP[2] / (TP[2] + FP[1])))\n",
    "    fscore = c( (2 * ((precision[1] * recall[1]) / (precision[1] + recall[1]))),\n",
    "               (2 * ((precision[2] * recall[2]) / (precision[2] + recall[2]))) )\n",
    "    \n",
    "    output = data.frame(sum_class = sum_class,\n",
    "                        tot_accuracy = tot_accuracy,\n",
    "                        class_accuracy = class_accuracy,\n",
    "                        TP = TP, \n",
    "                        FP = FP,\n",
    "                        fscore = fscore,\n",
    "                        precision = precision, \n",
    "                        recall = recall)\n",
    "  \n",
    "  return(output)\n",
    "  \n",
    "}"
   ]
  },
  {
   "cell_type": "code",
   "execution_count": 40,
   "id": "21a71113",
   "metadata": {},
   "outputs": [
    {
     "data": {
      "text/html": [
       "<table>\n",
       "<thead><tr><th></th><th scope=col>sum_class</th><th scope=col>tot_accuracy</th><th scope=col>class_accuracy</th><th scope=col>TP</th><th scope=col>FP</th><th scope=col>fscore</th><th scope=col>precision</th><th scope=col>recall</th></tr></thead>\n",
       "<tbody>\n",
       "\t<tr><th scope=row>0</th><td>1464     </td><td>0.9135286</td><td>0.8258197</td><td>1209     </td><td>255      </td><td>0.8666667</td><td>0.8258197</td><td>0.9117647</td></tr>\n",
       "\t<tr><th scope=row>1</th><td>2838     </td><td>0.9135286</td><td>0.9587738</td><td>2721     </td><td>117      </td><td>0.9360165</td><td>0.9587738</td><td>0.9143145</td></tr>\n",
       "</tbody>\n",
       "</table>\n"
      ],
      "text/latex": [
       "\\begin{tabular}{r|llllllll}\n",
       "  & sum\\_class & tot\\_accuracy & class\\_accuracy & TP & FP & fscore & precision & recall\\\\\n",
       "\\hline\n",
       "\t0 & 1464      & 0.9135286 & 0.8258197 & 1209      & 255       & 0.8666667 & 0.8258197 & 0.9117647\\\\\n",
       "\t1 & 2838      & 0.9135286 & 0.9587738 & 2721      & 117       & 0.9360165 & 0.9587738 & 0.9143145\\\\\n",
       "\\end{tabular}\n"
      ],
      "text/markdown": [
       "\n",
       "| <!--/--> | sum_class | tot_accuracy | class_accuracy | TP | FP | fscore | precision | recall |\n",
       "|---|---|---|---|---|---|---|---|---|\n",
       "| 0 | 1464      | 0.9135286 | 0.8258197 | 1209      | 255       | 0.8666667 | 0.8258197 | 0.9117647 |\n",
       "| 1 | 2838      | 0.9135286 | 0.9587738 | 2721      | 117       | 0.9360165 | 0.9587738 | 0.9143145 |\n",
       "\n"
      ],
      "text/plain": [
       "  sum_class tot_accuracy class_accuracy TP   FP  fscore    precision recall   \n",
       "0 1464      0.9135286    0.8258197      1209 255 0.8666667 0.8258197 0.9117647\n",
       "1 2838      0.9135286    0.9587738      2721 117 0.9360165 0.9587738 0.9143145"
      ]
     },
     "metadata": {},
     "output_type": "display_data"
    }
   ],
   "source": [
    "ml_stats_2x2(confmat)"
   ]
  },
  {
   "cell_type": "markdown",
   "id": "c9a966cb",
   "metadata": {},
   "source": [
    "## Analysis of SVM results\n",
    "\n",
    "The model performed fairly well with an overall 91.37% accuracy, though its accuracy for predicting bad reviews was much lower at 82\n",
    "58%. This is most likely due to the fact that there are only about half as many bad review examples as good review examples. Also, the term weights were not adjusted as in the earlier analysis -likely confusing the model. The model was much more successful at predicting good reviews with a 95.91% accuracy.\n",
    "\n",
    "The confusion matrix also shows that about twice as many instances were mistakenly classified as bad reviews than as good reviews, though this appears to correlate with there being twice as many good reviews than bad reviews. It also implies that some of these good reviews may contain content more associated with bad reviews than good.\n",
    "\n",
    "Still, the model had relatively high marks, with an fscore for the good reviews of 93.62.\n",
    "\n",
    "Utilizing n-grams of at least 2 terms each may also be useful in improving the model - one would expect many repeated negative word combinations in the bad review corpus (like 'not good' or 'not working'). As the terms are counted individually, this context is lost leading to increased positive words in the bad set and vice versa. Implementing n-grams would also aid in the analysis portion, providing more insight into what product qualities specifically that the user's are pointing out in their reviews."
   ]
  }
 ],
 "metadata": {
  "kernelspec": {
   "display_name": "R",
   "language": "R",
   "name": "ir"
  },
  "language_info": {
   "codemirror_mode": "r",
   "file_extension": ".r",
   "mimetype": "text/x-r-source",
   "name": "R",
   "pygments_lexer": "r",
   "version": "3.6.1"
  }
 },
 "nbformat": 4,
 "nbformat_minor": 5
}
