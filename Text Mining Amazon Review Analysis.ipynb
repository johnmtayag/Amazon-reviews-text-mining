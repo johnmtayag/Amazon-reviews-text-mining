{
 "cells": [
  {
   "cell_type": "markdown",
   "id": "95dff100",
   "metadata": {
    "tags": []
   },
   "source": [
    "# Analyzing Customer Reviews from Amazon\n",
    "\n",
    "### Analysis of the data and Rating prediction\n",
    "\n",
    "The purpose of this project is to analyze customer reviews of different headphones listings on Amazon. The reviews will be split into \"good\" and \"bad\" sets, and the review texts will be processed into tokens consisting of individual words. These will form the \"good\" and \"bad\" review corpuses that will be analyzed to determine the most important words in either good and bad review sets. They will also be used to predict if a review will be \"good\" or \"bad.\"\n",
    "\n",
    "This analysis has many real-world applications. While customers can manually include ratings for the product in their reviews, this rating is only an overall statement"
   ]
  },
  {
   "cell_type": "code",
   "execution_count": 1,
   "id": "acccdaf6-0c42-44cb-9273-396e8d2f893c",
   "metadata": {},
   "outputs": [
    {
     "data": {
      "text/html": [
       "<dl>\n",
       "\t<dt>$platform</dt>\n",
       "\t\t<dd>'x86_64-w64-mingw32'</dd>\n",
       "\t<dt>$arch</dt>\n",
       "\t\t<dd>'x86_64'</dd>\n",
       "\t<dt>$os</dt>\n",
       "\t\t<dd>'mingw32'</dd>\n",
       "\t<dt>$system</dt>\n",
       "\t\t<dd>'x86_64, mingw32'</dd>\n",
       "\t<dt>$status</dt>\n",
       "\t\t<dd>''</dd>\n",
       "\t<dt>$major</dt>\n",
       "\t\t<dd>'3'</dd>\n",
       "\t<dt>$minor</dt>\n",
       "\t\t<dd>'6.1'</dd>\n",
       "\t<dt>$year</dt>\n",
       "\t\t<dd>'2019'</dd>\n",
       "\t<dt>$month</dt>\n",
       "\t\t<dd>'07'</dd>\n",
       "\t<dt>$day</dt>\n",
       "\t\t<dd>'05'</dd>\n",
       "\t<dt>$`svn rev`</dt>\n",
       "\t\t<dd>'76782'</dd>\n",
       "\t<dt>$language</dt>\n",
       "\t\t<dd>'R'</dd>\n",
       "\t<dt>$version.string</dt>\n",
       "\t\t<dd>'R version 3.6.1 (2019-07-05)'</dd>\n",
       "\t<dt>$nickname</dt>\n",
       "\t\t<dd>'Action of the Toes'</dd>\n",
       "</dl>\n"
      ],
      "text/latex": [
       "\\begin{description}\n",
       "\\item[\\$platform] 'x86\\_64-w64-mingw32'\n",
       "\\item[\\$arch] 'x86\\_64'\n",
       "\\item[\\$os] 'mingw32'\n",
       "\\item[\\$system] 'x86\\_64, mingw32'\n",
       "\\item[\\$status] ''\n",
       "\\item[\\$major] '3'\n",
       "\\item[\\$minor] '6.1'\n",
       "\\item[\\$year] '2019'\n",
       "\\item[\\$month] '07'\n",
       "\\item[\\$day] '05'\n",
       "\\item[\\$`svn rev`] '76782'\n",
       "\\item[\\$language] 'R'\n",
       "\\item[\\$version.string] 'R version 3.6.1 (2019-07-05)'\n",
       "\\item[\\$nickname] 'Action of the Toes'\n",
       "\\end{description}\n"
      ],
      "text/markdown": [
       "$platform\n",
       ":   'x86_64-w64-mingw32'\n",
       "$arch\n",
       ":   'x86_64'\n",
       "$os\n",
       ":   'mingw32'\n",
       "$system\n",
       ":   'x86_64, mingw32'\n",
       "$status\n",
       ":   ''\n",
       "$major\n",
       ":   '3'\n",
       "$minor\n",
       ":   '6.1'\n",
       "$year\n",
       ":   '2019'\n",
       "$month\n",
       ":   '07'\n",
       "$day\n",
       ":   '05'\n",
       "$`svn rev`\n",
       ":   '76782'\n",
       "$language\n",
       ":   'R'\n",
       "$version.string\n",
       ":   'R version 3.6.1 (2019-07-05)'\n",
       "$nickname\n",
       ":   'Action of the Toes'\n",
       "\n",
       "\n"
      ],
      "text/plain": [
       "$platform\n",
       "[1] \"x86_64-w64-mingw32\"\n",
       "\n",
       "$arch\n",
       "[1] \"x86_64\"\n",
       "\n",
       "$os\n",
       "[1] \"mingw32\"\n",
       "\n",
       "$system\n",
       "[1] \"x86_64, mingw32\"\n",
       "\n",
       "$status\n",
       "[1] \"\"\n",
       "\n",
       "$major\n",
       "[1] \"3\"\n",
       "\n",
       "$minor\n",
       "[1] \"6.1\"\n",
       "\n",
       "$year\n",
       "[1] \"2019\"\n",
       "\n",
       "$month\n",
       "[1] \"07\"\n",
       "\n",
       "$day\n",
       "[1] \"05\"\n",
       "\n",
       "$`svn rev`\n",
       "[1] \"76782\"\n",
       "\n",
       "$language\n",
       "[1] \"R\"\n",
       "\n",
       "$version.string\n",
       "[1] \"R version 3.6.1 (2019-07-05)\"\n",
       "\n",
       "$nickname\n",
       "[1] \"Action of the Toes\"\n"
      ]
     },
     "metadata": {},
     "output_type": "display_data"
    }
   ],
   "source": [
    "R.Version()"
   ]
  },
  {
   "cell_type": "code",
   "execution_count": 2,
   "id": "9186ca6b",
   "metadata": {
    "scrolled": true
   },
   "outputs": [
    {
     "name": "stdout",
     "output_type": "stream",
     "text": [
      "\n",
      "  There is a binary version available but the source version is later:\n",
      "   binary source needs_compilation\n",
      "tm  0.7-8  0.7-9              TRUE\n",
      "\n",
      "  Binaries will be installed\n",
      "package 'tm' successfully unpacked and MD5 sums checked\n"
     ]
    },
    {
     "name": "stderr",
     "output_type": "stream",
     "text": [
      "Warning message:\n",
      "\"cannot remove prior installation of package 'tm'\"Warning message in file.copy(savedcopy, lib, recursive = TRUE):\n",
      "\"problem copying C:\\Users\\johnt\\anaconda3\\Lib\\R\\library\\00LOCK\\tm\\libs\\x64\\tm.dll to C:\\Users\\johnt\\anaconda3\\Lib\\R\\library\\tm\\libs\\x64\\tm.dll: Permission denied\"Warning message:\n",
      "\"restored 'tm'\""
     ]
    },
    {
     "name": "stdout",
     "output_type": "stream",
     "text": [
      "\n",
      "The downloaded binary packages are in\n",
      "\tC:\\Users\\johnt\\AppData\\Local\\Temp\\RtmpIdVXzC\\downloaded_packages\n",
      "package 'SnowballC' successfully unpacked and MD5 sums checked\n"
     ]
    },
    {
     "name": "stderr",
     "output_type": "stream",
     "text": [
      "Warning message:\n",
      "\"cannot remove prior installation of package 'SnowballC'\"Warning message in file.copy(savedcopy, lib, recursive = TRUE):\n",
      "\"problem copying C:\\Users\\johnt\\anaconda3\\Lib\\R\\library\\00LOCK\\SnowballC\\libs\\x64\\SnowballC.dll to C:\\Users\\johnt\\anaconda3\\Lib\\R\\library\\SnowballC\\libs\\x64\\SnowballC.dll: Permission denied\"Warning message:\n",
      "\"restored 'SnowballC'\""
     ]
    },
    {
     "name": "stdout",
     "output_type": "stream",
     "text": [
      "\n",
      "The downloaded binary packages are in\n",
      "\tC:\\Users\\johnt\\AppData\\Local\\Temp\\RtmpIdVXzC\\downloaded_packages\n",
      "\n",
      "  There is a binary version available (and will be installed) but the\n",
      "  source version is later:\n",
      "      binary source\n",
      "vctrs  0.3.8  0.4.2\n",
      "\n",
      "package 'vctrs' successfully unpacked and MD5 sums checked\n"
     ]
    },
    {
     "name": "stderr",
     "output_type": "stream",
     "text": [
      "Warning message:\n",
      "\"cannot remove prior installation of package 'vctrs'\"Warning message in file.copy(savedcopy, lib, recursive = TRUE):\n",
      "\"problem copying C:\\Users\\johnt\\anaconda3\\Lib\\R\\library\\00LOCK\\vctrs\\libs\\x64\\vctrs.dll to C:\\Users\\johnt\\anaconda3\\Lib\\R\\library\\vctrs\\libs\\x64\\vctrs.dll: Permission denied\"Warning message:\n",
      "\"restored 'vctrs'\""
     ]
    },
    {
     "name": "stdout",
     "output_type": "stream",
     "text": [
      "\n",
      "The downloaded binary packages are in\n",
      "\tC:\\Users\\johnt\\AppData\\Local\\Temp\\RtmpIdVXzC\\downloaded_packages\n",
      "\n",
      "  There is a binary version available (and will be installed) but the\n",
      "  source version is later:\n",
      "        binary source\n",
      "ggplot2  3.3.3  3.3.6\n",
      "\n",
      "package 'ggplot2' successfully unpacked and MD5 sums checked\n",
      "\n",
      "The downloaded binary packages are in\n",
      "\tC:\\Users\\johnt\\AppData\\Local\\Temp\\RtmpIdVXzC\\downloaded_packages\n",
      "package 'wordcloud' successfully unpacked and MD5 sums checked\n"
     ]
    },
    {
     "name": "stderr",
     "output_type": "stream",
     "text": [
      "Warning message:\n",
      "\"cannot remove prior installation of package 'wordcloud'\"Warning message in file.copy(savedcopy, lib, recursive = TRUE):\n",
      "\"problem copying C:\\Users\\johnt\\anaconda3\\Lib\\R\\library\\00LOCK\\wordcloud\\libs\\x64\\wordcloud.dll to C:\\Users\\johnt\\anaconda3\\Lib\\R\\library\\wordcloud\\libs\\x64\\wordcloud.dll: Permission denied\"Warning message:\n",
      "\"restored 'wordcloud'\""
     ]
    },
    {
     "name": "stdout",
     "output_type": "stream",
     "text": [
      "\n",
      "The downloaded binary packages are in\n",
      "\tC:\\Users\\johnt\\AppData\\Local\\Temp\\RtmpIdVXzC\\downloaded_packages\n",
      "\n",
      "  There is a binary version available but the source version is later:\n",
      "             binary source needs_compilation\n",
      "RColorBrewer  1.1-2  1.1-3             FALSE\n",
      "\n"
     ]
    },
    {
     "name": "stderr",
     "output_type": "stream",
     "text": [
      "installing the source package 'RColorBrewer'\n",
      "\n"
     ]
    },
    {
     "name": "stdout",
     "output_type": "stream",
     "text": [
      "\n",
      "  There is a binary version available but the source version is later:\n",
      "      binary source needs_compilation\n",
      "e1071  1.7-6 1.7-11              TRUE\n",
      "\n",
      "  Binaries will be installed\n",
      "package 'e1071' successfully unpacked and MD5 sums checked\n"
     ]
    },
    {
     "name": "stderr",
     "output_type": "stream",
     "text": [
      "Warning message:\n",
      "\"cannot remove prior installation of package 'e1071'\"Warning message in file.copy(savedcopy, lib, recursive = TRUE):\n",
      "\"problem copying C:\\Users\\johnt\\anaconda3\\Lib\\R\\library\\00LOCK\\e1071\\libs\\x64\\e1071.dll to C:\\Users\\johnt\\anaconda3\\Lib\\R\\library\\e1071\\libs\\x64\\e1071.dll: Permission denied\"Warning message:\n",
      "\"restored 'e1071'\""
     ]
    },
    {
     "name": "stdout",
     "output_type": "stream",
     "text": [
      "\n",
      "The downloaded binary packages are in\n",
      "\tC:\\Users\\johnt\\AppData\\Local\\Temp\\RtmpIdVXzC\\downloaded_packages\n"
     ]
    }
   ],
   "source": [
    "### Installation of packages\n",
    "\n",
    "# tm: Text mining packge\n",
    "# SnowballC: Stopwords dictionary\n",
    "# ggplot2: Plotting data\n",
    "# wordcloud: Making word clouds from the data\n",
    "# RColorBrewer: Additional color palettes for plots\n",
    "# e1071: SVM modeling\n",
    "\n",
    "install.packages('tm')\n",
    "install.packages('SnowballC')\n",
    "install.packages(\"vctrs\", type = \"binary\", dependencies = TRUE, repos = \"https://cloud.r-project.org\")\n",
    "install.packages(\"ggplot2\",\n",
    "                 type = \"binary\",\n",
    "                 dependencies = TRUE,\n",
    "                 repos = \"https://cloud.r-project.org\")\n",
    "install.packages('wordcloud')\n",
    "install.packages('RColorBrewer')\n",
    "install.packages('e1071')\n"
   ]
  },
  {
   "cell_type": "code",
   "execution_count": 3,
   "id": "b98ab5c4-c5b4-4bc9-8d61-3e9e92e2059a",
   "metadata": {},
   "outputs": [
    {
     "name": "stderr",
     "output_type": "stream",
     "text": [
      "Warning message:\n",
      "\"package 'tm' was built under R version 3.6.3\"Loading required package: NLP\n",
      "Warning message:\n",
      "\"package 'NLP' was built under R version 3.6.3\"Warning message:\n",
      "\"package 'SnowballC' was built under R version 3.6.3\"Warning message:\n",
      "\"package 'ggplot2' was built under R version 3.6.3\"\n",
      "Attaching package: 'ggplot2'\n",
      "\n",
      "The following object is masked from 'package:NLP':\n",
      "\n",
      "    annotate\n",
      "\n",
      "Warning message:\n",
      "\"package 'wordcloud' was built under R version 3.6.3\"Loading required package: RColorBrewer\n",
      "Warning message:\n",
      "\"package 'e1071' was built under R version 3.6.3\""
     ]
    }
   ],
   "source": [
    "library(tm)\n",
    "library(SnowballC)\n",
    "library(ggplot2)\n",
    "library(wordcloud)\n",
    "library(RColorBrewer)\n",
    "library(e1071)"
   ]
  },
  {
   "cell_type": "code",
   "execution_count": 4,
   "id": "14982b40",
   "metadata": {
    "scrolled": true,
    "tags": []
   },
   "outputs": [
    {
     "name": "stdout",
     "output_type": "stream",
     "text": [
      "Number of columns: 4 \n",
      "Number of rows: 14337"
     ]
    },
    {
     "data": {
      "text/html": [
       "<table>\n",
       "<thead><tr><th scope=col>ReviewTitle</th><th scope=col>ReviewBody</th><th scope=col>ReviewStar</th><th scope=col>Product</th></tr></thead>\n",
       "<tbody>\n",
       "\t<tr><td>Honest review of an edm music lover\n",
       "                                                                                                                                                                                                                                                                                                                                                                                                                                                                </td><td>No doubt it has a great bass and to a great extent noise cancellation and decent sound clarity and mindblowing battery but the following dissapointed me though i tried a lot to adjust.1.Bluetooth range not more than 10m2. Pain in ear due the conical buds(can be removed)3. Wires are a bit long which makes it odd in front.4. No pouch provided.5. Worst part is very low quality and distoring mic. Other person keeps complaining about my voice.\n",
       "                                         </td><td>3                                                                                                                                                                                                                                                                                                                                                                                                                                                                                                    </td><td>boAt Rockerz 255                                                                                                                                                                                                                                                                                                                                                                                                                                                                                     </td></tr>\n",
       "\t<tr><td><span style=white-space:pre-wrap>Unreliable earphones with high cost\n",
       "                      </span>                                                                                                                                                                                                                                                                                                                                                                                                                                                </td><td><span style=white-space:pre-wrap>This  earphones are unreliable, i bought it before 15 days meanwhile right side ear buds got cracked automatically and it got divided in two parts, and sound quality is also not that much good but ok, one more thing bass is not good as it is a boat earphones.Guys,Also for the proof i have attached picsPlease see and think before buying&lt;U+200B&gt; this unreliable product.Thanks.\n",
       "                                                                                                          </span></td><td>1                                                                                                                                                                                                                                                                                                                                                                                                                                                                                                                                                  </td><td>boAt Rockerz 255                                                                                                                                                                                                                                                                                                                                                                                                                                                                                                                                   </td></tr>\n",
       "\t<tr><td>Really good and durable.\n",
       "                                                                                                                                                                                                                                                                                                                                                                                                                                                                           </td><td>i bought itfor 999,I purchased it second time, gifted first one to brother. This is really good.Sound quality is really good.You can connect 2 devices at a time.I connect laptop and mobile both.when listening muaic on Lappy, if u get a call, it switches to mobile,this switch between device is not good but again in this price its awesome.Battery stand by is 36 hours for me, and i have used it continously for 8 hours in one go. So Battery life is pretty awesome.Comfortable on ear.\n",
       "</td><td>4                                                                                                                                                                                                                                                                                                                                                                                                                                                                                                    </td><td>boAt Rockerz 255                                                                                                                                                                                                                                                                                                                                                                                                                                                                                     </td></tr>\n",
       "\t<tr><td>stopped working in just 14 days\n",
       "                                                                                                                                                                                                                                                                                                                                                                                                                                                                    </td><td>Its sound quality is adorable. overall it was good but just for 2 weeks after that it stopped working and since then it never powered on again. I am claiming for warrenty and it is still undergoing.\n",
       "                                                                                                                                                                                                                                                                                             </td><td>1                                                                                                                                                                                                                                                                                                                                                                                                                                                                                                    </td><td>boAt Rockerz 255                                                                                                                                                                                                                                                                                                                                                                                                                                                                                     </td></tr>\n",
       "\t<tr><td>Just Awesome Wireless Headphone under 1000...&lt;U+0001F609&gt;\n",
       "                                                                                                                                                                                                                                                                                                                                                                                                                                                                                      </td><td><span style=white-space:pre-wrap>Its Awesome... Good sound quality &amp; 8-9 hrs battery life... Just waww look... &lt;U+0001F609&gt; I brought just 999 rupees...But Amazon's Packageing system is Very bad... Very poor packaging... Flipcart's packaging system is much better than Amazon...\n",
       "                                                                                                                                                                                                                                              </span></td><td>5                                                                                                                                                                                                                                                                                                                                                                                                                                                                                                                                                      </td><td>boAt Rockerz 255                                                                                                                                                                                                                                                                                                                                                                                                                                                                                                                                       </td></tr>\n",
       "\t<tr><td>Charging port not working\n",
       "                                                                                                                                                                                                                                                                                                                                                                                                                                                                          </td><td>After 11 days, the charging port isn't working and now I can't even return it. Wat to do ?? I know there is one year warranty but it is only been 11 days. C'mon boat, please send me new one.\n",
       "                                                                                                                                                                                                                                                                                                     </td><td>1                                                                                                                                                                                                                                                                                                                                                                                                                                                                                                    </td><td>boAt Rockerz 255                                                                                                                                                                                                                                                                                                                                                                                                                                                                                     </td></tr>\n",
       "</tbody>\n",
       "</table>\n"
      ],
      "text/latex": [
       "\\begin{tabular}{r|llll}\n",
       " ReviewTitle & ReviewBody & ReviewStar & Product\\\\\n",
       "\\hline\n",
       "\t Honest review of an edm music lover\n",
       "                                                                                                                                                                                                                                                                                                                                                                                                                                                                 & No doubt it has a great bass and to a great extent noise cancellation and decent sound clarity and mindblowing battery but the following dissapointed me though i tried a lot to adjust.1.Bluetooth range not more than 10m2. Pain in ear due the conical buds(can be removed)3. Wires are a bit long which makes it odd in front.4. No pouch provided.5. Worst part is very low quality and distoring mic. Other person keeps complaining about my voice.\n",
       "                                          & 3                                                                                                                                                                                                                                                                                                                                                                                                                                                                                                     & boAt Rockerz 255                                                                                                                                                                                                                                                                                                                                                                                                                                                                                     \\\\\n",
       "\t Unreliable earphones with high cost\n",
       "                                                                                                                                                                                                                                                                                                                                                                                                                                                                 & This  earphones are unreliable, i bought it before 15 days meanwhile right side ear buds got cracked automatically and it got divided in two parts, and sound quality is also not that much good but ok, one more thing bass is not good as it is a boat earphones.Guys,Also for the proof i have attached picsPlease see and think before buying<U+200B> this unreliable product.Thanks.\n",
       "                                                                                                           & 1                                                                                                                                                                                                                                                                                                                                                                                                                                                                                                     & boAt Rockerz 255                                                                                                                                                                                                                                                                                                                                                                                                                                                                                     \\\\\n",
       "\t Really good and durable.\n",
       "                                                                                                                                                                                                                                                                                                                                                                                                                                                                            & i bought itfor 999,I purchased it second time, gifted first one to brother. This is really good.Sound quality is really good.You can connect 2 devices at a time.I connect laptop and mobile both.when listening muaic on Lappy, if u get a call, it switches to mobile,this switch between device is not good but again in this price its awesome.Battery stand by is 36 hours for me, and i have used it continously for 8 hours in one go. So Battery life is pretty awesome.Comfortable on ear.\n",
       " & 4                                                                                                                                                                                                                                                                                                                                                                                                                                                                                                     & boAt Rockerz 255                                                                                                                                                                                                                                                                                                                                                                                                                                                                                     \\\\\n",
       "\t stopped working in just 14 days\n",
       "                                                                                                                                                                                                                                                                                                                                                                                                                                                                     & Its sound quality is adorable. overall it was good but just for 2 weeks after that it stopped working and since then it never powered on again. I am claiming for warrenty and it is still undergoing.\n",
       "                                                                                                                                                                                                                                                                                              & 1                                                                                                                                                                                                                                                                                                                                                                                                                                                                                                     & boAt Rockerz 255                                                                                                                                                                                                                                                                                                                                                                                                                                                                                     \\\\\n",
       "\t Just Awesome Wireless Headphone under 1000...<U+0001F609>\n",
       "                                                                                                                                                                                                                                                                                                                                                                                                                                             & Its Awesome... Good sound quality \\& 8-9 hrs battery life... Just waww look... <U+0001F609> I brought just 999 rupees...But Amazon's Packageing system is Very bad... Very poor packaging... Flipcart's packaging system is much better than Amazon...\n",
       "                                                                                                                                                                                                                                               & 5                                                                                                                                                                                                                                                                                                                                                                                                                                                                                                       & boAt Rockerz 255                                                                                                                                                                                                                                                                                                                                                                                                                                                                                       \\\\\n",
       "\t Charging port not working\n",
       "                                                                                                                                                                                                                                                                                                                                                                                                                                                                           & After 11 days, the charging port isn't working and now I can't even return it. Wat to do ?? I know there is one year warranty but it is only been 11 days. C'mon boat, please send me new one.\n",
       "                                                                                                                                                                                                                                                                                                      & 1                                                                                                                                                                                                                                                                                                                                                                                                                                                                                                     & boAt Rockerz 255                                                                                                                                                                                                                                                                                                                                                                                                                                                                                     \\\\\n",
       "\\end{tabular}\n"
      ],
      "text/markdown": [
       "\n",
       "| ReviewTitle | ReviewBody | ReviewStar | Product |\n",
       "|---|---|---|---|\n",
       "| Honest review of an edm music lover\n",
       "                                                                                                                                                                                                                                                                                                                                                                                                                                                                 | No doubt it has a great bass and to a great extent noise cancellation and decent sound clarity and mindblowing battery but the following dissapointed me though i tried a lot to adjust.1.Bluetooth range not more than 10m2. Pain in ear due the conical buds(can be removed)3. Wires are a bit long which makes it odd in front.4. No pouch provided.5. Worst part is very low quality and distoring mic. Other person keeps complaining about my voice.\n",
       "                                          | 3                                                                                                                                                                                                                                                                                                                                                                                                                                                                                                     | boAt Rockerz 255                                                                                                                                                                                                                                                                                                                                                                                                                                                                                      |\n",
       "| Unreliable earphones with high cost\n",
       "                                                                                                                                                                                                                                                                                                                                                                                                                                                                 | This  earphones are unreliable, i bought it before 15 days meanwhile right side ear buds got cracked automatically and it got divided in two parts, and sound quality is also not that much good but ok, one more thing bass is not good as it is a boat earphones.Guys,Also for the proof i have attached picsPlease see and think before buying<U+200B> this unreliable product.Thanks.\n",
       "                                                                                                           | 1                                                                                                                                                                                                                                                                                                                                                                                                                                                                                                     | boAt Rockerz 255                                                                                                                                                                                                                                                                                                                                                                                                                                                                                      |\n",
       "| Really good and durable.\n",
       "                                                                                                                                                                                                                                                                                                                                                                                                                                                                            | i bought itfor 999,I purchased it second time, gifted first one to brother. This is really good.Sound quality is really good.You can connect 2 devices at a time.I connect laptop and mobile both.when listening muaic on Lappy, if u get a call, it switches to mobile,this switch between device is not good but again in this price its awesome.Battery stand by is 36 hours for me, and i have used it continously for 8 hours in one go. So Battery life is pretty awesome.Comfortable on ear.\n",
       " | 4                                                                                                                                                                                                                                                                                                                                                                                                                                                                                                     | boAt Rockerz 255                                                                                                                                                                                                                                                                                                                                                                                                                                                                                      |\n",
       "| stopped working in just 14 days\n",
       "                                                                                                                                                                                                                                                                                                                                                                                                                                                                     | Its sound quality is adorable. overall it was good but just for 2 weeks after that it stopped working and since then it never powered on again. I am claiming for warrenty and it is still undergoing.\n",
       "                                                                                                                                                                                                                                                                                              | 1                                                                                                                                                                                                                                                                                                                                                                                                                                                                                                     | boAt Rockerz 255                                                                                                                                                                                                                                                                                                                                                                                                                                                                                      |\n",
       "| Just Awesome Wireless Headphone under 1000...<U+0001F609>\n",
       "                                                                                                                                                                                                                                                                                                                                                                                                                                           | Its Awesome... Good sound quality & 8-9 hrs battery life... Just waww look... <U+0001F609> I brought just 999 rupees...But Amazon's Packageing system is Very bad... Very poor packaging... Flipcart's packaging system is much better than Amazon...\n",
       "                                                                                                                                                                                                                                               | 5                                                                                                                                                                                                                                                                                                                                                                                                                                                                                                     | boAt Rockerz 255                                                                                                                                                                                                                                                                                                                                                                                                                                                                                      |\n",
       "| Charging port not working\n",
       "                                                                                                                                                                                                                                                                                                                                                                                                                                                                           | After 11 days, the charging port isn't working and now I can't even return it. Wat to do ?? I know there is one year warranty but it is only been 11 days. C'mon boat, please send me new one.\n",
       "                                                                                                                                                                                                                                                                                                      | 1                                                                                                                                                                                                                                                                                                                                                                                                                                                                                                     | boAt Rockerz 255                                                                                                                                                                                                                                                                                                                                                                                                                                                                                      |\n",
       "\n"
      ],
      "text/plain": [
       "  ReviewTitle                                                \n",
       "1 Honest review of an edm music lover\\n                      \n",
       "2 Unreliable earphones with high cost\\n                      \n",
       "3 Really good and durable.\\n                                 \n",
       "4 stopped working in just 14 days\\n                          \n",
       "5 Just Awesome Wireless Headphone under 1000...<U+0001F609>\\n\n",
       "6 Charging port not working\\n                                \n",
       "  ReviewBody                                                                                                                                                                                                                                                                                                                                                                                                                                                                                           \n",
       "1 No doubt it has a great bass and to a great extent noise cancellation and decent sound clarity and mindblowing battery but the following dissapointed me though i tried a lot to adjust.1.Bluetooth range not more than 10m2. Pain in ear due the conical buds(can be removed)3. Wires are a bit long which makes it odd in front.4. No pouch provided.5. Worst part is very low quality and distoring mic. Other person keeps complaining about my voice.\\n                                         \n",
       "2 This  earphones are unreliable, i bought it before 15 days meanwhile right side ear buds got cracked automatically and it got divided in two parts, and sound quality is also not that much good but ok, one more thing bass is not good as it is a boat earphones.Guys,Also for the proof i have attached picsPlease see and think before buying<U+200B> this unreliable product.Thanks.\\n                                                                                                          \n",
       "3 i bought itfor 999,I purchased it second time, gifted first one to brother. This is really good.Sound quality is really good.You can connect 2 devices at a time.I connect laptop and mobile both.when listening muaic on Lappy, if u get a call, it switches to mobile,this switch between device is not good but again in this price its awesome.Battery stand by is 36 hours for me, and i have used it continously for 8 hours in one go. So Battery life is pretty awesome.Comfortable on ear.\\n\n",
       "4 Its sound quality is adorable. overall it was good but just for 2 weeks after that it stopped working and since then it never powered on again. I am claiming for warrenty and it is still undergoing.\\n                                                                                                                                                                                                                                                                                             \n",
       "5 Its Awesome... Good sound quality & 8-9 hrs battery life... Just waww look... <U+0001F609> I brought just 999 rupees...But Amazon's Packageing system is Very bad... Very poor packaging... Flipcart's packaging system is much better than Amazon...\\n                                                                                                                                                                                                                                              \n",
       "6 After 11 days, the charging port isn't working and now I can't even return it. Wat to do ?? I know there is one year warranty but it is only been 11 days. C'mon boat, please send me new one.\\n                                                                                                                                                                                                                                                                                                     \n",
       "  ReviewStar Product         \n",
       "1 3          boAt Rockerz 255\n",
       "2 1          boAt Rockerz 255\n",
       "3 4          boAt Rockerz 255\n",
       "4 1          boAt Rockerz 255\n",
       "5 5          boAt Rockerz 255\n",
       "6 1          boAt Rockerz 255"
      ]
     },
     "metadata": {},
     "output_type": "display_data"
    }
   ],
   "source": [
    "### Importing the review dataset\n",
    "\n",
    "df_data = read.csv(\"AllProductReviews.csv\", encoding = 'UTF-8')\n",
    "\n",
    "n_reviews = nrow(df_data)\n",
    "\n",
    "cat('Number of columns:', length(df_data), '\\n')\n",
    "cat('Number of rows:', n_reviews)\n",
    "\n",
    "head(df_data)"
   ]
  },
  {
   "cell_type": "markdown",
   "id": "9a83c5cc",
   "metadata": {},
   "source": [
    "### To facilitate easier processing, I will assign good reviews to '1' and bad reviews to '0'"
   ]
  },
  {
   "cell_type": "code",
   "execution_count": 5,
   "id": "ba29fa9f",
   "metadata": {
    "scrolled": true,
    "tags": []
   },
   "outputs": [
    {
     "name": "stdout",
     "output_type": "stream",
     "text": [
      "Number of 1 star reviews: 2493 \n",
      "Number of 2 star reviews: 939 \n",
      "Number of 3 star reviews: 1503 \n",
      "Number of 4 star reviews: 3189 \n",
      "Number of 5 star reviews: 6213 \n"
     ]
    },
    {
     "data": {
      "image/png": "[encoded data removed]",
      "text/plain": [
       "plot without title"
      ]
     },
     "metadata": {},
     "output_type": "display_data"
    }
   ],
   "source": [
    "### View the number of reviews from each rating\n",
    "\n",
    "rating = c(1,2,3,4,5)  # Amazon uses a 5 star rating system\n",
    "ratingnum = c()\n",
    "\n",
    "for (i in rating) {\n",
    "    # Loop through rating values and add number of reviews for that value to ratingnum\n",
    "    ratingnum = c(ratingnum, length(df_data[df_data$ReviewStar == i, 3]) )\n",
    "    \n",
    "    # Print the number\n",
    "    cat('Number of', i, 'star reviews:', ratingnum[i], '\\n')\n",
    "}\n",
    "\n",
    "# Convert to a dataframe\n",
    "ratingdata = data.frame(rating = rating, ratingnum = ratingnum)\n",
    "\n",
    "# Plot in a bar chart\n",
    "ggplot(ratingdata, aes(x = '', y = ratingnum, fill = rating, color = rating)) +\n",
    "  geom_bar(stat = 'identity', color = 'white') +\n",
    "  coord_polar('y') +\n",
    "  theme_void() +\n",
    "  ggtitle('Number of reviews for each rating number')"
   ]
  },
  {
   "cell_type": "code",
   "execution_count": 6,
   "id": "b55c9a32",
   "metadata": {},
   "outputs": [],
   "source": [
    "# Combined: Column that combines the ReviewTitle and ReviewBody contents\n",
    "df_data$Combined = paste(df_data[[1]], df_data[[2]])"
   ]
  },
  {
   "cell_type": "markdown",
   "id": "336e50ff",
   "metadata": {},
   "source": [
    "## Binning the reviews into categories and merging title/body text\n",
    "\n",
    "The number of 5 star reviews is larger than the number of 1, 2, and 3 star reviews combined - the number of 2 star reviews doesn't even break 1000. The data is thus skewed, and if machine learning algorithms are run with the current 5 categories, it would likely be innaccurate.\n",
    "\n",
    "From a business's perspective, though, customer satisfaction is key - any rating lower than perfect can be considered bad. If the customer left a low rating, they were unsatisfied with something, and discovering these issues is important for guiding product development.\n",
    "\n",
    "I will create two class bins - \"good\" reviews consisting of 4/5 star reviews, and \"bad\" reviews consisting of all others (1-3 star reviews). This is technically still skewed toward the good review category, but this is a fairly accurate representation of sentiment - a 4 star rating or better would typically be considered good on a 5 star spectrum.\n",
    "\n",
    "I will also merge the title with the body into a single text block - this is because the title acts as a summarized version of the review where the most important criticism is noted."
   ]
  },
  {
   "cell_type": "code",
   "execution_count": 7,
   "id": "6836bc44",
   "metadata": {},
   "outputs": [
    {
     "data": {
      "text/html": [
       "<table>\n",
       "<thead><tr><th scope=col>ReviewTitle</th><th scope=col>ReviewBody</th><th scope=col>ReviewStar</th><th scope=col>Product</th><th scope=col>Combined</th><th scope=col>class</th></tr></thead>\n",
       "<tbody>\n",
       "\t<tr><td>Honest review of an edm music lover\n",
       "                                                                                                                                                                                                                                                                                                                                                                                                                                                                                           </td><td>No doubt it has a great bass and to a great extent noise cancellation and decent sound clarity and mindblowing battery but the following dissapointed me though i tried a lot to adjust.1.Bluetooth range not more than 10m2. Pain in ear due the conical buds(can be removed)3. Wires are a bit long which makes it odd in front.4. No pouch provided.5. Worst part is very low quality and distoring mic. Other person keeps complaining about my voice.\n",
       "                                                                    </td><td>3                                                                                                                                                                                                                                                                                                                                                                                                                                                                                                                               </td><td>boAt Rockerz 255                                                                                                                                                                                                                                                                                                                                                                                                                                                                                                                </td><td>Honest review of an edm music lover\n",
       " No doubt it has a great bass and to a great extent noise cancellation and decent sound clarity and mindblowing battery but the following dissapointed me though i tried a lot to adjust.1.Bluetooth range not more than 10m2. Pain in ear due the conical buds(can be removed)3. Wires are a bit long which makes it odd in front.4. No pouch provided.5. Worst part is very low quality and distoring mic. Other person keeps complaining about my voice.\n",
       "                              </td><td>bad                                                                                                                                                                                                                                                                                                                                                                                                                                                                                                                             </td></tr>\n",
       "\t<tr><td>Unreliable earphones with high cost\n",
       "                                                                                                                                                                                                                                                                                                                                                                                                                                                                                                                                         </td><td><span style=white-space:pre-wrap>This  earphones are unreliable, i bought it before 15 days meanwhile right side ear buds got cracked automatically and it got divided in two parts, and sound quality is also not that much good but ok, one more thing bass is not good as it is a boat earphones.Guys,Also for the proof i have attached picsPlease see and think before buying&lt;U+200B&gt; this unreliable product.Thanks.\n",
       "                                                                                                          </span>                           </td><td>1                                                                                                                                                                                                                                                                                                                                                                                                                                                                                                                                                                             </td><td>boAt Rockerz 255                                                                                                                                                                                                                                                                                                                                                                                                                                                                                                                                                              </td><td><span style=white-space:pre-wrap>Unreliable earphones with high cost\n",
       " This  earphones are unreliable, i bought it before 15 days meanwhile right side ear buds got cracked automatically and it got divided in two parts, and sound quality is also not that much good but ok, one more thing bass is not good as it is a boat earphones.Guys,Also for the proof i have attached picsPlease see and think before buying&lt;U+200B&gt; this unreliable product.Thanks.\n",
       "                                                                                               </span></td><td>bad                                                                                                                                                                                                                                                                                                                                                                                                                                                                                                                                                                           </td></tr>\n",
       "\t<tr><td>Really good and durable.\n",
       "                                                                                                                                                                                                                                                                                                                                                                                                                                                                                                      </td><td>i bought itfor 999,I purchased it second time, gifted first one to brother. This is really good.Sound quality is really good.You can connect 2 devices at a time.I connect laptop and mobile both.when listening muaic on Lappy, if u get a call, it switches to mobile,this switch between device is not good but again in this price its awesome.Battery stand by is 36 hours for me, and i have used it continously for 8 hours in one go. So Battery life is pretty awesome.Comfortable on ear.\n",
       "                           </td><td>4                                                                                                                                                                                                                                                                                                                                                                                                                                                                                                                               </td><td>boAt Rockerz 255                                                                                                                                                                                                                                                                                                                                                                                                                                                                                                                </td><td>Really good and durable.\n",
       " i bought itfor 999,I purchased it second time, gifted first one to brother. This is really good.Sound quality is really good.You can connect 2 devices at a time.I connect laptop and mobile both.when listening muaic on Lappy, if u get a call, it switches to mobile,this switch between device is not good but again in this price its awesome.Battery stand by is 36 hours for me, and i have used it continously for 8 hours in one go. So Battery life is pretty awesome.Comfortable on ear.\n",
       "</td><td>good                                                                                                                                                                                                                                                                                                                                                                                                                                                                                                                            </td></tr>\n",
       "</tbody>\n",
       "</table>\n"
      ],
      "text/latex": [
       "\\begin{tabular}{r|llllll}\n",
       " ReviewTitle & ReviewBody & ReviewStar & Product & Combined & class\\\\\n",
       "\\hline\n",
       "\t Honest review of an edm music lover\n",
       "                                                                                                                                                                                                                                                                                                                                                                                                                                                                                            & No doubt it has a great bass and to a great extent noise cancellation and decent sound clarity and mindblowing battery but the following dissapointed me though i tried a lot to adjust.1.Bluetooth range not more than 10m2. Pain in ear due the conical buds(can be removed)3. Wires are a bit long which makes it odd in front.4. No pouch provided.5. Worst part is very low quality and distoring mic. Other person keeps complaining about my voice.\n",
       "                                                                     & 3                                                                                                                                                                                                                                                                                                                                                                                                                                                                                                                                & boAt Rockerz 255                                                                                                                                                                                                                                                                                                                                                                                                                                                                                                                 & Honest review of an edm music lover\n",
       " No doubt it has a great bass and to a great extent noise cancellation and decent sound clarity and mindblowing battery but the following dissapointed me though i tried a lot to adjust.1.Bluetooth range not more than 10m2. Pain in ear due the conical buds(can be removed)3. Wires are a bit long which makes it odd in front.4. No pouch provided.5. Worst part is very low quality and distoring mic. Other person keeps complaining about my voice.\n",
       "                               & bad                                                                                                                                                                                                                                                                                                                                                                                                                                                                                                                             \\\\\n",
       "\t Unreliable earphones with high cost\n",
       "                                                                                                                                                                                                                                                                                                                                                                                                                                                                                            & This  earphones are unreliable, i bought it before 15 days meanwhile right side ear buds got cracked automatically and it got divided in two parts, and sound quality is also not that much good but ok, one more thing bass is not good as it is a boat earphones.Guys,Also for the proof i have attached picsPlease see and think before buying<U+200B> this unreliable product.Thanks.\n",
       "                                                                                                                                      & 1                                                                                                                                                                                                                                                                                                                                                                                                                                                                                                                                & boAt Rockerz 255                                                                                                                                                                                                                                                                                                                                                                                                                                                                                                                 & Unreliable earphones with high cost\n",
       " This  earphones are unreliable, i bought it before 15 days meanwhile right side ear buds got cracked automatically and it got divided in two parts, and sound quality is also not that much good but ok, one more thing bass is not good as it is a boat earphones.Guys,Also for the proof i have attached picsPlease see and think before buying<U+200B> this unreliable product.Thanks.\n",
       "                                                                                                & bad                                                                                                                                                                                                                                                                                                                                                                                                                                                                                                                             \\\\\n",
       "\t Really good and durable.\n",
       "                                                                                                                                                                                                                                                                                                                                                                                                                                                                                                       & i bought itfor 999,I purchased it second time, gifted first one to brother. This is really good.Sound quality is really good.You can connect 2 devices at a time.I connect laptop and mobile both.when listening muaic on Lappy, if u get a call, it switches to mobile,this switch between device is not good but again in this price its awesome.Battery stand by is 36 hours for me, and i have used it continously for 8 hours in one go. So Battery life is pretty awesome.Comfortable on ear.\n",
       "                            & 4                                                                                                                                                                                                                                                                                                                                                                                                                                                                                                                                & boAt Rockerz 255                                                                                                                                                                                                                                                                                                                                                                                                                                                                                                                 & Really good and durable.\n",
       " i bought itfor 999,I purchased it second time, gifted first one to brother. This is really good.Sound quality is really good.You can connect 2 devices at a time.I connect laptop and mobile both.when listening muaic on Lappy, if u get a call, it switches to mobile,this switch between device is not good but again in this price its awesome.Battery stand by is 36 hours for me, and i have used it continously for 8 hours in one go. So Battery life is pretty awesome.Comfortable on ear.\n",
       " & good                                                                                                                                                                                                                                                                                                                                                                                                                                                                                                                            \\\\\n",
       "\\end{tabular}\n"
      ],
      "text/markdown": [
       "\n",
       "| ReviewTitle | ReviewBody | ReviewStar | Product | Combined | class |\n",
       "|---|---|---|---|---|---|\n",
       "| Honest review of an edm music lover\n",
       "                                                                                                                                                                                                                                                                                                                                                                                                                                                                                            | No doubt it has a great bass and to a great extent noise cancellation and decent sound clarity and mindblowing battery but the following dissapointed me though i tried a lot to adjust.1.Bluetooth range not more than 10m2. Pain in ear due the conical buds(can be removed)3. Wires are a bit long which makes it odd in front.4. No pouch provided.5. Worst part is very low quality and distoring mic. Other person keeps complaining about my voice.\n",
       "                                                                     | 3                                                                                                                                                                                                                                                                                                                                                                                                                                                                                                                                | boAt Rockerz 255                                                                                                                                                                                                                                                                                                                                                                                                                                                                                                                 | Honest review of an edm music lover\n",
       " No doubt it has a great bass and to a great extent noise cancellation and decent sound clarity and mindblowing battery but the following dissapointed me though i tried a lot to adjust.1.Bluetooth range not more than 10m2. Pain in ear due the conical buds(can be removed)3. Wires are a bit long which makes it odd in front.4. No pouch provided.5. Worst part is very low quality and distoring mic. Other person keeps complaining about my voice.\n",
       "                               | bad                                                                                                                                                                                                                                                                                                                                                                                                                                                                                                                              |\n",
       "| Unreliable earphones with high cost\n",
       "                                                                                                                                                                                                                                                                                                                                                                                                                                                                                            | This  earphones are unreliable, i bought it before 15 days meanwhile right side ear buds got cracked automatically and it got divided in two parts, and sound quality is also not that much good but ok, one more thing bass is not good as it is a boat earphones.Guys,Also for the proof i have attached picsPlease see and think before buying<U+200B> this unreliable product.Thanks.\n",
       "                                                                                                                                      | 1                                                                                                                                                                                                                                                                                                                                                                                                                                                                                                                                | boAt Rockerz 255                                                                                                                                                                                                                                                                                                                                                                                                                                                                                                                 | Unreliable earphones with high cost\n",
       " This  earphones are unreliable, i bought it before 15 days meanwhile right side ear buds got cracked automatically and it got divided in two parts, and sound quality is also not that much good but ok, one more thing bass is not good as it is a boat earphones.Guys,Also for the proof i have attached picsPlease see and think before buying<U+200B> this unreliable product.Thanks.\n",
       "                                                                                                | bad                                                                                                                                                                                                                                                                                                                                                                                                                                                                                                                              |\n",
       "| Really good and durable.\n",
       "                                                                                                                                                                                                                                                                                                                                                                                                                                                                                                       | i bought itfor 999,I purchased it second time, gifted first one to brother. This is really good.Sound quality is really good.You can connect 2 devices at a time.I connect laptop and mobile both.when listening muaic on Lappy, if u get a call, it switches to mobile,this switch between device is not good but again in this price its awesome.Battery stand by is 36 hours for me, and i have used it continously for 8 hours in one go. So Battery life is pretty awesome.Comfortable on ear.\n",
       "                            | 4                                                                                                                                                                                                                                                                                                                                                                                                                                                                                                                                | boAt Rockerz 255                                                                                                                                                                                                                                                                                                                                                                                                                                                                                                                 | Really good and durable.\n",
       " i bought itfor 999,I purchased it second time, gifted first one to brother. This is really good.Sound quality is really good.You can connect 2 devices at a time.I connect laptop and mobile both.when listening muaic on Lappy, if u get a call, it switches to mobile,this switch between device is not good but again in this price its awesome.Battery stand by is 36 hours for me, and i have used it continously for 8 hours in one go. So Battery life is pretty awesome.Comfortable on ear.\n",
       " | good                                                                                                                                                                                                                                                                                                                                                                                                                                                                                                                             |\n",
       "\n"
      ],
      "text/plain": [
       "  ReviewTitle                          \n",
       "1 Honest review of an edm music lover\\n\n",
       "2 Unreliable earphones with high cost\\n\n",
       "3 Really good and durable.\\n           \n",
       "  ReviewBody                                                                                                                                                                                                                                                                                                                                                                                                                                                                                           \n",
       "1 No doubt it has a great bass and to a great extent noise cancellation and decent sound clarity and mindblowing battery but the following dissapointed me though i tried a lot to adjust.1.Bluetooth range not more than 10m2. Pain in ear due the conical buds(can be removed)3. Wires are a bit long which makes it odd in front.4. No pouch provided.5. Worst part is very low quality and distoring mic. Other person keeps complaining about my voice.\\n                                         \n",
       "2 This  earphones are unreliable, i bought it before 15 days meanwhile right side ear buds got cracked automatically and it got divided in two parts, and sound quality is also not that much good but ok, one more thing bass is not good as it is a boat earphones.Guys,Also for the proof i have attached picsPlease see and think before buying<U+200B> this unreliable product.Thanks.\\n                                                                                                          \n",
       "3 i bought itfor 999,I purchased it second time, gifted first one to brother. This is really good.Sound quality is really good.You can connect 2 devices at a time.I connect laptop and mobile both.when listening muaic on Lappy, if u get a call, it switches to mobile,this switch between device is not good but again in this price its awesome.Battery stand by is 36 hours for me, and i have used it continously for 8 hours in one go. So Battery life is pretty awesome.Comfortable on ear.\\n\n",
       "  ReviewStar Product         \n",
       "1 3          boAt Rockerz 255\n",
       "2 1          boAt Rockerz 255\n",
       "3 4          boAt Rockerz 255\n",
       "  Combined                                                                                                                                                                                                                                                                                                                                                                                                                                                                                                                        \n",
       "1 Honest review of an edm music lover\\n No doubt it has a great bass and to a great extent noise cancellation and decent sound clarity and mindblowing battery but the following dissapointed me though i tried a lot to adjust.1.Bluetooth range not more than 10m2. Pain in ear due the conical buds(can be removed)3. Wires are a bit long which makes it odd in front.4. No pouch provided.5. Worst part is very low quality and distoring mic. Other person keeps complaining about my voice.\\n                              \n",
       "2 Unreliable earphones with high cost\\n This  earphones are unreliable, i bought it before 15 days meanwhile right side ear buds got cracked automatically and it got divided in two parts, and sound quality is also not that much good but ok, one more thing bass is not good as it is a boat earphones.Guys,Also for the proof i have attached picsPlease see and think before buying<U+200B> this unreliable product.Thanks.\\n                                                                                               \n",
       "3 Really good and durable.\\n i bought itfor 999,I purchased it second time, gifted first one to brother. This is really good.Sound quality is really good.You can connect 2 devices at a time.I connect laptop and mobile both.when listening muaic on Lappy, if u get a call, it switches to mobile,this switch between device is not good but again in this price its awesome.Battery stand by is 36 hours for me, and i have used it continously for 8 hours in one go. So Battery life is pretty awesome.Comfortable on ear.\\n\n",
       "  class\n",
       "1 bad  \n",
       "2 bad  \n",
       "3 good "
      ]
     },
     "metadata": {},
     "output_type": "display_data"
    }
   ],
   "source": [
    "### For the SVM analysis, it will be easier to work with 0 (bad review) and 1 (good review)\n",
    "\n",
    "# Make a copy of the original DF to avoid any errors\n",
    "df_data2 = df_data\n",
    "\n",
    "# good review = rating >=4\n",
    "# bad review = rating < 4\n",
    "cutoff = 4\n",
    "\n",
    "### Changing labels for the SVM analysis\n",
    "df_data2[ df_data2$ReviewStar < cutoff, 'class'] = 'bad'\n",
    "df_data2[ df_data2$ReviewStar >= cutoff, 'class'] = 'good'\n",
    "\n",
    "head(df_data2, 3)"
   ]
  },
  {
   "cell_type": "code",
   "execution_count": 8,
   "id": "db16debf",
   "metadata": {
    "scrolled": true
   },
   "outputs": [
    {
     "name": "stdout",
     "output_type": "stream",
     "text": [
      "Number of good reviews:  9402 \n",
      "Number of bad reviews:  4935 \n"
     ]
    },
    {
     "data": {
      "image/png": "[encoded data removed]",
      "text/plain": [
       "plot without title"
      ]
     },
     "metadata": {},
     "output_type": "display_data"
    }
   ],
   "source": [
    "### Split data into good and bad reviews\n",
    "\n",
    "df_good = df_data2[ df_data2$class == 'good', 'Combined']\n",
    "df_bad = df_data2[ df_data2$class == 'bad', 'Combined']\n",
    "\n",
    "cat('Number of good reviews: ', length(df_good), '\\n')\n",
    "cat('Number of bad reviews: ', length(df_bad), '\\n')\n",
    "\n",
    "pie_data = data.frame(num = c(length(df_good), length(df_bad)), ReviewType = c('Good', 'Bad'))\n",
    "\n",
    "ggplot(pie_data, aes(x = '', y = num, fill = ReviewType )) +\n",
    "  geom_bar(stat = 'identity', color = 'white') +\n",
    "  coord_polar('y') +\n",
    "  theme_void() +\n",
    "  ggtitle('Number of Good vs Bad Reviews')"
   ]
  },
  {
   "cell_type": "code",
   "execution_count": 9,
   "id": "3dc05885",
   "metadata": {},
   "outputs": [
    {
     "name": "stdout",
     "output_type": "stream",
     "text": [
      "[1] \"Really good and durable.\\n i bought itfor 999,I purchased it second time, gifted first one to brother. This is really good.Sound quality is really good.You can connect 2 devices at a time.I connect laptop and mobile both.when listening muaic on Lappy, if u get a call, it switches to mobile,this switch between device is not good but again in this price its awesome.Battery stand by is 36 hours for me, and i have used it continously for 8 hours in one go. So Battery life is pretty awesome.Comfortable on ear.\\n\"\n",
      "[1] \"Just Awesome Wireless Headphone under 1000...<U+0001F609>\\n Its Awesome... Good sound quality & 8-9 hrs battery life... Just waww look... <U+0001F609> I brought just 999 rupees...But Amazon's Packageing system is Very bad... Very poor packaging... Flipcart's packaging system is much better than Amazon...\\n\"\n",
      "[1] \"Loved the color and sound !!\\n Sound-4.5/5Build quality-4.5/5Battery life -4/5Earphones quality is good with strong magnetic lock... Straps is good quality and the earphones wires are too good... Buttons quality is good.. sound is full of punchy bass and and balanced treble and has sorrund effect.. good fitting in ears.. hope connectivity is good.. bcz my last boat Bluetooth bassheads 225 had connection issues... This is worth its price... Hope the packaging was good ...there was no bubble wrapping..\\n\"\n",
      "[1] \"Battery life is good enough to keep going all day\\n I can’t get enough of this earphone! The bass is amazing and is perfect for a music lover. The battery life is good enough to keep me going all day. The fact that I can connect my laptop and phone at the same time and switch between them makes the experience so much better. I use my earphones a lot for voice calls and this doesn’t let me down at all.  This is a must buy for all music lovers.\\n\"\n",
      "[1] \"Running has become comfortable now\\n The sound quality is good. I mean it can’t be compared with Senheiser or Bose but its worth the price.Perfect to use while running; the earbuds are so comfortable that you wouldn’t even feel they are plugged in.\\n\"\n"
     ]
    }
   ],
   "source": [
    "for (i in c(1:5)) {\n",
    "    print(df_good[i])\n",
    "}"
   ]
  },
  {
   "cell_type": "code",
   "execution_count": 10,
   "id": "742ea84b",
   "metadata": {},
   "outputs": [
    {
     "name": "stdout",
     "output_type": "stream",
     "text": [
      "[1] \"Honest review of an edm music lover\\n No doubt it has a great bass and to a great extent noise cancellation and decent sound clarity and mindblowing battery but the following dissapointed me though i tried a lot to adjust.1.Bluetooth range not more than 10m2. Pain in ear due the conical buds(can be removed)3. Wires are a bit long which makes it odd in front.4. No pouch provided.5. Worst part is very low quality and distoring mic. Other person keeps complaining about my voice.\\n\"\n",
      "[1] \"Unreliable earphones with high cost\\n This  earphones are unreliable, i bought it before 15 days meanwhile right side ear buds got cracked automatically and it got divided in two parts, and sound quality is also not that much good but ok, one more thing bass is not good as it is a boat earphones.Guys,Also for the proof i have attached picsPlease see and think before buying<U+200B> this unreliable product.Thanks.\\n\"\n",
      "[1] \"stopped working in just 14 days\\n Its sound quality is adorable. overall it was good but just for 2 weeks after that it stopped working and since then it never powered on again. I am claiming for warrenty and it is still undergoing.\\n\"\n",
      "[1] \"Charging port not working\\n After 11 days, the charging port isn't working and now I can't even return it. Wat to do ?? I know there is one year warranty but it is only been 11 days. C'mon boat, please send me new one.\\n\"\n",
      "[1] \"Great sound with worst mic.\\n After one month usage reviewing this .Pros-1- sound quality2- design3- weight4- batteryCons1- very bad mic for talking2- can't use while riding bike3 - Music is too loud\\n\"\n",
      "[1] \"Very very bad Durabity\\n The product durability is 1 month..I just lost my bill details so i cant claim my warrenty .. But this earphones built quality is bad . It stops wrking completely after 1 month sep 14 to nov 11 <U+0001F448> life span .. Dont lose ur bill details incase u want that warranty..  And after purchasing u must register ur product in boat's site for replacement and warranty\\n\"\n"
     ]
    }
   ],
   "source": [
    "for (i in c(1:6)) {\n",
    "    print(df_bad[i])\n",
    "}"
   ]
  },
  {
   "cell_type": "markdown",
   "id": "07b3a928",
   "metadata": {},
   "source": [
    "## Useful functions for building the corpus"
   ]
  },
  {
   "cell_type": "code",
   "execution_count": 11,
   "id": "44c77c38",
   "metadata": {},
   "outputs": [],
   "source": [
    "################################ Create a function that will perform preprocessing required for building the corpus\n",
    "\n",
    "build_corpus = function(vec, myStopWords) {\n",
    "  ### Build a preprocessing function to build a word corpus\n",
    "  ### Input: A vector containing all documents, a vector containing stopwords\n",
    "  ### Output: A word corpus with all preprocessing steps completed\n",
    "  # Tasks:\n",
    "  # Create the corpus\n",
    "  # Strip most/all punctuation\n",
    "  # Split corpus into individual words and save to own variable\n",
    "  # Convert to all lowercase\n",
    "  # Delete all stop words - find an existing list and add anything\n",
    "  # Stem\n",
    "  ### Check the stems\n",
    "  # Set min/max limits\n",
    "  # Delete numbers (can be ratings, price, product number, date; probably not useful)\n",
    "  \n",
    "  ### Create the corpus\n",
    "  vec_corp = VCorpus(VectorSource(vec))\n",
    "    \n",
    "  ### Convert to ASCII\n",
    "  ### This is a temporary fix to remove emojis\n",
    "  vec_corp = tm_map(vec_corp, content_transformer(iconv), to='ASCII', sub='')\n",
    "  \n",
    "  # Remove general punctuation\n",
    "  # Replace ',' '.' '/' with spaces first to avoid accidental word merges (ex: good.You --> goodYou)\n",
    "  vec_corp = tm_map(vec_corp, content_transformer(gsub), pattern = ',', replacement = ' ')\n",
    "  vec_corp = tm_map(vec_corp, content_transformer(gsub), pattern = '\\\\.', replacement = ' ')\n",
    "  vec_corp = tm_map(vec_corp, content_transformer(gsub), pattern = '\\\\/', replacement = ' ')\n",
    "  vec_corp = tm_map(vec_corp, removePunctuation)\n",
    "  \n",
    "  ### Remove numbers\n",
    "  vec_corp = tm_map(vec_corp, removeNumbers)\n",
    "  \n",
    "  ### Convert to lower case\n",
    "  vec_corp = tm_map(vec_corp, content_transformer(tolower))\n",
    "  \n",
    "  ### Remove stopwords\n",
    "  vec_corp = tm_map(vec_corp, removeWords, tolower(myStopWords))\n",
    "  \n",
    "  ### Perform stemming\n",
    "  vec_corp = tm_map(vec_corp, stemDocument)\n",
    "  \n",
    "  ### Eliminate extra whitespaces\n",
    "  vec_corp = tm_map(vec_corp, stripWhitespace)\n",
    "  \n",
    "  return(vec_corp)\n",
    "}\n",
    "\n",
    "######################################## Create a function that will build the corpus\n",
    "\n",
    "build_dtm = function(vec, \n",
    "                     stopWords, \n",
    "                     controls = list(weighting = weightTf, \n",
    "                                     bounds = list(global = c(50, Inf)), \n",
    "                                     wordLengths = c(3, 15),\n",
    "                                     normalize = FALSE),\n",
    "                     sparse_threshold = -1) {\n",
    "    ### Build a preprocessing function to build a word corpus\n",
    "    ### Input: A vector containing all documents, a vector containing stopwords\n",
    "    ### Output: A word corpus with all preprocessing steps completed\n",
    "    \n",
    "    temp_corp = build_corpus(vec, stopWords)\n",
    "    temp_corp = DocumentTermMatrix(temp_corp, control = controls)\n",
    "    if (sparse_threshold > 0) {\n",
    "        temp_corp = removeSparseTerms(temp_corp, sparse_threshold)\n",
    "    }\n",
    "    \n",
    "    \n",
    "    return(temp_corp)\n",
    "}"
   ]
  },
  {
   "cell_type": "code",
   "execution_count": 12,
   "id": "c627dce9",
   "metadata": {},
   "outputs": [],
   "source": [
    "# Create a list of stopwords to delete\n",
    "\n",
    "# Delete product names (derived from the original data)\n",
    "products = c(unique(df_data$Product), tolower(unique(df_data$Product)))\n",
    "\n",
    "# Add any custom terms that may appear often in reviews\n",
    "#custom = c('u', 'ur', 'headphone', 'headphones', 'earphone', 'earphones')\n",
    "\n",
    "# Words pertaining to quality\n",
    "# quality = c('good', 'nice', 'best', 'bad', 'worst', 'excellent', 'great', 'superb', 'superior', 'super', 'worth', 'ok', \n",
    "#            'better', 'fine', 'perfect', 'cheap', 'awful', 'poor', 'not good', 'worse', 'substandard', 'adequate', \n",
    "#            'inadequate', 'terrible', 'satisfactory', 'unsatistfactory', 'unacceptable', 'inferior', 'awesome', 'like',\n",
    "#            'love', 'hate', '')\n",
    "\n",
    "# Create the stopwords list\n",
    "myStopWords = c(stopwords('en'), products)\n",
    "# Exceptions from the stopwords list\n",
    "myStopWords = myStopWords[(myStopWords != 'not') & (myStopWords != 'no')]"
   ]
  },
  {
   "cell_type": "markdown",
   "id": "bfd56029",
   "metadata": {},
   "source": [
    "## Build a corpus containing all reviews\n",
    "This will help us to visualize various aspects of the data. I mainly will build bar chart and a wordcloud to visualize the most common words in all reviews"
   ]
  },
  {
   "cell_type": "code",
   "execution_count": 13,
   "id": "e3c160ea",
   "metadata": {},
   "outputs": [],
   "source": [
    "controls = list(weighting = weightTf, \n",
    "                bounds = list(global = c(10, Inf)), \n",
    "                wordLengths = c(3, 15), \n",
    "                normalize = TRUE)\n",
    "sparse_threshold = .95\n",
    "\n",
    "# Build corpus containing all reviews - function is not used to see the changes over time\n",
    "# Remove words relating to quality as well\n",
    "review_corp_all = build_corpus(df_data$Combined, c(myStopWords))\n",
    "\n",
    "# Convert the corpus to a document-term matrix (DTM) for further processing\n",
    "test_noBounds = DocumentTermMatrix(review_corp_all, control = list(weighting = weightTf, normalize = TRUE))\n",
    "all_dtm = DocumentTermMatrix(review_corp_all, control = controls)\n",
    "\n",
    "# Remove sparse terms\n",
    "all_dtm2 = removeSparseTerms(all_dtm, sparse_threshold)\n",
    "#all_dtm2 = data.frame(as.matrix(all_dtm))#removeSparseTerms(all_dtm, sparse_threshold)\n",
    "\n"
   ]
  },
  {
   "cell_type": "code",
   "execution_count": 14,
   "id": "d08b0433",
   "metadata": {},
   "outputs": [
    {
     "name": "stdout",
     "output_type": "stream",
     "text": [
      "Original text from review 1481:\n",
      "\n",
      "Good headphone at affordable cost\n",
      " I liked the product. Very good sound quality. Call quality is also excellent. Totally satisfied.\n",
      " \n",
      "\n",
      "Pre-processed text from review 1481 in the corpus:\n",
      "\n",
      "<<PlainTextDocument>>\n",
      "Metadata:  7\n",
      "Content:  chars: 95\n",
      "\n",
      "good headphon afford cost like product good sound qualiti call qualiti also excel total satisfi\n",
      "\n",
      "\n",
      "Pre-processed text from review 1481 in the DTM:\n",
      "\n",
      "<<DocumentTermMatrix (documents: 1, terms: 1270)>>\n",
      "Non-/sparse entries: 13/1257\n",
      "Sparsity           : 99%\n",
      "Maximal term length: 12\n",
      "Weighting          : term frequency (tf)\n",
      "Sample             :\n",
      "      Terms\n",
      "Docs   afford also call cost excel good headphon like product qualiti\n",
      "  1481      1    1    1    1     1    2        1    1       1       2\n",
      "\n",
      "\n",
      "After removing sparse terms\n",
      "\n",
      "<<DocumentTermMatrix (documents: 1, terms: 44)>>\n",
      "Non-/sparse entries: 9/35\n",
      "Sparsity           : 80%\n",
      "Maximal term length: 9\n",
      "Weighting          : term frequency (tf)\n",
      "Sample             :\n",
      "      Terms\n",
      "Docs   also awesom call excel good headphon like product qualiti sound\n",
      "  1481    1      0    1     1    2        1    1       1       2     1\n",
      "\n",
      "\n",
      "TEST: No bounds and no removing sparse terms<<DocumentTermMatrix (documents: 1, terms: 8156)>>\n",
      "Non-/sparse entries: 13/8143\n",
      "Sparsity           : 100%\n",
      "Maximal term length: 60\n",
      "Weighting          : term frequency (tf)\n",
      "Sample             :\n",
      "      Terms\n",
      "Docs   afford also call cost excel good headphon like product qualiti\n",
      "  1481      1    1    1    1     1    2        1    1       1       2\n"
     ]
    }
   ],
   "source": [
    "# Compare the first review before preprocessing, as stored in the corpus, and as stored in the DTM\n",
    "i = 1481\n",
    "\n",
    "cat('Original text from review 1481:\\n\\n')\n",
    "cat(df_data$Combined[i], '\\n\\n')\n",
    "\n",
    "cat('Pre-processed text from review 1481 in the corpus:\\n\\n')\n",
    "inspect(review_corp_all[[i]])\n",
    "\n",
    "cat('\\n\\nPre-processed text from review 1481 in the DTM:\\n\\n')\n",
    "inspect(all_dtm[i,])\n",
    "\n",
    "cat('\\n\\nAfter removing sparse terms\\n\\n')\n",
    "inspect(all_dtm2[i,])\n",
    "\n",
    "cat('\\n\\nTEST: No bounds and no removing sparse terms')\n",
    "inspect(test_noBounds[i,])"
   ]
  },
  {
   "cell_type": "code",
   "execution_count": 15,
   "id": "23f6c950",
   "metadata": {
    "scrolled": true
   },
   "outputs": [],
   "source": [
    "# Convert to temporary data frame for visualization preprocessing\n",
    "all_dtm_temp = data.frame(as.matrix(all_dtm2)) # DF where each column has the TFIDF of each term for each document\n",
    "\n",
    "# Get term counts\n",
    "all_dtm_df = data.frame(terms = names(colSums(all_dtm_temp)), count = colSums(all_dtm_temp))"
   ]
  },
  {
   "cell_type": "markdown",
   "id": "8871c830",
   "metadata": {},
   "source": [
    "### Visualizing some of the most important terms in all reviews"
   ]
  },
  {
   "cell_type": "code",
   "execution_count": 16,
   "id": "75f228a1",
   "metadata": {
    "tags": []
   },
   "outputs": [
    {
     "data": {
      "image/png": "[encoded data removed]",
      "text/plain": [
       "plot without title"
      ]
     },
     "metadata": {},
     "output_type": "display_data"
    }
   ],
   "source": [
    "# Plot the 30 most important words\n",
    "ggplot( data = head(all_dtm_df[order(-all_dtm_df$count),], 30), aes(reorder(terms, count), count)) +\n",
    "    geom_col(color = 'deepskyblue', fill = 'deepskyblue' , width = .8) +\n",
    "    labs(title = '30 most common words in all reviews') +\n",
    "    coord_flip() #+\n",
    "    #theme(axis.text.x = element_text(angle = 45))\n"
   ]
  },
  {
   "cell_type": "code",
   "execution_count": 31,
   "id": "265a6daf",
   "metadata": {
    "tags": []
   },
   "outputs": [
    {
     "data": {
      "image/png": "[encoded data removed]",
      "text/plain": [
       "plot without title"
      ]
     },
     "metadata": {},
     "output_type": "display_data"
    }
   ],
   "source": [
    "set.seed(100)\n",
    "cloud_dat = all_dtm_df[order(-all_dtm_df$count),]\n",
    "\n",
    "# View the data in a wordcloud\n",
    "wordcloud(words = cloud_dat$terms,\n",
    "          freq = cloud_dat$count,\n",
    "          #scale = c(4, .5),\n",
    "          #min.freq = 0,\n",
    "          max.words = 200,\n",
    "          random.order = FALSE,\n",
    "          rot.per = .35)\n"
   ]
  },
  {
   "cell_type": "markdown",
   "id": "f24d24db",
   "metadata": {},
   "source": [
    "### Conclusions for the overall review DTM\n",
    "\n",
    "Without most words referring to preference/sentiment (removed in the stopwords step), a few words regarding headphone quality appear to be the most discussed across all reviews. Some conclusions can be made, but for a more accurate analysis, the context of these words would need to be considered:\n",
    "\n",
    "**Most important word:**\n",
    "* product: Most likely referring to the product being reviewed, but could indicate other products being compared\n",
    "\n",
    "**Various terms indicate focus on build quality:**\n",
    "* qualiti/comfort\n",
    "* batteri/life/charg\n",
    "* work/problem\n",
    "* bluetooth/connect\n",
    "\n",
    "**Various terms indicate focus on sound quality:**\n",
    "* sound/clariti\n",
    "* bass/trebl\n",
    "* audio\n",
    "* volum\n",
    "\n",
    "**Various terms indicate focus on product features:**\n",
    "* bluetooth\n",
    "* headset\n",
    "* mic\n",
    "* wire/wireless/call\n",
    "\n",
    "**Various terms indicate focus on customer experience:**\n",
    "* servic/experi\n",
    "* averag\n",
    "* recommend/decent/durabl\n",
    "* cancel/replac/warranti: Most likely these customers are looking to refund or replace their headphones\n",
    "* amaz: Most likely referring to Amazon, this may refer to the buying/shipping experience\n",
    "\n",
    "**Various terms indicate focus on price and product value:**\n",
    "* price/bought/buy\n",
    "* valu/money\n",
    "* warranti"
   ]
  },
  {
   "cell_type": "markdown",
   "id": "a9297648",
   "metadata": {},
   "source": [
    "## Building a corpus for good and bad reviews"
   ]
  },
  {
   "cell_type": "code",
   "execution_count": 34,
   "id": "77d7bd9d",
   "metadata": {},
   "outputs": [],
   "source": [
    "# Build the corpus\n",
    "controls = list(weighting = weightTf, \n",
    "                bounds = list(global = c(1, Inf)), \n",
    "                wordLengths = c(3, 15), \n",
    "                normalize = FALSE)\n",
    "sparse_threshold = .98\n",
    "\n",
    "#temp: DTM format\n",
    "#df: TF counts\n",
    "good_dtm = data.frame(as.matrix(build_dtm(df_good, myStopWords, controls, sparse_threshold)))\n",
    "good_tf = data.frame(terms = names(colSums(good_dtm)), count = colSums(good_dtm))\n",
    "\n",
    "bad_dtm = data.frame(as.matrix(build_dtm(df_bad, myStopWords, controls, sparse_threshold)))\n",
    "bad_tf = data.frame(terms = names(colSums(bad_dtm)), count = colSums(bad_dtm))"
   ]
  },
  {
   "cell_type": "code",
   "execution_count": 35,
   "id": "7d878324",
   "metadata": {
    "tags": []
   },
   "outputs": [
    {
     "name": "stdout",
     "output_type": "stream",
     "text": [
      "Number of words in the good reviews:  115"
     ]
    },
    {
     "data": {
      "image/png": "[encoded data removed]",
      "text/plain": [
       "plot without title"
      ]
     },
     "metadata": {},
     "output_type": "display_data"
    }
   ],
   "source": [
    "# View the most common words in the good reviews\n",
    "cat('Number of words in the good reviews: ', nrow(good_tf))\n",
    "\n",
    "ggplot( data = head(good_tf[order(-good_tf$count),], 30), aes(reorder(terms, count), count)) +\n",
    "    geom_col(color = 'deepskyblue', fill = 'deepskyblue' , width = .8) +\n",
    "    labs(title = '30 most common words in good reviews') +\n",
    "    coord_flip() +\n",
    "    scale_x_discrete(name = \"\", position = \"top\") +\n",
    "    scale_y_reverse(limits = c(8000, 0), position = \"left\")\n"
   ]
  },
  {
   "cell_type": "code",
   "execution_count": 36,
   "id": "d6dfa81e",
   "metadata": {
    "tags": []
   },
   "outputs": [
    {
     "name": "stdout",
     "output_type": "stream",
     "text": [
      "Number of words in the bad reviews:  142"
     ]
    },
    {
     "data": {
      "image/png": "[encoded data removed]",
      "text/plain": [
       "plot without title"
      ]
     },
     "metadata": {},
     "output_type": "display_data"
    }
   ],
   "source": [
    "# View the most common words in the good reviews\n",
    "cat('Number of words in the bad reviews: ', nrow(bad_tf))\n",
    "\n",
    "ggplot( data = head(bad_tf[order(-bad_tf$count),], 30), aes(reorder(terms, count), count)) +\n",
    "    geom_col(color = 'darkorange', fill = 'darkorange' , width = .8) +\n",
    "    labs(title = '30 most common words in bad reviews') +\n",
    "    scale_x_discrete(name = \"\") + \n",
    "    ylim(0, 8000) + \n",
    "    coord_flip()"
   ]
  },
  {
   "cell_type": "markdown",
   "id": "ed35a14b",
   "metadata": {},
   "source": [
    "###  Conclusions from the initial analysis of good/bad reviews\n",
    "\n",
    "The most notable finding is that the top four terms in the good review set are the 2nd-5th terms in the bad review set (excluding the top term, \"not\"). \"Good\" ranks very highly on the bad review set, which is fairly counterintuitive. My theory is that since only individual tokens are used (instead of using n-grams), some of these terms are taken out of context - good may actually be \"not good\". Another theory is that because these reviews are on a scale from 1-5, the content of the review may be both positive and negative, especially in the middle of the scale. This leads to many terms being shared between the sets.\n",
    "\n",
    "Another interesting conclusion is how there are more important words in the bad review set than there are in the good review set (138 vs 114). Considering how the bad review set included only 34.4% of the total reviews, I would have expected fewer words in the bad review DTM.\n",
    "\n",
    "One possible explanation is that people tend to be more comprehensive when leaving bad reviews\n",
    "* Many good reviews focus on customer sentiment\n",
    "\n",
    ">'Just go for it\\n **Awesome best budget** wireless earphones\\n'\n",
    "\n",
    ">'**SUPERB**\\n **Sound quality is good**. noise cancellation is not upto the mark. **battery quality is decent**. by charging it once you can enjoy upto 5hrs of music without any issue\\n'\n",
    "* Bad reviews are often more detailed to emphasize discontent\n",
    "\n",
    ">'Honest review of an edm music lover\\n No doubt it has a great bass and to a great extent noise cancellation and decent sound clarity and mindblowing battery but the following **dissapointed** me though i tried a lot to adjust.1.**Bluetooth range not more than 10m2. Pain in ear due the conical buds(can be removed)3. Wires are a bit long which makes it odd in front.4. No pouch provided.5. Worst part is very low quality and distoring mic**. Other person keeps complaining about my voice.\\n'\n",
    "\n",
    ">'Review update - **Product failed after a few months**\\n Update: Sadly this is the **second Boat product to conk off after few months of use**. I guess this is the end of the journey for you and I Boat Audio, **not buying any more products from your brand**. Changed the rating to reflect the same.I was in the market for a cheap pair of Bluetooth earphones and I chanced upon this on a lightning deal and bought it. I have used Boat products before, they have good build quality and their sound is alright. I’m writing this after a month or so, enough time to have lived with it and get to know quirks and other problems.• **The sound is nothing great**, it’s a bit on the bassy side. If you’re a bass lover, this is definitely a good buy.• Connectivity is quick and painless – and it works without hassle every time. **The quality of the connectivity depends and is sometimes weird**. I can put the phone on charge and use it for a distance of about 3 meters, no worries. But sometimes when I’m walking really fast or jogging there are breaks and crackles in audio. Not sure if it’s the material of my gym wear, but it works well when the phone’s in my jeans.• **Battery life is nothing to write home about** – I listen to music constantly even when I’m at work. My demands are probably too high for this price range.• It is sweat-proof as advertised. No interruptions under a light drizzle.• It’s got great build quality for the price – looks and feels premium. Doesn’t tangle at all.• It stays in your ear regardless of the intensity of the exercise which is great.On the whole a great buy if you are looking for a cheaper alternative. Wait for a sale before you get it though.Like my reviews? Please do click the helpful button. It encourages me to share more about the products I use. Thanks!\\n'\n",
    "        \n",
    "\n",
    "### Adjusting the weights according to importance in good/bad reviews\n",
    "\n",
    "To lessen the influence of shared terms, I decided to implement a custom scheme that mirrors term frequency - inverse document frequency (TF-IDF). TF-IDF is a combination of two separate methods. Term frequency is just the frequency that a term occurs in a document (if normalized, then it is also divided by the number of terms in the document). Inverse document frequency measures the importance of a term by taking the natural log of the total number of documents divided by the number of documents with a given term in it.\n",
    "\n",
    "TFIDF = Num occurences of a term in a document * ln( {Total num documents} / {Num documents containing the term} )\n",
    "\n",
    "$$Weight_{new} = Weight * \\frac{Weight}{Total}$$\n",
    "\n",
    "For my variation, first, I will build a separate DTM for both the good and bad review sets (gDTM, bDTM). I will then calculate the term frequencies for every term that appears in either set (g_TF, b_TF), as well as the inverse document frequency within either set (g_idf, b_idf). I will then extract all terms that are shared between the two review sets (inboth_df).\n",
    "\n",
    "Then, for every term contained within inboth_df, I will multiply the TF from both sets with the IDF from the opposite set. Any term that is not contained within inboth_df will be multiplied by the default IDF (where number of documents containing the term = 1, to avoid division by 0)\n",
    "\n",
    "$$idf\\_count_{good\\_reviews} = Good\\_TF * Bad\\_IDF$$\n",
    "$$idf\\_count_{bad\\_reviews} = Bad\\_TF * Good\\_IDF$$\n",
    "\n",
    "Taking \"good\" for example:\n",
    "\n",
    "|Term  |Good TF     |Bad  TF     |TF Total     |Good IDF    |Bad  IDF    |\n",
    "|:----:|----:       |----:       |----:        |----:       |----:       |\n",
    "|good  |7869        |2273        |10142        |0.6551626   |1.142097    |\n",
    "\n",
    "Given these, values the custom TF-IDF (idf_count) values will be:\n",
    "\n",
    "$$idf\\_count_{good\\_reviews} = 7869 * 0.6551626 = 8989.449$$\n",
    "$$idf\\_count_{bad\\_reviews} = 2273 * 0.6551626 = 1489.185$$\n",
    "\n",
    "Taking \"stop\" for example (which is not represented in the good review set)\n",
    "\n",
    "|Term  |Bad  TF     |TF Total     |Good IDF    |\n",
    "|:----:|----:       |----:        |----:       |\n",
    "|stop  |713         |713          |N/A         |\n",
    "\n",
    "Since \"stop\" is not in the good review set, I will take the default good IDF value:\n",
    "\n",
    "$$Default\\_Good\\_IDF = \\ln{\\dfrac{\\# Good Reviews}{1}} = \\ln{\\dfrac{9402}{1}} = 9.1486777$$\n",
    "\n",
    "$$idf\\_count_{bad\\_reviews} = 713 * 5.370638 = 6523.007$$\n",
    "\n",
    "\n",
    "For reference, these are the calculated default IDF values\n",
    "\n",
    "|Default Good IDF |Default Bad IDF |\n",
    "|----:            |----:           |\n",
    "|9.1486777        |8.5041080             |\n",
    "\n"
   ]
  },
  {
   "cell_type": "markdown",
   "id": "e482b686-4527-4e36-8c57-ba45d01acd0c",
   "metadata": {},
   "source": [
    "## Qualities of a good indicator\n",
    "\n",
    "* High overall TF in DTM1 (count)\n",
    "* High overall DF in DTM1 (colSums(dtm1))\n",
    "* Low overall TF in DTM2 (tf2_count)\n",
    "* Low overall DF in DTM2 (colSums(dtm2))"
   ]
  },
  {
   "cell_type": "code",
   "execution_count": 47,
   "id": "25582808-f193-4f5a-b13b-5db753171773",
   "metadata": {},
   "outputs": [],
   "source": [
    "# Creating a function that will implement the weighting scheme\n",
    "\n",
    "col_scaler = function(vec, col_scale = c(1, 100)) {\n",
    "    # scale a vector between max and min\n",
    "    \n",
    "    max_val = col_scale[2]\n",
    "    min_val = col_scale[1]\n",
    "    scaled_vec = ( min_val + (max_val - min_val) * ((vec - min(vec)) / (max(vec) - min(vec))) )\n",
    "    \n",
    "    return(scaled_vec)\n",
    "    \n",
    "    }\n",
    "    \n",
    "\n",
    "custom_tfdf = function(dtm1, dtm2, class_col = '', output_scale = c(1, 100), diff_weight = 1, normByDocLength = FALSE) {\n",
    "    # Implements custom tfdf where terms are weighted according to term frequency and doc frequency\n",
    "    \n",
    "    # Get dfs/tfs for each df and insert into tf\n",
    "    # Initialize defaults for non-shared terms\n",
    "    if (class_col != '') {\n",
    "        dtm1_class_col = dtm1[class_col]\n",
    "        dtm2_class_col = dtm2[class_col]\n",
    "        dtm1 = subset(dtm1, select = -c(class_col))\n",
    "        dtm2 = subset(dtm2, select = -c(class_col))\n",
    "        }\n",
    "    \n",
    "    if (normByDocLength == TRUE) {\n",
    "        dtm1 = sweep(dtm1, MARGIN = 1, STATS = rowSums(dtm1) + 1, FUN = '/')\n",
    "        dtm2 = sweep(dtm2, MARGIN = 1, STATS = rowSums(dtm2) + 1, FUN = '/')\n",
    "        }\n",
    "\n",
    "    tf1 = data.frame(terms = names(dtm1), \n",
    "                     avg_count = colMeans(dtm1), \n",
    "                     tot_count = colSums(dtm1),\n",
    "                     doc_freq = colSums(dtm1 != 0),\n",
    "                     tf1_higherFreq = 1,\n",
    "                     tf2_avg_count = 1,\n",
    "                     tf2_tot_count = 1,\n",
    "                     tf2_doc_freq = 1,\n",
    "                     stringsAsFactors = FALSE)\n",
    "    tf2 = data.frame(terms = names(dtm2), \n",
    "                     avg_count = colMeans(dtm2), \n",
    "                     tot_count = colSums(dtm2),\n",
    "                     doc_freq = colSums(dtm2 != 0),\n",
    "                     tf2_higherFreq = 1,\n",
    "                     tf1_avg_count = 1,\n",
    "                     tf1_tot_count = 1,\n",
    "                     tf1_doc_freq = 1,\n",
    "                     stringsAsFactors = FALSE)\n",
    "    union_tf = data.frame(terms = union(tf1$terms, tf2$terms), \n",
    "                          tf1_avg_count = 1, \n",
    "                          tf1_tot_count = 1,\n",
    "                          tf1_doc_freq = 1,\n",
    "                          tf2_avg_count = 1,\n",
    "                          tf2_tot_count = 1,\n",
    "                          tf2_doc_freq = 1,\n",
    "                          stringsAsFactors = FALSE)\n",
    "\n",
    "\n",
    "    # Find shared terms\n",
    "    in_both = intersect(tf1$terms, tf2$terms)\n",
    "    # Get doc freqs and counts for shared terms\n",
    "    tf1_doc_freq = tf1[tf1$terms %in% in_both, 'doc_freq']\n",
    "    tf1_avg_count = tf1[tf1$terms %in% in_both, 'avg_count']\n",
    "    tf1_tot_count = tf1[tf1$terms %in% in_both, 'tot_count']\n",
    "    tf2_doc_freq = tf2[tf2$terms %in% in_both, 'doc_freq']\n",
    "    tf2_avg_count = tf2[tf2$terms %in% in_both, 'avg_count']\n",
    "    tf2_tot_count = tf2[tf2$terms %in% in_both, 'tot_count']\n",
    "    # Update union_tf with shared values\n",
    "    union_tf[union_tf$terms %in% intersect(union_tf$terms, tf1$terms), c('tf1_avg_count', 'tf1_tot_count', 'tf1_doc_freq')] = list(tf1$avg_count, tf1$tot_count, tf1$doc_freq)\n",
    "    union_tf[union_tf$terms %in% intersect(union_tf$terms, tf2$terms), c('tf2_avg_count', 'tf2_tot_count', 'tf2_doc_freq')] = list(tf2$avg_count, tf2$tot_count, tf2$doc_freq)\n",
    "    tf1_higherFreq_cond = union_tf$tf1_avg_count * union_tf$tf1_tot_count * union_tf$tf1_doc_freq > nrow(dtm1) * union_tf$tf2_avg_count * union_tf$tf2_tot_count * union_tf$tf2_doc_freq\n",
    "    tf2_higherFreq_cond = union_tf$tf2_avg_count * union_tf$tf2_tot_count * union_tf$tf2_doc_freq > nrow(dtm2) * union_tf$tf1_avg_count * union_tf$tf1_tot_count * union_tf$tf1_doc_freq\n",
    "    union_tf1_higherFreq = union_tf[tf1_higherFreq_cond, 'terms']\n",
    "    union_tf2_higherFreq = union_tf[tf2_higherFreq_cond, 'terms']\n",
    "    # Update tf1 and tf2 with shared values\n",
    "    tf1[tf1$terms %in% in_both, c('tf1_higherFreq', 'tf2_avg_count', 'tf2_tot_count', 'tf2_doc_freq')] = list(0, tf2_avg_count, tf2_tot_count, tf2_doc_freq) \n",
    "    tf1[(tf1$avg_count * tf1$tot_count * tf1$doc_freq > tf1$tf2_avg_count * tf1$tf2_tot_count * tf1$tf2_doc_freq), 'tf1_higherFreq'] = 1\n",
    "    tf2[tf2$terms %in% in_both, c('tf2_higherFreq', 'tf1_avg_count', 'tf1_tot_count', 'tf1_doc_freq')] = list(0, tf1_avg_count, tf1_tot_count, tf1_doc_freq)\n",
    "    tf2[(tf2$avg_count * tf2$tot_count * tf2$doc_freq > tf2$tf1_avg_count * tf2$tf1_tot_count * tf2$tf1_doc_freq), 'tf2_higherFreq'] = 1\n",
    "    # Update the higherFreq columns to be factors\n",
    "    tf1$tf1_higherFreq = as.factor(tf1$tf1_higherFreq)\n",
    "    tf2$tf2_higherFreq = as.factor(tf2$tf2_higherFreq)\n",
    "    \n",
    "    # Term weighting\n",
    "    # tf1['weight'] = (tf1$doc_freq / nrow(dtm1)) / (tf1$tf2_avg_count * tf1$tf2_doc_freq + 1) * (tf1$tot_count / nrow(dtm1))\n",
    "    # tf2['weight'] = (tf2$doc_freq / nrow(dtm2)) / (tf2$tf1_avg_count * tf2$tf1_doc_freq + 1) * (tf2$tot_count / nrow(dtm2))\n",
    "    tf1['weight'] = (tf1$doc_freq * tf1$tot_count * tf1$avg_count) / (nrow(dtm1) * tf1$tf2_tot_count * tf1$tf2_avg_count * tf1$tf2_doc_freq)\n",
    "    tf2['weight'] = (tf2$doc_freq * tf2$tot_count * tf2$avg_count) / (nrow(dtm2) * tf2$tf1_tot_count * tf2$tf1_avg_count * tf2$tf1_doc_freq)\n",
    "    tf1[setdiff(tf1$terms, in_both), 'weight'] = tf1[setdiff(tf1$terms, in_both), 'weight'] * diff_weight \n",
    "    tf2[setdiff(tf2$terms, in_both), 'weight'] = tf2[setdiff(tf2$terms, in_both), 'weight'] * diff_weight \n",
    "    if (normByDocLength == TRUE) {\n",
    "        tf1['weighted_count'] = tf1$tot_count * tf1$weight\n",
    "        tf2['weighted_count'] = tf2$tot_count * tf2$weight\n",
    "    } else {\n",
    "        tf1['weighted_count'] = tf1$avg_count * tf1$weight\n",
    "        tf2['weighted_count'] = tf2$avg_count * tf2$weight\n",
    "    }\n",
    "    tf1map = log(tf1$weighted_count) \n",
    "    tf2map = log(tf2$weighted_count)\n",
    "    tf1['weighted_count_scaled'] = col_scaler(tf1map, col_scale = output_scale)\n",
    "    tf2['weighted_count_scaled'] = col_scaler(tf2map, col_scale = output_scale)\n",
    "         \n",
    "    # Multiply dtm columns by weights\n",
    "    dtm1 = sweep(dtm1, MARGIN = 2, STATS = tf1$weight, FUN = '*')\n",
    "    dtm2 = sweep(dtm2, MARGIN = 2, STATS = tf2$weight, FUN = '*')\n",
    "    \n",
    "    # Add the columns missing from either dtm with zero values (for row-binding later)\n",
    "    set1terms = c(setdiff(tf1$terms, tf2$terms))\n",
    "    set2terms = c(setdiff(tf2$terms, tf1$terms))\n",
    "    \n",
    "    dtm1_addCol = data.frame(matrix(0, nrow = nrow(dtm1), ncol = length(set2terms)))\n",
    "    colnames(dtm1_addCol) = set2terms\n",
    "    dtm1 = cbind(dtm1_addCol, dtm1)\n",
    "\n",
    "    dtm2_addCol = data.frame(matrix(0, nrow = nrow(dtm2), ncol = length(set1terms)))\n",
    "    colnames(dtm2_addCol) = set1terms\n",
    "    dtm2 = cbind(dtm2_addCol, dtm2)\n",
    "    \n",
    "    if (class_col != '') {\n",
    "        dtm1 = cbind(dtm1, dtm1_class_col)\n",
    "        dtm2 = cbind(dtm2, dtm2_class_col)\n",
    "        }\n",
    "\n",
    "    return(list(tf1, tf2, union_tf, dtm1, dtm2))\n",
    "}\n"
   ]
  },
  {
   "cell_type": "code",
   "execution_count": 48,
   "id": "3ed0e2eb-7f49-4268-ab14-dc50c1f740f1",
   "metadata": {},
   "outputs": [
    {
     "name": "stdout",
     "output_type": "stream",
     "text": [
      "[1] \"starting good_dtm\"\n",
      "[1] \"done\"\n",
      "[1] \"starting bad_dtm\"\n",
      "[1] \"done\"\n"
     ]
    }
   ],
   "source": [
    "# Build the corpus\n",
    "controls = list(weighting = weightTf, \n",
    "                bounds = list(global = c(10, Inf)), \n",
    "                wordLengths = c(3, 15), \n",
    "                normalize = FALSE)\n",
    "\n",
    "#temp: DTM format\n",
    "#df: TF counts\n",
    "# Don't delete sparse terms in the beginning - delete after custom_tfidf\n",
    "print('starting good_dtm')\n",
    "good_dtm = data.frame(as.matrix(build_dtm(df_good, myStopWords, controls)))\n",
    "print('done')\n",
    "print('starting bad_dtm')\n",
    "bad_dtm = data.frame(as.matrix(build_dtm(df_bad, myStopWords, controls)))\n",
    "print('done')"
   ]
  },
  {
   "cell_type": "code",
   "execution_count": 49,
   "id": "93bb0498-c560-49d2-8133-e81c54bc25bb",
   "metadata": {},
   "outputs": [
    {
     "name": "stdout",
     "output_type": "stream",
     "text": [
      "[1] \"starting custom\"\n",
      "[1] \"done\"\n",
      "Good Review DTM\n",
      "Number of words in the DTM:  359 \n",
      "Number of words unique to the good DTM:  146 \n",
      "\n",
      "Top words in the good review DTM by tfdf count"
     ]
    },
    {
     "data": {
      "text/html": [
       "<table>\n",
       "<thead><tr><th></th><th scope=col>terms</th><th scope=col>avg_count</th><th scope=col>tot_count</th><th scope=col>doc_freq</th><th scope=col>tf1_higherFreq</th><th scope=col>tf2_avg_count</th><th scope=col>tf2_tot_count</th><th scope=col>tf2_doc_freq</th><th scope=col>weight</th><th scope=col>weighted_count</th><th scope=col>weighted_count_scaled</th></tr></thead>\n",
       "<tbody>\n",
       "\t<tr><th scope=row>superb</th><td>superb     </td><td>0.05530738 </td><td> 520       </td><td> 457       </td><td>1          </td><td>0.002431611</td><td> 12        </td><td> 12        </td><td>3.99232430 </td><td>0.220805003</td><td>1.0000000  </td></tr>\n",
       "\t<tr><th scope=row>awesom</th><td>awesom     </td><td>0.19495852 </td><td>1833       </td><td>1457       </td><td>1          </td><td>0.014387031</td><td> 71        </td><td> 58        </td><td>0.93473059 </td><td>0.182233691</td><td>0.9914686  </td></tr>\n",
       "\t<tr><th scope=row>best</th><td>best       </td><td>0.23356733 </td><td>2196       </td><td>1630       </td><td>1          </td><td>0.026950355</td><td>133        </td><td>107        </td><td>0.23185255 </td><td>0.054153181</td><td>0.9375459  </td></tr>\n",
       "\t<tr><th scope=row>excel</th><td>excel      </td><td>0.10082961 </td><td> 948       </td><td> 756       </td><td>1          </td><td>0.009321175</td><td> 46        </td><td> 40        </td><td>0.44813563 </td><td>0.045185342</td><td>0.9295009  </td></tr>\n",
       "\t<tr><th scope=row>love</th><td>love       </td><td>0.07583493 </td><td> 713       </td><td> 620       </td><td>1          </td><td>0.006484296</td><td> 32        </td><td> 30        </td><td>0.57279102 </td><td>0.043437566</td><td>0.9277479  </td></tr>\n",
       "\t<tr><th scope=row>five</th><td>five       </td><td>0.03956605 </td><td> 372       </td><td> 371       </td><td>1          </td><td>1.000000000</td><td>  1        </td><td>  1        </td><td>0.58079022 </td><td>0.022979575</td><td>0.8994543  </td></tr>\n",
       "\t<tr><th scope=row>super</th><td>super      </td><td>0.03201447 </td><td> 301       </td><td> 257       </td><td>1          </td><td>0.002634245</td><td> 13        </td><td> 11        </td><td>0.69925147 </td><td>0.022386162</td><td>0.8982917  </td></tr>\n",
       "\t<tr><th scope=row>amaz</th><td>amaz       </td><td>0.08657732 </td><td> 814       </td><td> 648       </td><td>1          </td><td>0.009929078</td><td> 49        </td><td> 39        </td><td>0.25598453 </td><td>0.022162455</td><td>0.8978454  </td></tr>\n",
       "\t<tr><th scope=row>nice</th><td>nice       </td><td>0.17581366 </td><td>1653       </td><td>1337       </td><td>1          </td><td>0.027355623</td><td>135        </td><td>116        </td><td>0.09647133 </td><td>0.016960977</td><td>0.8859593  </td></tr>\n",
       "\t<tr><th scope=row>must</th><td>must       </td><td>0.03137630 </td><td> 295       </td><td> 273       </td><td>1          </td><td>0.004255319</td><td> 21        </td><td> 20        </td><td>0.15037816 </td><td>0.004718311</td><td>0.8291041  </td></tr>\n",
       "</tbody>\n",
       "</table>\n"
      ],
      "text/latex": [
       "\\begin{tabular}{r|lllllllllll}\n",
       "  & terms & avg\\_count & tot\\_count & doc\\_freq & tf1\\_higherFreq & tf2\\_avg\\_count & tf2\\_tot\\_count & tf2\\_doc\\_freq & weight & weighted\\_count & weighted\\_count\\_scaled\\\\\n",
       "\\hline\n",
       "\tsuperb & superb      & 0.05530738  &  520        &  457        & 1           & 0.002431611 &  12         &  12         & 3.99232430  & 0.220805003 & 1.0000000  \\\\\n",
       "\tawesom & awesom      & 0.19495852  & 1833        & 1457        & 1           & 0.014387031 &  71         &  58         & 0.93473059  & 0.182233691 & 0.9914686  \\\\\n",
       "\tbest & best        & 0.23356733  & 2196        & 1630        & 1           & 0.026950355 & 133         & 107         & 0.23185255  & 0.054153181 & 0.9375459  \\\\\n",
       "\texcel & excel       & 0.10082961  &  948        &  756        & 1           & 0.009321175 &  46         &  40         & 0.44813563  & 0.045185342 & 0.9295009  \\\\\n",
       "\tlove & love        & 0.07583493  &  713        &  620        & 1           & 0.006484296 &  32         &  30         & 0.57279102  & 0.043437566 & 0.9277479  \\\\\n",
       "\tfive & five        & 0.03956605  &  372        &  371        & 1           & 1.000000000 &   1         &   1         & 0.58079022  & 0.022979575 & 0.8994543  \\\\\n",
       "\tsuper & super       & 0.03201447  &  301        &  257        & 1           & 0.002634245 &  13         &  11         & 0.69925147  & 0.022386162 & 0.8982917  \\\\\n",
       "\tamaz & amaz        & 0.08657732  &  814        &  648        & 1           & 0.009929078 &  49         &  39         & 0.25598453  & 0.022162455 & 0.8978454  \\\\\n",
       "\tnice & nice        & 0.17581366  & 1653        & 1337        & 1           & 0.027355623 & 135         & 116         & 0.09647133  & 0.016960977 & 0.8859593  \\\\\n",
       "\tmust & must        & 0.03137630  &  295        &  273        & 1           & 0.004255319 &  21         &  20         & 0.15037816  & 0.004718311 & 0.8291041  \\\\\n",
       "\\end{tabular}\n"
      ],
      "text/markdown": [
       "\n",
       "| <!--/--> | terms | avg_count | tot_count | doc_freq | tf1_higherFreq | tf2_avg_count | tf2_tot_count | tf2_doc_freq | weight | weighted_count | weighted_count_scaled |\n",
       "|---|---|---|---|---|---|---|---|---|---|---|---|\n",
       "| superb | superb      | 0.05530738  |  520        |  457        | 1           | 0.002431611 |  12         |  12         | 3.99232430  | 0.220805003 | 1.0000000   |\n",
       "| awesom | awesom      | 0.19495852  | 1833        | 1457        | 1           | 0.014387031 |  71         |  58         | 0.93473059  | 0.182233691 | 0.9914686   |\n",
       "| best | best        | 0.23356733  | 2196        | 1630        | 1           | 0.026950355 | 133         | 107         | 0.23185255  | 0.054153181 | 0.9375459   |\n",
       "| excel | excel       | 0.10082961  |  948        |  756        | 1           | 0.009321175 |  46         |  40         | 0.44813563  | 0.045185342 | 0.9295009   |\n",
       "| love | love        | 0.07583493  |  713        |  620        | 1           | 0.006484296 |  32         |  30         | 0.57279102  | 0.043437566 | 0.9277479   |\n",
       "| five | five        | 0.03956605  |  372        |  371        | 1           | 1.000000000 |   1         |   1         | 0.58079022  | 0.022979575 | 0.8994543   |\n",
       "| super | super       | 0.03201447  |  301        |  257        | 1           | 0.002634245 |  13         |  11         | 0.69925147  | 0.022386162 | 0.8982917   |\n",
       "| amaz | amaz        | 0.08657732  |  814        |  648        | 1           | 0.009929078 |  49         |  39         | 0.25598453  | 0.022162455 | 0.8978454   |\n",
       "| nice | nice        | 0.17581366  | 1653        | 1337        | 1           | 0.027355623 | 135         | 116         | 0.09647133  | 0.016960977 | 0.8859593   |\n",
       "| must | must        | 0.03137630  |  295        |  273        | 1           | 0.004255319 |  21         |  20         | 0.15037816  | 0.004718311 | 0.8291041   |\n",
       "\n"
      ],
      "text/plain": [
       "       terms  avg_count  tot_count doc_freq tf1_higherFreq tf2_avg_count\n",
       "superb superb 0.05530738  520       457     1              0.002431611  \n",
       "awesom awesom 0.19495852 1833      1457     1              0.014387031  \n",
       "best   best   0.23356733 2196      1630     1              0.026950355  \n",
       "excel  excel  0.10082961  948       756     1              0.009321175  \n",
       "love   love   0.07583493  713       620     1              0.006484296  \n",
       "five   five   0.03956605  372       371     1              1.000000000  \n",
       "super  super  0.03201447  301       257     1              0.002634245  \n",
       "amaz   amaz   0.08657732  814       648     1              0.009929078  \n",
       "nice   nice   0.17581366 1653      1337     1              0.027355623  \n",
       "must   must   0.03137630  295       273     1              0.004255319  \n",
       "       tf2_tot_count tf2_doc_freq weight     weighted_count\n",
       "superb  12            12          3.99232430 0.220805003   \n",
       "awesom  71            58          0.93473059 0.182233691   \n",
       "best   133           107          0.23185255 0.054153181   \n",
       "excel   46            40          0.44813563 0.045185342   \n",
       "love    32            30          0.57279102 0.043437566   \n",
       "five     1             1          0.58079022 0.022979575   \n",
       "super   13            11          0.69925147 0.022386162   \n",
       "amaz    49            39          0.25598453 0.022162455   \n",
       "nice   135           116          0.09647133 0.016960977   \n",
       "must    21            20          0.15037816 0.004718311   \n",
       "       weighted_count_scaled\n",
       "superb 1.0000000            \n",
       "awesom 0.9914686            \n",
       "best   0.9375459            \n",
       "excel  0.9295009            \n",
       "love   0.9277479            \n",
       "five   0.8994543            \n",
       "super  0.8982917            \n",
       "amaz   0.8978454            \n",
       "nice   0.8859593            \n",
       "must   0.8291041            "
      ]
     },
     "metadata": {},
     "output_type": "display_data"
    },
    {
     "name": "stdout",
     "output_type": "stream",
     "text": [
      "Bad Review DTM\n",
      "Number of words in the DTM:  239 \n",
      "Number of words unique to the bad DTM:  26 \n",
      "\n",
      "Top words in the bad review DTM by tfdf count"
     ]
    },
    {
     "data": {
      "text/html": [
       "<table>\n",
       "<thead><tr><th></th><th scope=col>terms</th><th scope=col>avg_count</th><th scope=col>tot_count</th><th scope=col>doc_freq</th><th scope=col>tf2_higherFreq</th><th scope=col>tf1_avg_count</th><th scope=col>tf1_tot_count</th><th scope=col>tf1_doc_freq</th><th scope=col>weight</th><th scope=col>weighted_count</th><th scope=col>weighted_count_scaled</th></tr></thead>\n",
       "<tbody>\n",
       "\t<tr><th scope=row>worst</th><td>worst      </td><td>0.13333333 </td><td> 658       </td><td> 466       </td><td>1          </td><td>0.003722612</td><td>  35       </td><td>  30       </td><td>2.119465215</td><td>0.282595362</td><td>1.0000000  </td></tr>\n",
       "\t<tr><th scope=row>wast</th><td>wast       </td><td>0.07558257 </td><td> 373       </td><td> 307       </td><td>1          </td><td>0.002446288</td><td>  23       </td><td>  22       </td><td>1.416849167</td><td>0.107089106</td><td>0.9592161  </td></tr>\n",
       "\t<tr><th scope=row>stop</th><td>stop       </td><td>0.14407295 </td><td> 711       </td><td> 559       </td><td>1          </td><td>0.008721549</td><td>  82       </td><td>  76       </td><td>0.213479239</td><td>0.030756583</td><td>0.9067815  </td></tr>\n",
       "\t<tr><th scope=row>return</th><td>return     </td><td>0.07639311 </td><td> 377       </td><td> 320       </td><td>1          </td><td>0.005211657</td><td>  49       </td><td>  43       </td><td>0.170066195</td><td>0.012991886</td><td>0.8705611  </td></tr>\n",
       "\t<tr><th scope=row>poor</th><td>poor       </td><td>0.13191489 </td><td> 651       </td><td> 511       </td><td>1          </td><td>0.011699638</td><td> 110       </td><td>  99       </td><td>0.069792418</td><td>0.009206659</td><td>0.8560861  </td></tr>\n",
       "\t<tr><th scope=row>bad</th><td>bad        </td><td>0.16149949 </td><td> 797       </td><td> 614       </td><td>1          </td><td>0.016592214</td><td> 156       </td><td> 133       </td><td>0.046518972</td><td>0.007512790</td><td>0.8475406  </td></tr>\n",
       "\t<tr><th scope=row>not</th><td>not        </td><td>0.90050659 </td><td>4444       </td><td>2785       </td><td>1          </td><td>0.204637311</td><td>1924       </td><td>1468       </td><td>0.003907357</td><td>0.003518600</td><td>0.8156591  </td></tr>\n",
       "\t<tr><th scope=row>work</th><td>work       </td><td>0.36028369 </td><td>1778       </td><td>1278       </td><td>1          </td><td>0.076685812</td><td> 721       </td><td> 617       </td><td>0.004862780</td><td>0.001751980</td><td>0.7863510  </td></tr>\n",
       "\t<tr><th scope=row>month</th><td>month      </td><td>0.21155015 </td><td>1044       </td><td> 862       </td><td>1          </td><td>0.039672410</td><td> 373       </td><td> 340       </td><td>0.007667568</td><td>0.001622075</td><td>0.7831130  </td></tr>\n",
       "\t<tr><th scope=row>pathet</th><td>pathet     </td><td>0.02310030 </td><td> 114       </td><td>  94       </td><td>1          </td><td>1.000000000</td><td>   1       </td><td>   1       </td><td>0.050160660</td><td>0.001158726</td><td>0.7689748  </td></tr>\n",
       "</tbody>\n",
       "</table>\n"
      ],
      "text/latex": [
       "\\begin{tabular}{r|lllllllllll}\n",
       "  & terms & avg\\_count & tot\\_count & doc\\_freq & tf2\\_higherFreq & tf1\\_avg\\_count & tf1\\_tot\\_count & tf1\\_doc\\_freq & weight & weighted\\_count & weighted\\_count\\_scaled\\\\\n",
       "\\hline\n",
       "\tworst & worst       & 0.13333333  &  658        &  466        & 1           & 0.003722612 &   35        &   30        & 2.119465215 & 0.282595362 & 1.0000000  \\\\\n",
       "\twast & wast        & 0.07558257  &  373        &  307        & 1           & 0.002446288 &   23        &   22        & 1.416849167 & 0.107089106 & 0.9592161  \\\\\n",
       "\tstop & stop        & 0.14407295  &  711        &  559        & 1           & 0.008721549 &   82        &   76        & 0.213479239 & 0.030756583 & 0.9067815  \\\\\n",
       "\treturn & return      & 0.07639311  &  377        &  320        & 1           & 0.005211657 &   49        &   43        & 0.170066195 & 0.012991886 & 0.8705611  \\\\\n",
       "\tpoor & poor        & 0.13191489  &  651        &  511        & 1           & 0.011699638 &  110        &   99        & 0.069792418 & 0.009206659 & 0.8560861  \\\\\n",
       "\tbad & bad         & 0.16149949  &  797        &  614        & 1           & 0.016592214 &  156        &  133        & 0.046518972 & 0.007512790 & 0.8475406  \\\\\n",
       "\tnot & not         & 0.90050659  & 4444        & 2785        & 1           & 0.204637311 & 1924        & 1468        & 0.003907357 & 0.003518600 & 0.8156591  \\\\\n",
       "\twork & work        & 0.36028369  & 1778        & 1278        & 1           & 0.076685812 &  721        &  617        & 0.004862780 & 0.001751980 & 0.7863510  \\\\\n",
       "\tmonth & month       & 0.21155015  & 1044        &  862        & 1           & 0.039672410 &  373        &  340        & 0.007667568 & 0.001622075 & 0.7831130  \\\\\n",
       "\tpathet & pathet      & 0.02310030  &  114        &   94        & 1           & 1.000000000 &    1        &    1        & 0.050160660 & 0.001158726 & 0.7689748  \\\\\n",
       "\\end{tabular}\n"
      ],
      "text/markdown": [
       "\n",
       "| <!--/--> | terms | avg_count | tot_count | doc_freq | tf2_higherFreq | tf1_avg_count | tf1_tot_count | tf1_doc_freq | weight | weighted_count | weighted_count_scaled |\n",
       "|---|---|---|---|---|---|---|---|---|---|---|---|\n",
       "| worst | worst       | 0.13333333  |  658        |  466        | 1           | 0.003722612 |   35        |   30        | 2.119465215 | 0.282595362 | 1.0000000   |\n",
       "| wast | wast        | 0.07558257  |  373        |  307        | 1           | 0.002446288 |   23        |   22        | 1.416849167 | 0.107089106 | 0.9592161   |\n",
       "| stop | stop        | 0.14407295  |  711        |  559        | 1           | 0.008721549 |   82        |   76        | 0.213479239 | 0.030756583 | 0.9067815   |\n",
       "| return | return      | 0.07639311  |  377        |  320        | 1           | 0.005211657 |   49        |   43        | 0.170066195 | 0.012991886 | 0.8705611   |\n",
       "| poor | poor        | 0.13191489  |  651        |  511        | 1           | 0.011699638 |  110        |   99        | 0.069792418 | 0.009206659 | 0.8560861   |\n",
       "| bad | bad         | 0.16149949  |  797        |  614        | 1           | 0.016592214 |  156        |  133        | 0.046518972 | 0.007512790 | 0.8475406   |\n",
       "| not | not         | 0.90050659  | 4444        | 2785        | 1           | 0.204637311 | 1924        | 1468        | 0.003907357 | 0.003518600 | 0.8156591   |\n",
       "| work | work        | 0.36028369  | 1778        | 1278        | 1           | 0.076685812 |  721        |  617        | 0.004862780 | 0.001751980 | 0.7863510   |\n",
       "| month | month       | 0.21155015  | 1044        |  862        | 1           | 0.039672410 |  373        |  340        | 0.007667568 | 0.001622075 | 0.7831130   |\n",
       "| pathet | pathet      | 0.02310030  |  114        |   94        | 1           | 1.000000000 |    1        |    1        | 0.050160660 | 0.001158726 | 0.7689748   |\n",
       "\n"
      ],
      "text/plain": [
       "       terms  avg_count  tot_count doc_freq tf2_higherFreq tf1_avg_count\n",
       "worst  worst  0.13333333  658       466     1              0.003722612  \n",
       "wast   wast   0.07558257  373       307     1              0.002446288  \n",
       "stop   stop   0.14407295  711       559     1              0.008721549  \n",
       "return return 0.07639311  377       320     1              0.005211657  \n",
       "poor   poor   0.13191489  651       511     1              0.011699638  \n",
       "bad    bad    0.16149949  797       614     1              0.016592214  \n",
       "not    not    0.90050659 4444      2785     1              0.204637311  \n",
       "work   work   0.36028369 1778      1278     1              0.076685812  \n",
       "month  month  0.21155015 1044       862     1              0.039672410  \n",
       "pathet pathet 0.02310030  114        94     1              1.000000000  \n",
       "       tf1_tot_count tf1_doc_freq weight      weighted_count\n",
       "worst    35            30         2.119465215 0.282595362   \n",
       "wast     23            22         1.416849167 0.107089106   \n",
       "stop     82            76         0.213479239 0.030756583   \n",
       "return   49            43         0.170066195 0.012991886   \n",
       "poor    110            99         0.069792418 0.009206659   \n",
       "bad     156           133         0.046518972 0.007512790   \n",
       "not    1924          1468         0.003907357 0.003518600   \n",
       "work    721           617         0.004862780 0.001751980   \n",
       "month   373           340         0.007667568 0.001622075   \n",
       "pathet    1             1         0.050160660 0.001158726   \n",
       "       weighted_count_scaled\n",
       "worst  1.0000000            \n",
       "wast   0.9592161            \n",
       "stop   0.9067815            \n",
       "return 0.8705611            \n",
       "poor   0.8560861            \n",
       "bad    0.8475406            \n",
       "not    0.8156591            \n",
       "work   0.7863510            \n",
       "month  0.7831130            \n",
       "pathet 0.7689748            "
      ]
     },
     "metadata": {},
     "output_type": "display_data"
    },
    {
     "name": "stdout",
     "output_type": "stream",
     "text": [
      "Number of rows in final good DTM:  9402 \n",
      "Number of columns in final good DTM:  359 \n",
      "\n",
      "Number of rows in final bad DTM:  4935 \n",
      "Number of columns in final bad DTM:  239 \n",
      "\n"
     ]
    }
   ],
   "source": [
    "doc_freq_threshold = 50\n",
    "diff_weight = 1\n",
    "output_scale = c(0,1)\n",
    "\n",
    "print('starting custom')\n",
    "output = custom_tfdf(good_dtm, bad_dtm, output_scale = output_scale, diff_weight = diff_weight, normByDocLength = FALSE)\n",
    "print('done')\n",
    "\n",
    "good_tf = output[[1]][(output[[1]]$doc_freq >= doc_freq_threshold), ]\n",
    "bad_tf = output[[2]][(output[[2]]$doc_freq >= doc_freq_threshold), ]\n",
    "union_tf = output[[3]][output[[3]]$terms %in% union(good_tf$terms, bad_tf$terms), ]\n",
    "good_dtm2 = output[[4]][ ,intersect(colnames(output[[4]]), good_tf$terms)]\n",
    "bad_dtm2 = output[[5]][ ,intersect(colnames(output[[5]]), bad_tf$terms)]\n",
    "\n",
    "\n",
    "cat('Good Review DTM\\nNumber of words in the DTM: ', length(good_tf$terms), '\\n')\n",
    "cat('Number of words unique to the good DTM: ', \n",
    "    length(setdiff(good_tf$terms, bad_tf$terms)), '\\n\\n')\n",
    "cat('Top words in the good review DTM by tfdf count')\n",
    "head(good_tf[order(-good_tf$weighted_count),], 10)\n",
    "\n",
    "cat('Bad Review DTM\\nNumber of words in the DTM: ', length(bad_tf$terms), '\\n')\n",
    "cat('Number of words unique to the bad DTM: ', \n",
    "    length(setdiff(bad_tf$terms, good_tf$terms)), '\\n\\n')\n",
    "cat('Top words in the bad review DTM by tfdf count')\n",
    "head(bad_tf[order(-bad_tf$weighted_count),], 10)\n",
    "\n",
    "cat('Number of rows in final good DTM: ', nrow(good_dtm2), '\\n')\n",
    "cat('Number of columns in final good DTM: ', ncol(good_dtm2), '\\n\\n')\n",
    "cat('Number of rows in final bad DTM: ', nrow(bad_dtm2), '\\n')\n",
    "cat('Number of columns in final bad DTM: ', ncol(bad_dtm2), '\\n\\n')"
   ]
  },
  {
   "cell_type": "markdown",
   "id": "261d1120",
   "metadata": {
    "tags": []
   },
   "source": [
    "## Visualizing the updated DTMs"
   ]
  },
  {
   "cell_type": "code",
   "execution_count": 50,
   "id": "b0c9b466",
   "metadata": {
    "tags": []
   },
   "outputs": [
    {
     "name": "stdout",
     "output_type": "stream",
     "text": [
      "Number of important words in the good reviews:  359 \n",
      "Number of important words in the bad reviews:  239 \n"
     ]
    },
    {
     "data": {
      "image/png": "[encoded data removed]",
      "text/plain": [
       "plot without title"
      ]
     },
     "metadata": {},
     "output_type": "display_data"
    },
    {
     "data": {
      "image/png": "[encoded data removed]",
      "text/plain": [
       "plot without title"
      ]
     },
     "metadata": {},
     "output_type": "display_data"
    }
   ],
   "source": [
    "# View the most important words in the good reviews\n",
    "plot_col = 'weighted_count'\n",
    "data1 = head(good_tf[order(-good_tf[[plot_col]]),], 60)\n",
    "data2 = head(bad_tf[order(-bad_tf[[plot_col]]),], 60)\n",
    "max_val = max(max(data1[[plot_col]]), max(data2[[plot_col]]))\n",
    "min_val = min(min(data1[[plot_col]]), min(data2[[plot_col]])) - .0001\n",
    "\n",
    "cat('Number of important words in the good reviews: ', nrow(good_tf), '\\n')\n",
    "\n",
    "ggplot( data = data1, \n",
    "            aes(reorder(terms, weighted_count), \n",
    "                weighted_count, fill = tf1_higherFreq)\n",
    "           ) +\n",
    "        geom_col(width = .8) +\n",
    "        labs(title = 'Most Important Words in the Good Review Set',\n",
    "             y = 'Weighted Value',\n",
    "             fill = 'Words More Common\\nin Good Reviews') +\n",
    "        coord_flip() +\n",
    "        scale_fill_manual(labels = c('Yes','No'),\n",
    "                          values = c('#E7B800', '#00AFBB')) +\n",
    "        scale_x_discrete(name = \"\", position = \"top\") +\n",
    "        scale_y_reverse(limits = c(max_val, min_val)) +\n",
    "        theme(legend.position = 'left', \n",
    "              legend.title = element_text(size = 8),\n",
    "              legend.text = element_text(size = 8))\n",
    "\n",
    "# View the most important words in the bad reviews\n",
    "cat('Number of important words in the bad reviews: ', nrow(bad_tf), '\\n')\n",
    "\n",
    "ggplot( data = data2, \n",
    "            aes(reorder(terms, weighted_count), \n",
    "                weighted_count, fill = tf2_higherFreq)\n",
    "           ) +\n",
    "        geom_col(width = .8) +\n",
    "        labs(title = 'Most Important Words in the Bad Review Set',\n",
    "             y = 'Weighted Value',\n",
    "             fill = 'Words More Common\\nin Bad Reviews') +\n",
    "        coord_flip() +\n",
    "        scale_fill_manual(labels = c('No', 'Yes'),\n",
    "                          values = c('#00AFBB', '#E7B800')) +\n",
    "        scale_x_discrete(name = \"\", position = \"bottom\") +\n",
    "        theme(legend.position = 'right', \n",
    "              legend.title = element_text(size = 8),\n",
    "              legend.text = element_text(size = 8)) +\n",
    "        ylim(min_val, max_val)\n",
    "\n",
    "\n"
   ]
  },
  {
   "cell_type": "code",
   "execution_count": 53,
   "id": "26d57734-ca0e-4a13-b7fd-6968284a7627",
   "metadata": {
    "tags": []
   },
   "outputs": [
    {
     "name": "stdout",
     "output_type": "stream",
     "text": [
      "Number of important words in the good reviews:  359 \n",
      "Number of important words in the bad reviews:  239 \n"
     ]
    },
    {
     "data": {
      "image/png": "[encoded data removed]",
      "text/plain": [
       "plot without title"
      ]
     },
     "metadata": {},
     "output_type": "display_data"
    },
    {
     "data": {
      "image/png": "[encoded data removed]",
      "text/plain": [
       "plot without title"
      ]
     },
     "metadata": {},
     "output_type": "display_data"
    }
   ],
   "source": [
    "# View the most important words in the good reviews\n",
    "plot_col = 'weighted_count_scaled'\n",
    "data1 = head(good_tf[order(-good_tf[[plot_col]]),], 60)\n",
    "data2 = head(bad_tf[order(-bad_tf[[plot_col]]),], 60)\n",
    "\n",
    "cat('Number of important words in the good reviews: ', nrow(good_tf), '\\n')\n",
    "\n",
    "ggplot( data = data1, \n",
    "            aes(reorder(terms, weighted_count_scaled), \n",
    "                weighted_count_scaled, fill = tf1_higherFreq)\n",
    "           ) +\n",
    "        geom_col(width = .8) +\n",
    "        labs(title = 'Most Important Words in the Good Review Set',\n",
    "             y = 'Weighted Value (Scaled Between 0-1)',\n",
    "             fill = 'Words More Common\\nin Good Reviews') +\n",
    "        coord_flip() +\n",
    "        scale_fill_manual(labels = c('Yes','No'),\n",
    "                          values = c('#E7B800', '#00AFBB')) +\n",
    "        scale_x_discrete(name = \"\", position = \"top\") +\n",
    "        scale_y_reverse(limits = c(1, 0)) +\n",
    "        theme(legend.position = 'left', \n",
    "              legend.title = element_text(size = 8),\n",
    "              legend.text = element_text(size = 8))\n",
    "\n",
    "# View the most important words in the bad reviews\n",
    "cat('Number of important words in the bad reviews: ', nrow(bad_tf), '\\n')\n",
    "\n",
    "ggplot( data = data2, \n",
    "            aes(reorder(terms, weighted_count_scaled), \n",
    "                weighted_count_scaled, fill = tf2_higherFreq)\n",
    "           ) +\n",
    "        geom_col(width = .8) +\n",
    "        labs(title = 'Most Important Words in the Bad Review Set',\n",
    "             y = 'Weighted Value (Scaled Between 0-1)',\n",
    "             fill = 'Words More Common\\nin Bad Reviews') +\n",
    "        coord_flip() +\n",
    "        scale_fill_manual(labels = c('No', 'Yes'),\n",
    "                          values = c('#00AFBB', '#E7B800')) +\n",
    "        scale_x_discrete(name = \"\", position = \"bottom\") +\n",
    "        theme(legend.position = 'right', \n",
    "              legend.title = element_text(size = 8),\n",
    "              legend.text = element_text(size = 8)) +\n",
    "        ylim(0,1)\n"
   ]
  },
  {
   "cell_type": "code",
   "execution_count": 52,
   "id": "8b9628c3-5122-42dd-9c89-6fc032af20e1",
   "metadata": {},
   "outputs": [
    {
     "name": "stdout",
     "output_type": "stream",
     "text": [
      "Number of important words in the good reviews:  359 \n",
      "Number of important words in the bad reviews:  239 \n"
     ]
    },
    {
     "data": {
      "image/png": "[encoded data removed]",
      "text/plain": [
       "plot without title"
      ]
     },
     "metadata": {},
     "output_type": "display_data"
    },
    {
     "data": {
      "image/png": "[encoded data removed]",
      "text/plain": [
       "plot without title"
      ]
     },
     "metadata": {},
     "output_type": "display_data"
    }
   ],
   "source": [
    "# View the most important words in the good reviews\n",
    "plot_col = 'weighted_count_scaled'\n",
    "data1 = good_tf\n",
    "data2 = bad_tf\n",
    "max_val = max(max(data1[[plot_col]]), max(data2[[plot_col]])) + .1\n",
    "min_val = min(min(data1[[plot_col]]), min(data2[[plot_col]])) - .1\n",
    "\n",
    "cat('Number of important words in the good reviews: ', nrow(good_tf), '\\n')\n",
    "\n",
    "ggplot( data = data1, \n",
    "            aes(reorder(terms, weighted_count_scaled), \n",
    "                weighted_count_scaled, fill = tf1_higherFreq)\n",
    "           ) +\n",
    "        geom_col(width = .8) +\n",
    "        labs(title = 'Most Important Words in the Good Review Set',\n",
    "             y = 'Weighted Value (Scaled Between 0-1)',\n",
    "             fill = 'Words More Common\\nin Good Reviews') +\n",
    "        coord_flip() +\n",
    "        scale_fill_manual(labels = c('No', 'Yes'),\n",
    "                          values = c('#00AFBB', '#E7B800')) +\n",
    "        scale_x_discrete(name = '', \n",
    "                         labels = element_blank(),\n",
    "                         position = \"top\") +\n",
    "        scale_y_reverse(limits = c(1, 0)) +\n",
    "        theme(legend.position = 'left', \n",
    "              legend.title = element_text(size = 8),\n",
    "              legend.text = element_text(size = 8))\n",
    "\n",
    "# View the most important words in the bad reviews\n",
    "cat('Number of important words in the bad reviews: ', nrow(bad_tf), '\\n')\n",
    "\n",
    "ggplot( data = data2, \n",
    "            aes(reorder(terms, weighted_count_scaled), \n",
    "                weighted_count_scaled, fill = tf2_higherFreq)\n",
    "           ) +\n",
    "        geom_col(width = .8) +\n",
    "        labs(title = 'Most Important Words in the Bad Review Set',\n",
    "             y = 'Weighted Value (Scaled Between 0-1)',\n",
    "             fill = 'Words More Common\\nin Bad Reviews') +\n",
    "        coord_flip() +\n",
    "        scale_fill_manual(labels = c('No', 'Yes'),\n",
    "                          values = c('#00AFBB', '#E7B800')) +\n",
    "        scale_x_discrete(name = \"\",\n",
    "                         labels = element_blank(),\n",
    "                         position = \"bottom\") +\n",
    "        theme(legend.position = 'right', \n",
    "              legend.title = element_text(size = 8),\n",
    "              legend.text = element_text(size = 8)) +\n",
    "        ylim(0,1)\n"
   ]
  },
  {
   "cell_type": "markdown",
   "id": "d55a9e67",
   "metadata": {
    "tags": []
   },
   "source": [
    "## Word clouds\n",
    "\n",
    "Red words are unique to the DTM, while blue words are shared between the good and bad review DTMs"
   ]
  },
  {
   "cell_type": "code",
   "execution_count": 54,
   "id": "639c8ee1",
   "metadata": {
    "tags": []
   },
   "outputs": [
    {
     "name": "stdout",
     "output_type": "stream",
     "text": [
      "Word Cloud: Good reviews\n",
      "Words unique to good reviews are highlighted in red"
     ]
    },
    {
     "data": {
      "image/png": "[encoded data removed]",
      "text/plain": [
       "plot without title"
      ]
     },
     "metadata": {},
     "output_type": "display_data"
    }
   ],
   "source": [
    "set.seed(100)\n",
    "data = head(good_tf[order(-good_tf$tot_count),], 200)\n",
    "\n",
    "cat('Word Cloud: Good reviews\\n')\n",
    "cat('Words unique to good reviews are highlighted in red')\n",
    "\n",
    "wordcloud(words = data$terms, \n",
    "          freq = data$tot_count, \n",
    "          #min.freq = 100,\n",
    "          random.order = FALSE,\n",
    "          rot.per = .35,\n",
    "          ordered.colors = TRUE,\n",
    "          colors = brewer.pal(8, 'Set1')[as.factor(data$tf1_higherFreq)])"
   ]
  },
  {
   "cell_type": "code",
   "execution_count": 55,
   "id": "b8819c52",
   "metadata": {
    "tags": []
   },
   "outputs": [
    {
     "name": "stdout",
     "output_type": "stream",
     "text": [
      "Word Cloud: Good reviews\n",
      "Words unique to good reviews are highlighted in red\n",
      "Top 5 words"
     ]
    },
    {
     "data": {
      "text/html": [
       "<table>\n",
       "<thead><tr><th></th><th scope=col>terms</th><th scope=col>avg_count</th><th scope=col>tot_count</th><th scope=col>doc_freq</th><th scope=col>tf1_higherFreq</th><th scope=col>tf2_avg_count</th><th scope=col>tf2_tot_count</th><th scope=col>tf2_doc_freq</th><th scope=col>weight</th><th scope=col>weighted_count</th><th scope=col>weighted_count_scaled</th></tr></thead>\n",
       "<tbody>\n",
       "\t<tr><th scope=row>superb</th><td>superb     </td><td>0.05530738 </td><td> 520       </td><td> 457       </td><td>1          </td><td>0.002431611</td><td> 12        </td><td> 12        </td><td>3.9923243  </td><td>0.22080500 </td><td>1.0000000  </td></tr>\n",
       "\t<tr><th scope=row>awesom</th><td>awesom     </td><td>0.19495852 </td><td>1833       </td><td>1457       </td><td>1          </td><td>0.014387031</td><td> 71        </td><td> 58        </td><td>0.9347306  </td><td>0.18223369 </td><td>0.9914686  </td></tr>\n",
       "\t<tr><th scope=row>best</th><td>best       </td><td>0.23356733 </td><td>2196       </td><td>1630       </td><td>1          </td><td>0.026950355</td><td>133        </td><td>107        </td><td>0.2318526  </td><td>0.05415318 </td><td>0.9375459  </td></tr>\n",
       "\t<tr><th scope=row>excel</th><td>excel      </td><td>0.10082961 </td><td> 948       </td><td> 756       </td><td>1          </td><td>0.009321175</td><td> 46        </td><td> 40        </td><td>0.4481356  </td><td>0.04518534 </td><td>0.9295009  </td></tr>\n",
       "\t<tr><th scope=row>love</th><td>love       </td><td>0.07583493 </td><td> 713       </td><td> 620       </td><td>1          </td><td>0.006484296</td><td> 32        </td><td> 30        </td><td>0.5727910  </td><td>0.04343757 </td><td>0.9277479  </td></tr>\n",
       "</tbody>\n",
       "</table>\n"
      ],
      "text/latex": [
       "\\begin{tabular}{r|lllllllllll}\n",
       "  & terms & avg\\_count & tot\\_count & doc\\_freq & tf1\\_higherFreq & tf2\\_avg\\_count & tf2\\_tot\\_count & tf2\\_doc\\_freq & weight & weighted\\_count & weighted\\_count\\_scaled\\\\\n",
       "\\hline\n",
       "\tsuperb & superb      & 0.05530738  &  520        &  457        & 1           & 0.002431611 &  12         &  12         & 3.9923243   & 0.22080500  & 1.0000000  \\\\\n",
       "\tawesom & awesom      & 0.19495852  & 1833        & 1457        & 1           & 0.014387031 &  71         &  58         & 0.9347306   & 0.18223369  & 0.9914686  \\\\\n",
       "\tbest & best        & 0.23356733  & 2196        & 1630        & 1           & 0.026950355 & 133         & 107         & 0.2318526   & 0.05415318  & 0.9375459  \\\\\n",
       "\texcel & excel       & 0.10082961  &  948        &  756        & 1           & 0.009321175 &  46         &  40         & 0.4481356   & 0.04518534  & 0.9295009  \\\\\n",
       "\tlove & love        & 0.07583493  &  713        &  620        & 1           & 0.006484296 &  32         &  30         & 0.5727910   & 0.04343757  & 0.9277479  \\\\\n",
       "\\end{tabular}\n"
      ],
      "text/markdown": [
       "\n",
       "| <!--/--> | terms | avg_count | tot_count | doc_freq | tf1_higherFreq | tf2_avg_count | tf2_tot_count | tf2_doc_freq | weight | weighted_count | weighted_count_scaled |\n",
       "|---|---|---|---|---|---|---|---|---|---|---|---|\n",
       "| superb | superb      | 0.05530738  |  520        |  457        | 1           | 0.002431611 |  12         |  12         | 3.9923243   | 0.22080500  | 1.0000000   |\n",
       "| awesom | awesom      | 0.19495852  | 1833        | 1457        | 1           | 0.014387031 |  71         |  58         | 0.9347306   | 0.18223369  | 0.9914686   |\n",
       "| best | best        | 0.23356733  | 2196        | 1630        | 1           | 0.026950355 | 133         | 107         | 0.2318526   | 0.05415318  | 0.9375459   |\n",
       "| excel | excel       | 0.10082961  |  948        |  756        | 1           | 0.009321175 |  46         |  40         | 0.4481356   | 0.04518534  | 0.9295009   |\n",
       "| love | love        | 0.07583493  |  713        |  620        | 1           | 0.006484296 |  32         |  30         | 0.5727910   | 0.04343757  | 0.9277479   |\n",
       "\n"
      ],
      "text/plain": [
       "       terms  avg_count  tot_count doc_freq tf1_higherFreq tf2_avg_count\n",
       "superb superb 0.05530738  520       457     1              0.002431611  \n",
       "awesom awesom 0.19495852 1833      1457     1              0.014387031  \n",
       "best   best   0.23356733 2196      1630     1              0.026950355  \n",
       "excel  excel  0.10082961  948       756     1              0.009321175  \n",
       "love   love   0.07583493  713       620     1              0.006484296  \n",
       "       tf2_tot_count tf2_doc_freq weight    weighted_count\n",
       "superb  12            12          3.9923243 0.22080500    \n",
       "awesom  71            58          0.9347306 0.18223369    \n",
       "best   133           107          0.2318526 0.05415318    \n",
       "excel   46            40          0.4481356 0.04518534    \n",
       "love    32            30          0.5727910 0.04343757    \n",
       "       weighted_count_scaled\n",
       "superb 1.0000000            \n",
       "awesom 0.9914686            \n",
       "best   0.9375459            \n",
       "excel  0.9295009            \n",
       "love   0.9277479            "
      ]
     },
     "metadata": {},
     "output_type": "display_data"
    },
    {
     "data": {
      "image/png": "[encoded data removed]",
      "text/plain": [
       "plot without title"
      ]
     },
     "metadata": {},
     "output_type": "display_data"
    }
   ],
   "source": [
    "set.seed(100)\n",
    "data = head(good_tf[order(-good_tf$weighted_count),], 200)\n",
    "\n",
    "# Same word cloud, but emphasize the words unique to good reviews\n",
    "cat('Word Cloud: Good reviews\\n')\n",
    "cat('Words unique to good reviews are highlighted in red')\n",
    "cat('\\n')\n",
    "cat('Top 5 words')\n",
    "head(data, 5)\n",
    "\n",
    "\n",
    "wordcloud(words = data$terms, \n",
    "          freq = data$weighted_count, \n",
    "          random.order = FALSE,\n",
    "          rot.per = .35,\n",
    "          ordered.colors = TRUE,\n",
    "          colors = brewer.pal(8, 'Set1')[factor(data$tf1_higherFreq)])"
   ]
  },
  {
   "cell_type": "code",
   "execution_count": 56,
   "id": "464f02f8-f343-47ac-9240-29789cb69b34",
   "metadata": {},
   "outputs": [
    {
     "name": "stdout",
     "output_type": "stream",
     "text": [
      "Word Cloud: Bad reviews\n",
      "Words more common in bad reviews are blue\n",
      "Top 5 words"
     ]
    },
    {
     "data": {
      "text/html": [
       "<table>\n",
       "<thead><tr><th></th><th scope=col>terms</th><th scope=col>avg_count</th><th scope=col>tot_count</th><th scope=col>doc_freq</th><th scope=col>tf2_higherFreq</th><th scope=col>tf1_avg_count</th><th scope=col>tf1_tot_count</th><th scope=col>tf1_doc_freq</th><th scope=col>weight</th><th scope=col>weighted_count</th><th scope=col>weighted_count_scaled</th></tr></thead>\n",
       "<tbody>\n",
       "\t<tr><th scope=row>not</th><td>not         </td><td>0.9005066   </td><td>4444        </td><td>2785        </td><td>1           </td><td>0.20463731  </td><td>1924        </td><td>1468        </td><td>3.907357e-03</td><td>3.518600e-03</td><td>0.8156591   </td></tr>\n",
       "\t<tr><th scope=row>product</th><td>product     </td><td>0.5495441   </td><td>2712        </td><td>1746        </td><td>0           </td><td>0.49329930  </td><td>4638        </td><td>3335        </td><td>6.910544e-05</td><td>3.797648e-05</td><td>0.6253122   </td></tr>\n",
       "\t<tr><th scope=row>qualiti</th><td>qualiti     </td><td>0.4944276   </td><td>2440        </td><td>1720        </td><td>0           </td><td>0.54222506  </td><td>5098        </td><td>3799        </td><td>4.003917e-05</td><td>1.979647e-05</td><td>0.5979313   </td></tr>\n",
       "\t<tr><th scope=row>sound</th><td>sound       </td><td>0.4753799   </td><td>2346        </td><td>1710        </td><td>0           </td><td>0.58338651  </td><td>5485        </td><td>4250        </td><td>2.841554e-05</td><td>1.350818e-05</td><td>0.5818672   </td></tr>\n",
       "\t<tr><th scope=row>good</th><td>good        </td><td>0.4579534   </td><td>2260        </td><td>1570        </td><td>0           </td><td>0.82705807  </td><td>7776        </td><td>4836        </td><td>1.058677e-05</td><td>4.848249e-06</td><td>0.5388001   </td></tr>\n",
       "\t<tr><th scope=row>work</th><td>work        </td><td>0.3602837   </td><td>1778        </td><td>1278        </td><td>1           </td><td>0.07668581  </td><td> 721        </td><td> 617        </td><td>4.862780e-03</td><td>1.751980e-03</td><td>0.7863510   </td></tr>\n",
       "\t<tr><th scope=row>one</th><td>one         </td><td>0.2218845   </td><td>1095        </td><td> 879        </td><td>0           </td><td>0.15241438  </td><td>1433        </td><td>1146        </td><td>1.728964e-04</td><td>3.836304e-05</td><td>0.6257379   </td></tr>\n",
       "\t<tr><th scope=row>earphon</th><td>earphon     </td><td>0.2208713   </td><td>1090        </td><td> 770        </td><td>0           </td><td>0.24356520  </td><td>2290        </td><td>1534        </td><td>4.390291e-05</td><td>9.696894e-06</td><td>0.5679347   </td></tr>\n",
       "\t<tr><th scope=row>month</th><td>month       </td><td>0.2115502   </td><td>1044        </td><td> 862        </td><td>1           </td><td>0.03967241  </td><td> 373        </td><td> 340        </td><td>7.667568e-03</td><td>1.622075e-03</td><td>0.7831130   </td></tr>\n",
       "\t<tr><th scope=row>bass</th><td>bass        </td><td>0.1975684   </td><td> 975        </td><td> 664        </td><td>0           </td><td>0.26738992  </td><td>2514        </td><td>1964        </td><td>1.963140e-05</td><td>3.878544e-06</td><td>0.5294208   </td></tr>\n",
       "</tbody>\n",
       "</table>\n"
      ],
      "text/latex": [
       "\\begin{tabular}{r|lllllllllll}\n",
       "  & terms & avg\\_count & tot\\_count & doc\\_freq & tf2\\_higherFreq & tf1\\_avg\\_count & tf1\\_tot\\_count & tf1\\_doc\\_freq & weight & weighted\\_count & weighted\\_count\\_scaled\\\\\n",
       "\\hline\n",
       "\tnot & not          & 0.9005066    & 4444         & 2785         & 1            & 0.20463731   & 1924         & 1468         & 3.907357e-03 & 3.518600e-03 & 0.8156591   \\\\\n",
       "\tproduct & product      & 0.5495441    & 2712         & 1746         & 0            & 0.49329930   & 4638         & 3335         & 6.910544e-05 & 3.797648e-05 & 0.6253122   \\\\\n",
       "\tqualiti & qualiti      & 0.4944276    & 2440         & 1720         & 0            & 0.54222506   & 5098         & 3799         & 4.003917e-05 & 1.979647e-05 & 0.5979313   \\\\\n",
       "\tsound & sound        & 0.4753799    & 2346         & 1710         & 0            & 0.58338651   & 5485         & 4250         & 2.841554e-05 & 1.350818e-05 & 0.5818672   \\\\\n",
       "\tgood & good         & 0.4579534    & 2260         & 1570         & 0            & 0.82705807   & 7776         & 4836         & 1.058677e-05 & 4.848249e-06 & 0.5388001   \\\\\n",
       "\twork & work         & 0.3602837    & 1778         & 1278         & 1            & 0.07668581   &  721         &  617         & 4.862780e-03 & 1.751980e-03 & 0.7863510   \\\\\n",
       "\tone & one          & 0.2218845    & 1095         &  879         & 0            & 0.15241438   & 1433         & 1146         & 1.728964e-04 & 3.836304e-05 & 0.6257379   \\\\\n",
       "\tearphon & earphon      & 0.2208713    & 1090         &  770         & 0            & 0.24356520   & 2290         & 1534         & 4.390291e-05 & 9.696894e-06 & 0.5679347   \\\\\n",
       "\tmonth & month        & 0.2115502    & 1044         &  862         & 1            & 0.03967241   &  373         &  340         & 7.667568e-03 & 1.622075e-03 & 0.7831130   \\\\\n",
       "\tbass & bass         & 0.1975684    &  975         &  664         & 0            & 0.26738992   & 2514         & 1964         & 1.963140e-05 & 3.878544e-06 & 0.5294208   \\\\\n",
       "\\end{tabular}\n"
      ],
      "text/markdown": [
       "\n",
       "| <!--/--> | terms | avg_count | tot_count | doc_freq | tf2_higherFreq | tf1_avg_count | tf1_tot_count | tf1_doc_freq | weight | weighted_count | weighted_count_scaled |\n",
       "|---|---|---|---|---|---|---|---|---|---|---|---|\n",
       "| not | not          | 0.9005066    | 4444         | 2785         | 1            | 0.20463731   | 1924         | 1468         | 3.907357e-03 | 3.518600e-03 | 0.8156591    |\n",
       "| product | product      | 0.5495441    | 2712         | 1746         | 0            | 0.49329930   | 4638         | 3335         | 6.910544e-05 | 3.797648e-05 | 0.6253122    |\n",
       "| qualiti | qualiti      | 0.4944276    | 2440         | 1720         | 0            | 0.54222506   | 5098         | 3799         | 4.003917e-05 | 1.979647e-05 | 0.5979313    |\n",
       "| sound | sound        | 0.4753799    | 2346         | 1710         | 0            | 0.58338651   | 5485         | 4250         | 2.841554e-05 | 1.350818e-05 | 0.5818672    |\n",
       "| good | good         | 0.4579534    | 2260         | 1570         | 0            | 0.82705807   | 7776         | 4836         | 1.058677e-05 | 4.848249e-06 | 0.5388001    |\n",
       "| work | work         | 0.3602837    | 1778         | 1278         | 1            | 0.07668581   |  721         |  617         | 4.862780e-03 | 1.751980e-03 | 0.7863510    |\n",
       "| one | one          | 0.2218845    | 1095         |  879         | 0            | 0.15241438   | 1433         | 1146         | 1.728964e-04 | 3.836304e-05 | 0.6257379    |\n",
       "| earphon | earphon      | 0.2208713    | 1090         |  770         | 0            | 0.24356520   | 2290         | 1534         | 4.390291e-05 | 9.696894e-06 | 0.5679347    |\n",
       "| month | month        | 0.2115502    | 1044         |  862         | 1            | 0.03967241   |  373         |  340         | 7.667568e-03 | 1.622075e-03 | 0.7831130    |\n",
       "| bass | bass         | 0.1975684    |  975         |  664         | 0            | 0.26738992   | 2514         | 1964         | 1.963140e-05 | 3.878544e-06 | 0.5294208    |\n",
       "\n"
      ],
      "text/plain": [
       "        terms   avg_count tot_count doc_freq tf2_higherFreq tf1_avg_count\n",
       "not     not     0.9005066 4444      2785     1              0.20463731   \n",
       "product product 0.5495441 2712      1746     0              0.49329930   \n",
       "qualiti qualiti 0.4944276 2440      1720     0              0.54222506   \n",
       "sound   sound   0.4753799 2346      1710     0              0.58338651   \n",
       "good    good    0.4579534 2260      1570     0              0.82705807   \n",
       "work    work    0.3602837 1778      1278     1              0.07668581   \n",
       "one     one     0.2218845 1095       879     0              0.15241438   \n",
       "earphon earphon 0.2208713 1090       770     0              0.24356520   \n",
       "month   month   0.2115502 1044       862     1              0.03967241   \n",
       "bass    bass    0.1975684  975       664     0              0.26738992   \n",
       "        tf1_tot_count tf1_doc_freq weight       weighted_count\n",
       "not     1924          1468         3.907357e-03 3.518600e-03  \n",
       "product 4638          3335         6.910544e-05 3.797648e-05  \n",
       "qualiti 5098          3799         4.003917e-05 1.979647e-05  \n",
       "sound   5485          4250         2.841554e-05 1.350818e-05  \n",
       "good    7776          4836         1.058677e-05 4.848249e-06  \n",
       "work     721           617         4.862780e-03 1.751980e-03  \n",
       "one     1433          1146         1.728964e-04 3.836304e-05  \n",
       "earphon 2290          1534         4.390291e-05 9.696894e-06  \n",
       "month    373           340         7.667568e-03 1.622075e-03  \n",
       "bass    2514          1964         1.963140e-05 3.878544e-06  \n",
       "        weighted_count_scaled\n",
       "not     0.8156591            \n",
       "product 0.6253122            \n",
       "qualiti 0.5979313            \n",
       "sound   0.5818672            \n",
       "good    0.5388001            \n",
       "work    0.7863510            \n",
       "one     0.6257379            \n",
       "earphon 0.5679347            \n",
       "month   0.7831130            \n",
       "bass    0.5294208            "
      ]
     },
     "metadata": {},
     "output_type": "display_data"
    },
    {
     "data": {
      "image/png": "[encoded data removed]",
      "text/plain": [
       "plot without title"
      ]
     },
     "metadata": {},
     "output_type": "display_data"
    }
   ],
   "source": [
    "set.seed(100)\n",
    "data = head(bad_tf[order(-bad_tf$tot_count),], 200)\n",
    "\n",
    "# View the data in a wordcloud\n",
    "cat('Word Cloud: Bad reviews\\n')\n",
    "cat('Words more common in bad reviews are blue')\n",
    "cat('\\n')\n",
    "cat('Top 5 words')\n",
    "head(data, 10)\n",
    "\n",
    "wordcloud(words = data$terms, \n",
    "          freq = data$tot_count, \n",
    "          max.words = 200,\n",
    "          random.order = FALSE,\n",
    "          random.color = FALSE,\n",
    "          rot.per = .35,\n",
    "          ordered.colors = TRUE,\n",
    "          colors = brewer.pal(8, 'Set1')[factor(data$tf2_higherFreq)])"
   ]
  },
  {
   "cell_type": "code",
   "execution_count": 57,
   "id": "f984fcc4",
   "metadata": {
    "tags": []
   },
   "outputs": [
    {
     "name": "stdout",
     "output_type": "stream",
     "text": [
      "Word Cloud: Bad reviews\n",
      "Words more common in bad reviews are blue\n",
      "Top 5 words"
     ]
    },
    {
     "data": {
      "text/html": [
       "<table>\n",
       "<thead><tr><th></th><th scope=col>terms</th><th scope=col>avg_count</th><th scope=col>tot_count</th><th scope=col>doc_freq</th><th scope=col>tf2_higherFreq</th><th scope=col>tf1_avg_count</th><th scope=col>tf1_tot_count</th><th scope=col>tf1_doc_freq</th><th scope=col>weight</th><th scope=col>weighted_count</th><th scope=col>weighted_count_scaled</th></tr></thead>\n",
       "<tbody>\n",
       "\t<tr><th scope=row>worst</th><td>worst      </td><td>0.13333333 </td><td>658        </td><td>466        </td><td>1          </td><td>0.003722612</td><td> 35        </td><td>30         </td><td>2.11946522 </td><td>0.282595362</td><td>1.0000000  </td></tr>\n",
       "\t<tr><th scope=row>wast</th><td>wast       </td><td>0.07558257 </td><td>373        </td><td>307        </td><td>1          </td><td>0.002446288</td><td> 23        </td><td>22         </td><td>1.41684917 </td><td>0.107089106</td><td>0.9592161  </td></tr>\n",
       "\t<tr><th scope=row>stop</th><td>stop       </td><td>0.14407295 </td><td>711        </td><td>559        </td><td>1          </td><td>0.008721549</td><td> 82        </td><td>76         </td><td>0.21347924 </td><td>0.030756583</td><td>0.9067815  </td></tr>\n",
       "\t<tr><th scope=row>return</th><td>return     </td><td>0.07639311 </td><td>377        </td><td>320        </td><td>1          </td><td>0.005211657</td><td> 49        </td><td>43         </td><td>0.17006620 </td><td>0.012991886</td><td>0.8705611  </td></tr>\n",
       "\t<tr><th scope=row>poor</th><td>poor       </td><td>0.13191489 </td><td>651        </td><td>511        </td><td>1          </td><td>0.011699638</td><td>110        </td><td>99         </td><td>0.06979242 </td><td>0.009206659</td><td>0.8560861  </td></tr>\n",
       "</tbody>\n",
       "</table>\n"
      ],
      "text/latex": [
       "\\begin{tabular}{r|lllllllllll}\n",
       "  & terms & avg\\_count & tot\\_count & doc\\_freq & tf2\\_higherFreq & tf1\\_avg\\_count & tf1\\_tot\\_count & tf1\\_doc\\_freq & weight & weighted\\_count & weighted\\_count\\_scaled\\\\\n",
       "\\hline\n",
       "\tworst & worst       & 0.13333333  & 658         & 466         & 1           & 0.003722612 &  35         & 30          & 2.11946522  & 0.282595362 & 1.0000000  \\\\\n",
       "\twast & wast        & 0.07558257  & 373         & 307         & 1           & 0.002446288 &  23         & 22          & 1.41684917  & 0.107089106 & 0.9592161  \\\\\n",
       "\tstop & stop        & 0.14407295  & 711         & 559         & 1           & 0.008721549 &  82         & 76          & 0.21347924  & 0.030756583 & 0.9067815  \\\\\n",
       "\treturn & return      & 0.07639311  & 377         & 320         & 1           & 0.005211657 &  49         & 43          & 0.17006620  & 0.012991886 & 0.8705611  \\\\\n",
       "\tpoor & poor        & 0.13191489  & 651         & 511         & 1           & 0.011699638 & 110         & 99          & 0.06979242  & 0.009206659 & 0.8560861  \\\\\n",
       "\\end{tabular}\n"
      ],
      "text/markdown": [
       "\n",
       "| <!--/--> | terms | avg_count | tot_count | doc_freq | tf2_higherFreq | tf1_avg_count | tf1_tot_count | tf1_doc_freq | weight | weighted_count | weighted_count_scaled |\n",
       "|---|---|---|---|---|---|---|---|---|---|---|---|\n",
       "| worst | worst       | 0.13333333  | 658         | 466         | 1           | 0.003722612 |  35         | 30          | 2.11946522  | 0.282595362 | 1.0000000   |\n",
       "| wast | wast        | 0.07558257  | 373         | 307         | 1           | 0.002446288 |  23         | 22          | 1.41684917  | 0.107089106 | 0.9592161   |\n",
       "| stop | stop        | 0.14407295  | 711         | 559         | 1           | 0.008721549 |  82         | 76          | 0.21347924  | 0.030756583 | 0.9067815   |\n",
       "| return | return      | 0.07639311  | 377         | 320         | 1           | 0.005211657 |  49         | 43          | 0.17006620  | 0.012991886 | 0.8705611   |\n",
       "| poor | poor        | 0.13191489  | 651         | 511         | 1           | 0.011699638 | 110         | 99          | 0.06979242  | 0.009206659 | 0.8560861   |\n",
       "\n"
      ],
      "text/plain": [
       "       terms  avg_count  tot_count doc_freq tf2_higherFreq tf1_avg_count\n",
       "worst  worst  0.13333333 658       466      1              0.003722612  \n",
       "wast   wast   0.07558257 373       307      1              0.002446288  \n",
       "stop   stop   0.14407295 711       559      1              0.008721549  \n",
       "return return 0.07639311 377       320      1              0.005211657  \n",
       "poor   poor   0.13191489 651       511      1              0.011699638  \n",
       "       tf1_tot_count tf1_doc_freq weight     weighted_count\n",
       "worst   35           30           2.11946522 0.282595362   \n",
       "wast    23           22           1.41684917 0.107089106   \n",
       "stop    82           76           0.21347924 0.030756583   \n",
       "return  49           43           0.17006620 0.012991886   \n",
       "poor   110           99           0.06979242 0.009206659   \n",
       "       weighted_count_scaled\n",
       "worst  1.0000000            \n",
       "wast   0.9592161            \n",
       "stop   0.9067815            \n",
       "return 0.8705611            \n",
       "poor   0.8560861            "
      ]
     },
     "metadata": {},
     "output_type": "display_data"
    },
    {
     "data": {
      "image/png": "[encoded data removed]",
      "text/plain": [
       "plot without title"
      ]
     },
     "metadata": {},
     "output_type": "display_data"
    }
   ],
   "source": [
    "set.seed(100)\n",
    "data = head(bad_tf[order(-bad_tf$weighted_count),], 200)\n",
    "\n",
    "# Same word cloud, but emphasize the words unique to good reviews\n",
    "cat('Word Cloud: Bad reviews\\n')\n",
    "cat('Words more common in bad reviews are blue')\n",
    "cat('\\n')\n",
    "cat('Top 5 words')\n",
    "head(data, 5)\n",
    "\n",
    "wordcloud(words = data$terms, \n",
    "          freq = data$weighted_count, \n",
    "          random.order = FALSE,\n",
    "          random.color = FALSE,\n",
    "          ordered.colors = TRUE,\n",
    "          rot.per = .35,\n",
    "          colors = brewer.pal(8, 'Set1')[factor(data$tf2_higherFreq)])"
   ]
  },
  {
   "cell_type": "markdown",
   "id": "c04c0755",
   "metadata": {},
   "source": [
    "## Analysis of results\n",
    "\n",
    "By adding a weight to punish words shared between sets based on the relative proportion of total importance between sets, the resulting list of important words is much more indicative of review content.\n",
    "\n",
    "The good reviews have a lot shared words at the top of the list ('good', 'best', 'product') while the bad reviews have more unique words at the top ('bad', 'worst', 'work').\n",
    "\n",
    "The good reviews mainly had words indicating customer sentiment, though there were a few words noting physical features ('sound', 'batteri', 'bass'). The bad reviews similarly had customer sentiment terms, but they included more words noting physical features. These include the aforementioned words from the good reviews, but also include words like 'mic', 'connect', 'call'. \n",
    "\n",
    "An interesting unique term from the top of the bad review DTM is 'month.' This is likely referring to the one month return policy on Amazon, or that the product may have stopped working after a month.\n"
   ]
  }
 ],
 "metadata": {
  "kernelspec": {
   "display_name": "R",
   "language": "R",
   "name": "ir"
  },
  "language_info": {
   "codemirror_mode": "r",
   "file_extension": ".r",
   "mimetype": "text/x-r-source",
   "name": "R",
   "pygments_lexer": "r",
   "version": "3.6.1"
  }
 },
 "nbformat": 4,
 "nbformat_minor": 5
}
